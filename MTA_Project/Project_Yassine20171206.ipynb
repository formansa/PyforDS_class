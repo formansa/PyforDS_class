{
 "cells": [
  {
   "cell_type": "markdown",
   "metadata": {},
   "source": [
    "# General Set Up"
   ]
  },
  {
   "cell_type": "code",
   "execution_count": 1,
   "metadata": {
    "collapsed": false
   },
   "outputs": [],
   "source": [
    "import pandas as pd\n",
    "import numpy as np\n",
    "import time\n",
    "import smtplib\n",
    "from bs4 import BeautifulSoup\n",
    "import xml.etree.ElementTree as ET\n",
    "import requests\n",
    "\n",
    "## Creating XML Tree Object ##\n",
    "\n",
    "TARGET = 'servicestatus.json'\n",
    "SOURCE = 'http://web.mta.info/status/serviceStatus.txt'\n",
    "\n",
    "response = requests.get(SOURCE)\n",
    "xml_string = response.text\n",
    "root = ET.fromstring(xml_string)\n",
    "# ET.fromstring converts a string of XML content to a XML tree object.\n",
    "\n",
    "\n",
    "## Creating a list of all lines ##\n",
    "\n",
    "alllines=['123','456','7','ACE','BDFM','G','JZ','L','NQR','S','SIR']"
   ]
  },
  {
   "cell_type": "markdown",
   "metadata": {},
   "source": [
    "# Function to intake xml root and return full list of MTA lines present in the XML. \n",
    "(Should always be the same.) "
   ]
  },
  {
   "cell_type": "code",
   "execution_count": 5,
   "metadata": {
    "collapsed": false
   },
   "outputs": [
    {
     "data": {
      "text/plain": [
       "[(0, '123'),\n",
       " (1, '456'),\n",
       " (2, '7'),\n",
       " (3, 'ACE'),\n",
       " (4, 'BDFM'),\n",
       " (5, 'G'),\n",
       " (6, 'JZ'),\n",
       " (7, 'L'),\n",
       " (8, 'NQR'),\n",
       " (9, 'S'),\n",
       " (10, 'SIR')]"
      ]
     },
     "execution_count": 5,
     "metadata": {},
     "output_type": "execute_result"
    }
   ],
   "source": [
    "def getFullLineList(xmlroot):\n",
    "    FullLineList = []\n",
    "    num = 0\n",
    "    \n",
    "    while num < len(root[2]):\n",
    "        FullLineList.append((num,root[2][num][0].text))\n",
    "        num += 1\n",
    "        \n",
    "    return FullLineList\n",
    "\n",
    "FullLineList = getFullLineList(root)\n",
    "FullLineList"
   ]
  },
  {
   "cell_type": "markdown",
   "metadata": {},
   "source": [
    "# Function to intake service status xml object and return lines with service changes as a list of tuples"
   ]
  },
  {
   "cell_type": "code",
   "execution_count": 2,
   "metadata": {
    "collapsed": false
   },
   "outputs": [
    {
     "data": {
      "text/plain": [
       "[('123', 'PLANNED WORK'),\n",
       " ('456', 'PLANNED WORK'),\n",
       " ('BDFM', 'DELAYS'),\n",
       " ('NQR', 'DELAYS')]"
      ]
     },
     "execution_count": 2,
     "metadata": {},
     "output_type": "execute_result"
    }
   ],
   "source": [
    "def Return_SC_Lines(xmlroot):\n",
    "    # xmlroot must be an xml object of the MTA Service Status page using xml Element Tree package\n",
    "    num_lines = list(range(0,len(xmlroot[2])))\n",
    "    SC_lines = []\n",
    "    \n",
    "    for ea in num_lines:\n",
    "        if xmlroot[2][ea][1].text != 'GOOD SERVICE':\n",
    "            SC_lines.append((xmlroot[2][ea][0].text,root[2][ea][1].text))\n",
    "        else:\n",
    "            pass \n",
    "        \n",
    "    #SC_Lines is a list of tuples with the line name and service status \n",
    "    return SC_lines\n",
    "    \n",
    "SC_lines = Return_SC_Lines(root)\n",
    "SC_lines"
   ]
  },
  {
   "cell_type": "markdown",
   "metadata": {},
   "source": [
    "# Function to take line name and service status XML and return beautiful soup of that line's service status "
   ]
  },
  {
   "cell_type": "code",
   "execution_count": 3,
   "metadata": {
    "collapsed": true
   },
   "outputs": [],
   "source": [
    "def MakeLine_ServiceStatusSoup(line_name,xmlroot): \n",
    "    line_iq = line_name\n",
    "    line_iq_num = ''\n",
    "    \n",
    "    for ea in FullLineList:\n",
    "        if ea[1] == line_iq:\n",
    "            line_iq_num = ea[0]\n",
    "    \n",
    "    # get string and make soup from line in question's status\n",
    "    status_str = root[2][line_iq_num][2].text\n",
    "    linestatus_soup = BeautifulSoup(status_str, 'lxml')\n",
    "    \n",
    "    return linestatus_soup\n",
    "\n",
    "\n",
    "# bdfmsoup = MakeLine_ServiceStatusSoup('BDFM',root)"
   ]
  },
  {
   "cell_type": "markdown",
   "metadata": {},
   "source": [
    "# Function intake service status xml and a line with planned work and return description of the planned work"
   ]
  },
  {
   "cell_type": "code",
   "execution_count": 6,
   "metadata": {
    "collapsed": false
   },
   "outputs": [
    {
     "name": "stdout",
     "output_type": "stream",
     "text": [
      "TRACK & TRACK PLATE INSTALLATION, REPLACEMENT OF POWER & COMMUNICATION CABLES[2] [3] Trains run at reduced speed through the Clark St Tunnel between Manhattan and Brooklyn \n"
     ]
    }
   ],
   "source": [
    "def plannedWork_Simple(line_servicestatus_soup):\n",
    "    \n",
    "    tag_options = ['span']\n",
    "    classname_options = ['TitlePlannedWork']\n",
    "    subtag_options = ['p']\n",
    "    pwSimple_text = ''\n",
    "\n",
    "    for spans in line_servicestatus_soup.find_all(tag_options, {'class':classname_options}):\n",
    "        subs = spans.find_all_next(subtag_options)\n",
    "        for each in subs:\n",
    "            pwSimple_text += each.text\n",
    "            \n",
    "    return pwSimple_text\n",
    "\n",
    "\n",
    "# this works for printing summary line, and not when planned work is a span\n",
    "\n",
    "def plannedWork_Detail(line_servicestatus_soup):\n",
    "    \n",
    "    tag_options = ['a']\n",
    "    classname_options = ['plannedWorkDetailLink']\n",
    "    subtag_options = ['div','p']\n",
    "    pwDetail_text = ''\n",
    "    \n",
    "    for a_summ in line_servicestatus_soup.find_all(tag_options, {'class':classname_options}):\n",
    "        pw_summtext = a_summ.text\n",
    "\n",
    "        #print(pw_summtext,'\\n', next_div, '\\n')\n",
    "        pwDetail_text += pw_summtext + ' '\n",
    "    \n",
    "    return pwDetail_text\n",
    "        \n",
    "\n",
    "\n",
    "def PlannedWorkText(line_name,xmlroot):\n",
    "    \n",
    "    line_status_soup = MakeLine_ServiceStatusSoup(line_name,xmlroot)\n",
    "    service_string = ''\n",
    "    \n",
    "    line_iq = line_name\n",
    "    line_iq_num = ''\n",
    "    \n",
    "    for ea in FullLineList:\n",
    "        if ea[1] == line_iq:\n",
    "            line_iq_num = ea[0]\n",
    "        \n",
    "        \n",
    "    if len(line_status_soup.find_all('a', {'class':'plannedWorkDetailLink'})) < 1:\n",
    "        service_string = plannedWork_Simple(line_status_soup)\n",
    "            \n",
    "    else:\n",
    "        service_string = plannedWork_Detail(line_status_soup)\n",
    "\n",
    "        \n",
    "        \n",
    "    return [line_name, xmlroot[2][line_iq_num][1].text, service_string]\n",
    "    \n",
    "    \n",
    "print(PlannedWorkText('123',root)[2])\n",
    " "
   ]
  },
  {
   "cell_type": "markdown",
   "metadata": {},
   "source": [
    "# Function to intake service status xml and a line name and return text of delays on that line, if applicable "
   ]
  },
  {
   "cell_type": "code",
   "execution_count": 8,
   "metadata": {
    "collapsed": false
   },
   "outputs": [
    {
     "name": "stdout",
     "output_type": "stream",
     "text": [
      "Northbound [N] trains are running with delays because of signal problems at Ft Hamilton Pkwy\n"
     ]
    }
   ],
   "source": [
    "def delays_text(line_name,xmlroot):\n",
    "\n",
    "    line_status_soup = MakeLine_ServiceStatusSoup(line_name,xmlroot)\n",
    "    delay_string = ''\n",
    "    \n",
    "    delayline_name = line_name\n",
    "    dealyline_num = ''\n",
    "    \n",
    "    for ea in FullLineList:\n",
    "        if ea[1] == delayline_name:\n",
    "            dealyline_num = ea[0]\n",
    "\n",
    "\n",
    "    del_text = ''\n",
    "    \n",
    "    for del1 in line_status_soup.find_all('span', {'class': 'TitleDelay'}):\n",
    "        \n",
    "        # below checks that the delay description is contained in <p> tags\n",
    "        if len(del1.find_all('p')) > 0:\n",
    "            \n",
    "            delay_deets = del1.find_all('p')\n",
    "            \n",
    "            for dels in delay_deets:\n",
    "                del_text += dels.text + ' '\n",
    "            \n",
    "            \n",
    "        else:\n",
    "            del_text = ''.join(line_status_soup.find_all(text=True)[3:5]).strip()\n",
    "            \n",
    "            \n",
    "    return del_text\n",
    "print(delays_text('NQR',root))"
   ]
  },
  {
   "cell_type": "markdown",
   "metadata": {},
   "source": [
    "# Function to return list of delayed lines"
   ]
  },
  {
   "cell_type": "markdown",
   "metadata": {},
   "source": [
    "<font color='red'>below should probably be replaced with return_SC_lines function, not just looking for ones with delays.</font>"
   ]
  },
  {
   "cell_type": "code",
   "execution_count": 9,
   "metadata": {
    "collapsed": false
   },
   "outputs": [
    {
     "data": {
      "text/plain": [
       "['BDFM', 'NQR']"
      ]
     },
     "execution_count": 9,
     "metadata": {},
     "output_type": "execute_result"
    }
   ],
   "source": [
    "def delayedLines(xmlroot):\n",
    "    SC_lines = Return_SC_Lines(xmlroot)\n",
    "    l=[]\n",
    "    for i in SC_lines:\n",
    "        if i[1]=='DELAYS':\n",
    "            l.append(i[0])\n",
    "    return l\n",
    "\n",
    "delayed=delayedLines(root)\n",
    "delayed"
   ]
  },
  {
   "cell_type": "markdown",
   "metadata": {},
   "source": [
    "# Initialize the User's data"
   ]
  },
  {
   "cell_type": "code",
   "execution_count": 10,
   "metadata": {
    "collapsed": true
   },
   "outputs": [],
   "source": [
    "def init():\n",
    "    data=pd.DataFrame(index=['User','Time','123','456','7','ACE','BDFM','G','JZ','L','NQR','S','SIR'],dtype=str)\n",
    "    return data"
   ]
  },
  {
   "cell_type": "markdown",
   "metadata": {},
   "source": [
    "# Function to encode a list of lines as a list of bits, based on the alllines table"
   ]
  },
  {
   "cell_type": "markdown",
   "metadata": {},
   "source": [
    "<font color='red'>adjust bottom function so it intakes SC_lines function. SC lines function should = the new delayed object above.</font>"
   ]
  },
  {
   "cell_type": "code",
   "execution_count": 11,
   "metadata": {
    "collapsed": false
   },
   "outputs": [
    {
     "name": "stdout",
     "output_type": "stream",
     "text": [
      "['BDFM', 'NQR']\n",
      "[0, 0, 0, 0, 1, 0, 0, 0, 1, 0, 0]\n"
     ]
    },
    {
     "data": {
      "text/plain": [
       "['BDFM', 'NQR']"
      ]
     },
     "execution_count": 11,
     "metadata": {},
     "output_type": "execute_result"
    }
   ],
   "source": [
    "def binaryConverter(line):\n",
    "    l=alllines[:]\n",
    "    for i in range(len(l)):\n",
    "        if l[i] in line:\n",
    "            l[i]=1\n",
    "        else:\n",
    "            l[i]=0\n",
    "    return l\n",
    "\n",
    "def binaryDecoder(line):\n",
    "    s=[]\n",
    "    for i in range(len(line)):\n",
    "        if line[i]==1:\n",
    "            s.append(alllines[i])\n",
    "    return s\n",
    "\n",
    "print(delayed)\n",
    "binary=binaryConverter(delayed)\n",
    "print(binary)\n",
    "regular=binaryDecoder(binary)\n",
    "regular"
   ]
  },
  {
   "cell_type": "markdown",
   "metadata": {},
   "source": [
    "# Functions to add or remove a user's profile with his email, commuting time and the lines he is taking"
   ]
  },
  {
   "cell_type": "code",
   "execution_count": 12,
   "metadata": {
    "collapsed": true
   },
   "outputs": [],
   "source": [
    "def addProfile(data,email,time,lines):\n",
    "    '''\n",
    "    adds commuting time in the list of all commuting times, adds time and lines for that user\n",
    "    @param email: user's email\n",
    "    @param time: commuting time\n",
    "    @param lines: list of the lines concerned by those commuting times\n",
    "    '''\n",
    "    l=[email,time]\n",
    "    line=binaryConverter(lines)\n",
    "    for i in line:\n",
    "        l.append(i)\n",
    "    try:\n",
    "        col=max(data.columns)+1\n",
    "    except ValueError:\n",
    "        col=0\n",
    "    data[col]=l\n",
    "\n",
    "def removeUser(data,email):\n",
    "    p=0\n",
    "    for i in data.iloc[0]:\n",
    "        if i==email:\n",
    "            del data[p]\n",
    "        p+=1\n",
    "\n",
    "def clear(data):\n",
    "    for i in data.columns:\n",
    "        del data[i]"
   ]
  },
  {
   "cell_type": "markdown",
   "metadata": {},
   "source": [
    "# Define the time limit after which we notify the users"
   ]
  },
  {
   "cell_type": "code",
   "execution_count": 13,
   "metadata": {
    "collapsed": true
   },
   "outputs": [],
   "source": [
    "timelimit=15"
   ]
  },
  {
   "cell_type": "markdown",
   "metadata": {},
   "source": [
    "# Function that gives, based on the list of delayed lines, the list of people to notify by email"
   ]
  },
  {
   "cell_type": "code",
   "execution_count": 43,
   "metadata": {
    "collapsed": false
   },
   "outputs": [],
   "source": [
    "def listToNotify(data,delayedlines):\n",
    "    hour=time.localtime()[3]\n",
    "    minutes=time.localtime()[4]\n",
    "    time_t=hour*60+minutes\n",
    "    #time_t is total number of minutes from 00:00\n",
    "    notif=[]\n",
    "    p=0\n",
    "    l=binaryConverter(delayedlines)\n",
    "    for col in data.columns:  #t is in 24hours format hh:mm\n",
    "        column=data[col]\n",
    "        t=column[1]\n",
    "        # t is time entered by user, how about usr_commute_starttime\n",
    "        print(t)\n",
    "        h=int(t[0:2]) #gets hh\n",
    "        m=int(t[3:])   #gets mm\n",
    "        tt=h*60+m\n",
    "        if h==0:\n",
    "            if m>=timelimit:\n",
    "                tt=m\n",
    "            else:\n",
    "                tt=24*60+m\n",
    "        # below should be changed so that the difference between usr_commute_starttime and localtime can be \n",
    "        # if we can change so only one email goes out per day it can be anytime within 15 mins \n",
    "        if tt-time_t == timelimit:\n",
    "            lines=column[2:]\n",
    "            e=sum(np.logical_and(lines,l))\n",
    "            if e>0:\n",
    "                notif.append((column[0],col))\n",
    "    return list(set(notif))"
   ]
  },
  {
   "cell_type": "markdown",
   "metadata": {},
   "source": [
    "# Function to trigger the emails"
   ]
  },
  {
   "cell_type": "code",
   "execution_count": 15,
   "metadata": {
    "collapsed": true
   },
   "outputs": [],
   "source": [
    "def emailTrigger(data,lines):\n",
    "    notif_delay=listToNotify(data,lines)\n",
    "    for user in notif_delay:\n",
    "        sendmail(data,user,lines)"
   ]
  },
  {
   "cell_type": "markdown",
   "metadata": {},
   "source": [
    "# Function to send emails"
   ]
  },
  {
   "cell_type": "code",
   "execution_count": 16,
   "metadata": {
    "collapsed": true
   },
   "outputs": [],
   "source": [
    "def sendmail(data,user,lines):\n",
    "    mail=user[0]\n",
    "    index=user[1]\n",
    "    server = smtplib.SMTP('smtp.gmail.com:587')\n",
    "    server.ehlo()\n",
    "    server.starttls()\n",
    "    server.login(\"notificationmta@gmail.com\", \"PyProject1859\")\n",
    "    \n",
    "    l=binaryConverter(lines)\n",
    "    col=data[index]\n",
    "    c=col[2:]\n",
    "    l=np.logical_and(l,c)\n",
    "    l=binaryDecoder(l)\n",
    "    \n",
    "    if len(lines)>2:\n",
    "        s=''\n",
    "        for i in range(len(lines)-1):\n",
    "            s=s+lines[i]+', '\n",
    "        s=s+'and '+lines[-1]\n",
    "    elif len(lines)==2:\n",
    "        s=lines[0]+' and '+lines[1]\n",
    "    else:\n",
    "        s=lines[0]\n",
    "    \n",
    "    if len(l)>2:\n",
    "        s2=''\n",
    "        for i in range(len(l)-1):\n",
    "            s2=s2+l[i]+', '\n",
    "        s2=s2+l[-1]\n",
    "    elif len(l)==2:\n",
    "        s2=lines[0]+' and '+lines[1]\n",
    "    else:\n",
    "        s2=lines[0]\n",
    "    #Send the mail\n",
    "    msg = \"\\r\\n\".join([\n",
    "            \"From: subwayhelper@gmail.com\",\n",
    "            \"To: \"+mail,\n",
    "            \"Subject: PyProject 3rd Test ALERT: Delays on line(s) \"+str(s2),\n",
    "            \"\",\n",
    "            'Dear user, \\n There are currently delays on lines '+s+'. As you indicated that you take line(s) '+str(s2)+' you are concerned by those delays and should consider another route. \\n Thanks for using our platform, \\n The subway helper team'\n",
    "            ])\n",
    "        # The /n separates the message from the headers\n",
    "    server.sendmail(\"subwayhelper@gmail.com\", mail, msg)\n",
    "    print('Email successfully sent to '+str(mail))\n",
    "    server.quit()"
   ]
  },
  {
   "cell_type": "markdown",
   "metadata": {},
   "source": [
    "# Workspace"
   ]
  },
  {
   "cell_type": "code",
   "execution_count": 21,
   "metadata": {
    "collapsed": false
   },
   "outputs": [
    {
     "data": {
      "text/html": [
       "<div>\n",
       "<table border=\"1\" class=\"dataframe\">\n",
       "  <thead>\n",
       "    <tr style=\"text-align: right;\">\n",
       "      <th></th>\n",
       "    </tr>\n",
       "  </thead>\n",
       "  <tbody>\n",
       "    <tr>\n",
       "      <th>User</th>\n",
       "    </tr>\n",
       "    <tr>\n",
       "      <th>Time</th>\n",
       "    </tr>\n",
       "    <tr>\n",
       "      <th>123</th>\n",
       "    </tr>\n",
       "    <tr>\n",
       "      <th>456</th>\n",
       "    </tr>\n",
       "    <tr>\n",
       "      <th>7</th>\n",
       "    </tr>\n",
       "    <tr>\n",
       "      <th>ACE</th>\n",
       "    </tr>\n",
       "    <tr>\n",
       "      <th>BDFM</th>\n",
       "    </tr>\n",
       "    <tr>\n",
       "      <th>G</th>\n",
       "    </tr>\n",
       "    <tr>\n",
       "      <th>JZ</th>\n",
       "    </tr>\n",
       "    <tr>\n",
       "      <th>L</th>\n",
       "    </tr>\n",
       "    <tr>\n",
       "      <th>NQR</th>\n",
       "    </tr>\n",
       "    <tr>\n",
       "      <th>S</th>\n",
       "    </tr>\n",
       "    <tr>\n",
       "      <th>SIR</th>\n",
       "    </tr>\n",
       "  </tbody>\n",
       "</table>\n",
       "</div>"
      ],
      "text/plain": [
       "Empty DataFrame\n",
       "Columns: []\n",
       "Index: [User, Time, 123, 456, 7, ACE, BDFM, G, JZ, L, NQR, S, SIR]"
      ]
     },
     "execution_count": 21,
     "metadata": {},
     "output_type": "execute_result"
    }
   ],
   "source": [
    "user_data = init()\n",
    "user_data"
   ]
  },
  {
   "cell_type": "code",
   "execution_count": 22,
   "metadata": {
    "collapsed": false
   },
   "outputs": [
    {
     "name": "stdout",
     "output_type": "stream",
     "text": [
      "21\n",
      "45\n"
     ]
    }
   ],
   "source": [
    "import time\n",
    "print(time.localtime()[3])\n",
    "print(time.localtime()[4])"
   ]
  },
  {
   "cell_type": "code",
   "execution_count": 45,
   "metadata": {
    "collapsed": false
   },
   "outputs": [],
   "source": [
    "addProfile(user_data,'yk1859@nyu.edu','00:06',['ACE','BDFM','S'])\n",
    "addProfile(user_data,'srf366@stern.nyu.edu','22:20',['G','JZ','BDFM','ACE'])\n",
    "addProfile(user_data,'fh643@nyu.edu','00:06',['G','L','S','BDFM'])"
   ]
  },
  {
   "cell_type": "code",
   "execution_count": 46,
   "metadata": {
    "collapsed": false
   },
   "outputs": [
    {
     "data": {
      "text/html": [
       "<div>\n",
       "<table border=\"1\" class=\"dataframe\">\n",
       "  <thead>\n",
       "    <tr style=\"text-align: right;\">\n",
       "      <th></th>\n",
       "      <th>0</th>\n",
       "      <th>1</th>\n",
       "      <th>2</th>\n",
       "    </tr>\n",
       "  </thead>\n",
       "  <tbody>\n",
       "    <tr>\n",
       "      <th>User</th>\n",
       "      <td>yk1859@nyu.edu</td>\n",
       "      <td>srf366@stern.nyu.edu</td>\n",
       "      <td>fh643@nyu.edu</td>\n",
       "    </tr>\n",
       "    <tr>\n",
       "      <th>Time</th>\n",
       "      <td>00:06</td>\n",
       "      <td>22:20</td>\n",
       "      <td>00:06</td>\n",
       "    </tr>\n",
       "    <tr>\n",
       "      <th>123</th>\n",
       "      <td>0</td>\n",
       "      <td>0</td>\n",
       "      <td>0</td>\n",
       "    </tr>\n",
       "    <tr>\n",
       "      <th>456</th>\n",
       "      <td>0</td>\n",
       "      <td>0</td>\n",
       "      <td>0</td>\n",
       "    </tr>\n",
       "    <tr>\n",
       "      <th>7</th>\n",
       "      <td>0</td>\n",
       "      <td>0</td>\n",
       "      <td>0</td>\n",
       "    </tr>\n",
       "    <tr>\n",
       "      <th>ACE</th>\n",
       "      <td>1</td>\n",
       "      <td>1</td>\n",
       "      <td>0</td>\n",
       "    </tr>\n",
       "    <tr>\n",
       "      <th>BDFM</th>\n",
       "      <td>1</td>\n",
       "      <td>1</td>\n",
       "      <td>1</td>\n",
       "    </tr>\n",
       "    <tr>\n",
       "      <th>G</th>\n",
       "      <td>0</td>\n",
       "      <td>1</td>\n",
       "      <td>1</td>\n",
       "    </tr>\n",
       "    <tr>\n",
       "      <th>JZ</th>\n",
       "      <td>0</td>\n",
       "      <td>1</td>\n",
       "      <td>0</td>\n",
       "    </tr>\n",
       "    <tr>\n",
       "      <th>L</th>\n",
       "      <td>0</td>\n",
       "      <td>0</td>\n",
       "      <td>1</td>\n",
       "    </tr>\n",
       "    <tr>\n",
       "      <th>NQR</th>\n",
       "      <td>0</td>\n",
       "      <td>0</td>\n",
       "      <td>0</td>\n",
       "    </tr>\n",
       "    <tr>\n",
       "      <th>S</th>\n",
       "      <td>1</td>\n",
       "      <td>0</td>\n",
       "      <td>1</td>\n",
       "    </tr>\n",
       "    <tr>\n",
       "      <th>SIR</th>\n",
       "      <td>0</td>\n",
       "      <td>0</td>\n",
       "      <td>0</td>\n",
       "    </tr>\n",
       "  </tbody>\n",
       "</table>\n",
       "</div>"
      ],
      "text/plain": [
       "                   0                     1              2\n",
       "User  yk1859@nyu.edu  srf366@stern.nyu.edu  fh643@nyu.edu\n",
       "Time           00:06                 22:20          00:06\n",
       "123                0                     0              0\n",
       "456                0                     0              0\n",
       "7                  0                     0              0\n",
       "ACE                1                     1              0\n",
       "BDFM               1                     1              1\n",
       "G                  0                     1              1\n",
       "JZ                 0                     1              0\n",
       "L                  0                     0              1\n",
       "NQR                0                     0              0\n",
       "S                  1                     0              1\n",
       "SIR                0                     0              0"
      ]
     },
     "execution_count": 46,
     "metadata": {},
     "output_type": "execute_result"
    }
   ],
   "source": [
    "user_data"
   ]
  },
  {
   "cell_type": "code",
   "execution_count": 47,
   "metadata": {
    "collapsed": false
   },
   "outputs": [
    {
     "data": {
      "text/plain": [
       "['BDFM', 'NQR']"
      ]
     },
     "execution_count": 47,
     "metadata": {},
     "output_type": "execute_result"
    }
   ],
   "source": [
    "delayed"
   ]
  },
  {
   "cell_type": "code",
   "execution_count": 48,
   "metadata": {
    "collapsed": false
   },
   "outputs": [
    {
     "name": "stdout",
     "output_type": "stream",
     "text": [
      "00:06\n",
      "22:20\n",
      "00:06\n"
     ]
    },
    {
     "data": {
      "text/plain": [
       "[('srf366@stern.nyu.edu', 1)]"
      ]
     },
     "execution_count": 48,
     "metadata": {},
     "output_type": "execute_result"
    }
   ],
   "source": [
    "listToNotify(user_data,delayed)"
   ]
  },
  {
   "cell_type": "code",
   "execution_count": null,
   "metadata": {
    "collapsed": false
   },
   "outputs": [],
   "source": [
    "emailTrigger(data,delayed)"
   ]
  },
  {
   "cell_type": "code",
   "execution_count": 44,
   "metadata": {
    "collapsed": false
   },
   "outputs": [
    {
     "data": {
      "text/html": [
       "<div>\n",
       "<table border=\"1\" class=\"dataframe\">\n",
       "  <thead>\n",
       "    <tr style=\"text-align: right;\">\n",
       "      <th></th>\n",
       "    </tr>\n",
       "  </thead>\n",
       "  <tbody>\n",
       "    <tr>\n",
       "      <th>User</th>\n",
       "    </tr>\n",
       "    <tr>\n",
       "      <th>Time</th>\n",
       "    </tr>\n",
       "    <tr>\n",
       "      <th>123</th>\n",
       "    </tr>\n",
       "    <tr>\n",
       "      <th>456</th>\n",
       "    </tr>\n",
       "    <tr>\n",
       "      <th>7</th>\n",
       "    </tr>\n",
       "    <tr>\n",
       "      <th>ACE</th>\n",
       "    </tr>\n",
       "    <tr>\n",
       "      <th>BDFM</th>\n",
       "    </tr>\n",
       "    <tr>\n",
       "      <th>G</th>\n",
       "    </tr>\n",
       "    <tr>\n",
       "      <th>JZ</th>\n",
       "    </tr>\n",
       "    <tr>\n",
       "      <th>L</th>\n",
       "    </tr>\n",
       "    <tr>\n",
       "      <th>NQR</th>\n",
       "    </tr>\n",
       "    <tr>\n",
       "      <th>S</th>\n",
       "    </tr>\n",
       "    <tr>\n",
       "      <th>SIR</th>\n",
       "    </tr>\n",
       "  </tbody>\n",
       "</table>\n",
       "</div>"
      ],
      "text/plain": [
       "Empty DataFrame\n",
       "Columns: []\n",
       "Index: [User, Time, 123, 456, 7, ACE, BDFM, G, JZ, L, NQR, S, SIR]"
      ]
     },
     "execution_count": 44,
     "metadata": {},
     "output_type": "execute_result"
    }
   ],
   "source": [
    "clear(user_data)\n",
    "user_data"
   ]
  },
  {
   "cell_type": "code",
   "execution_count": null,
   "metadata": {
    "collapsed": false
   },
   "outputs": [],
   "source": [
    "listToNotify(data,delayed)"
   ]
  },
  {
   "cell_type": "code",
   "execution_count": null,
   "metadata": {
    "collapsed": false
   },
   "outputs": [],
   "source": []
  },
  {
   "cell_type": "code",
   "execution_count": null,
   "metadata": {
    "collapsed": false
   },
   "outputs": [],
   "source": []
  },
  {
   "cell_type": "code",
   "execution_count": null,
   "metadata": {
    "collapsed": true
   },
   "outputs": [],
   "source": []
  }
 ],
 "metadata": {
  "kernelspec": {
   "display_name": "Python 3",
   "language": "python",
   "name": "python3"
  },
  "language_info": {
   "codemirror_mode": {
    "name": "ipython",
    "version": 3
   },
   "file_extension": ".py",
   "mimetype": "text/x-python",
   "name": "python",
   "nbconvert_exporter": "python",
   "pygments_lexer": "ipython3",
   "version": "3.6.0"
  }
 },
 "nbformat": 4,
 "nbformat_minor": 0
}
