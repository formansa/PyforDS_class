{
 "cells": [
  {
   "cell_type": "markdown",
   "metadata": {},
   "source": [
    "# General Set Up"
   ]
  },
  {
   "cell_type": "code",
   "execution_count": 1,
   "metadata": {
    "collapsed": false
   },
   "outputs": [],
   "source": [
    "import pandas as pd\n",
    "import numpy as np\n",
    "import time\n",
    "import smtplib\n",
    "from bs4 import BeautifulSoup\n",
    "import xml.etree.ElementTree as ET\n",
    "import requests\n",
    "import cherrypy\n",
    "import os, os.path\n",
    "\n",
    "## Creating XML Tree Object ##\n",
    "\n",
    "TARGET = 'servicestatus.json'\n",
    "SOURCE = 'http://web.mta.info/status/serviceStatus.txt'\n",
    "\n",
    "response = requests.get(SOURCE)\n",
    "xml_string = response.text\n",
    "root = ET.fromstring(xml_string)\n",
    "# ET.fromstring converts a string of XML content to a XML tree object.\n",
    "\n",
    "\n",
    "## Creating a list of all lines ##\n",
    "\n",
    "alllines=['123','456','7','ACE','BDFM','G','JZ','L','NQR','S','SIR']"
   ]
  },
  {
   "cell_type": "markdown",
   "metadata": {},
   "source": [
    "# Function to intake xml root and return full list of MTA lines present in the XML. \n",
    "(Should always be the same.) "
   ]
  },
  {
   "cell_type": "code",
   "execution_count": 2,
   "metadata": {
    "collapsed": false
   },
   "outputs": [
    {
     "data": {
      "text/plain": [
       "[(0, '123'),\n",
       " (1, '456'),\n",
       " (2, '7'),\n",
       " (3, 'ACE'),\n",
       " (4, 'BDFM'),\n",
       " (5, 'G'),\n",
       " (6, 'JZ'),\n",
       " (7, 'L'),\n",
       " (8, 'NQR'),\n",
       " (9, 'S'),\n",
       " (10, 'SIR')]"
      ]
     },
     "execution_count": 2,
     "metadata": {},
     "output_type": "execute_result"
    }
   ],
   "source": [
    "def getFullLineList(xmlroot):\n",
    "    FullLineList = []\n",
    "    num = 0\n",
    "    \n",
    "    while num < len(root[2]):\n",
    "        FullLineList.append((num,root[2][num][0].text))\n",
    "        num += 1\n",
    "        \n",
    "    return FullLineList\n",
    "\n",
    "FullLineList = getFullLineList(root)\n",
    "FullLineList"
   ]
  },
  {
   "cell_type": "markdown",
   "metadata": {},
   "source": [
    "# Function to intake service status xml object and return lines with service changes as a list of tuples"
   ]
  },
  {
   "cell_type": "code",
   "execution_count": 3,
   "metadata": {
    "collapsed": false
   },
   "outputs": [
    {
     "data": {
      "text/plain": [
       "[('123', 'PLANNED WORK'), ('NQR', 'SERVICE CHANGE')]"
      ]
     },
     "execution_count": 3,
     "metadata": {},
     "output_type": "execute_result"
    }
   ],
   "source": [
    "def Return_SC_Lines(xmlroot):\n",
    "    # xmlroot must be an xml object of the MTA Service Status page using xml Element Tree package\n",
    "    num_lines = list(range(0,len(xmlroot[2])))\n",
    "    SC_lines = []\n",
    "    \n",
    "    for ea in num_lines:\n",
    "        if xmlroot[2][ea][1].text != 'GOOD SERVICE':\n",
    "            SC_lines.append((xmlroot[2][ea][0].text,xmlroot[2][ea][1].text))\n",
    "        else:\n",
    "            pass \n",
    "        \n",
    "    #SC_Lines is a list of tuples with the line name and service status \n",
    "    return SC_lines\n",
    "    \n",
    "SC_lines = Return_SC_Lines(root)\n",
    "SC_lines"
   ]
  },
  {
   "cell_type": "markdown",
   "metadata": {},
   "source": [
    "# Function that returns a dictionary with lines as keys and 0 (delayed', 'works') as possible values"
   ]
  },
  {
   "cell_type": "code",
   "execution_count": 4,
   "metadata": {
    "collapsed": true
   },
   "outputs": [],
   "source": [
    "def dictionary():\n",
    "    SC_lines=Return_SC_Lines(root)\n",
    "    d={}\n",
    "    for i in SC_lines:\n",
    "        if i[1]=='DELAYS':\n",
    "            d[i[0]]='delayed'\n",
    "        if i[1]=='PLANNED WORK':\n",
    "            d[i[0]]='works'\n",
    "    return d\n",
    "            "
   ]
  },
  {
   "cell_type": "markdown",
   "metadata": {},
   "source": [
    "# Function to take line name and service status XML and return beautiful soup of that line's service status "
   ]
  },
  {
   "cell_type": "code",
   "execution_count": 5,
   "metadata": {
    "collapsed": false
   },
   "outputs": [],
   "source": [
    "def MakeLine_ServiceStatusSoup(line_name,xmlroot): \n",
    "    line_iq = line_name\n",
    "    line_iq_num = ''\n",
    "    \n",
    "    for ea in FullLineList:\n",
    "        if ea[1] == line_iq:\n",
    "            line_iq_num = ea[0]\n",
    "    \n",
    "    # get string and make soup from line in question's status\n",
    "    status_str = xmlroot[2][line_iq_num][2].text\n",
    "    linestatus_soup = BeautifulSoup(status_str, 'lxml')\n",
    "    \n",
    "    return linestatus_soup\n",
    "\n",
    "\n",
    "#bdfmsoup = MakeLine_ServiceStatusSoup('BDFM',root)"
   ]
  },
  {
   "cell_type": "markdown",
   "metadata": {},
   "source": [
    "# Function intake service status xml and a line with planned work and return description of the planned work"
   ]
  },
  {
   "cell_type": "code",
   "execution_count": 6,
   "metadata": {
    "collapsed": false
   },
   "outputs": [
    {
     "name": "stdout",
     "output_type": "stream",
     "text": [
      "TRACK & TRACK PLATE INSTALLATION, REPLACEMENT OF POWER & COMMUNICATION CABLES[2] [3] Trains run at reduced speed through the Clark St Tunnel between Manhattan and Brooklyn\n"
     ]
    }
   ],
   "source": [
    "def plannedWork_Simple(line_servicestatus_soup):\n",
    "    \n",
    "    tag_options = ['span']\n",
    "    classname_options = ['TitlePlannedWork']\n",
    "    subtag_options = ['p']\n",
    "    pwSimple_text = ''\n",
    "\n",
    "    for spans in line_servicestatus_soup.find_all(tag_options, {'class':classname_options}):\n",
    "        subs = spans.find_all_next(subtag_options)\n",
    "        for each in subs:\n",
    "            pwSimple_text += each.text\n",
    "            \n",
    "    return [pwSimple_text]\n",
    "\n",
    "\n",
    "# this works for printing summary line, and not when planned work is a span\n",
    "\n",
    "def plannedWork_Detail(line_servicestatus_soup):\n",
    "    \n",
    "    tag_options = ['a']\n",
    "    classname_options = ['plannedWorkDetailLink']\n",
    "    subtag_options = ['div','p']\n",
    "    pwDetail_text_list = []\n",
    "    \n",
    "    for a_summ in line_servicestatus_soup.find_all(tag_options, {'class':classname_options}):\n",
    "        pw_summtext = a_summ.text\n",
    "\n",
    "        #print(pw_summtext,'\\n', next_div, '\\n')\n",
    "        pwDetail_text_list.append(pw_summtext)\n",
    "    \n",
    "    return pwDetail_text_list\n",
    "        \n",
    "\n",
    "\n",
    "def PlannedWorkText(line_name,xmlroot):\n",
    "    \n",
    "    line_status_soup = MakeLine_ServiceStatusSoup(line_name,xmlroot)\n",
    "    service_string = ''\n",
    "    pw_text_list = []\n",
    "    \n",
    "    line_iq = line_name\n",
    "    line_iq_num = ''\n",
    "    \n",
    "    for ea in FullLineList:\n",
    "        if ea[1] == line_iq:\n",
    "            line_iq_num = ea[0]\n",
    "        \n",
    "        \n",
    "    if len(line_status_soup.find_all('a', {'class':'plannedWorkDetailLink'})) < 1:\n",
    "        pw_text_list = plannedWork_Simple(line_status_soup)\n",
    "            \n",
    "    else:\n",
    "        pw_text_list = plannedWork_Detail(line_status_soup)\n",
    "\n",
    "        \n",
    "        \n",
    "    return [line_name, xmlroot[2][line_iq_num][1].text, pw_text_list]\n",
    "    \n",
    "for i in PlannedWorkText('123',root)[2]:\n",
    "    print(i)\n",
    " "
   ]
  },
  {
   "cell_type": "markdown",
   "metadata": {},
   "source": [
    "# Function to intake service status xml and a line name and return text of delays on that line, if applicable "
   ]
  },
  {
   "cell_type": "code",
   "execution_count": 7,
   "metadata": {
    "collapsed": false
   },
   "outputs": [
    {
     "ename": "TypeError",
     "evalue": "object of type 'NoneType' has no len()",
     "output_type": "error",
     "traceback": [
      "\u001b[0;31m---------------------------------------------------------------------------\u001b[0m",
      "\u001b[0;31mTypeError\u001b[0m                                 Traceback (most recent call last)",
      "\u001b[0;32m<ipython-input-7-5e269777ed18>\u001b[0m in \u001b[0;36m<module>\u001b[0;34m()\u001b[0m\n\u001b[1;32m     30\u001b[0m \u001b[0;34m\u001b[0m\u001b[0m\n\u001b[1;32m     31\u001b[0m     \u001b[0;32mreturn\u001b[0m \u001b[0mdel_text\u001b[0m\u001b[0;34m\u001b[0m\u001b[0m\n\u001b[0;32m---> 32\u001b[0;31m \u001b[0mprint\u001b[0m\u001b[0;34m(\u001b[0m\u001b[0mdelays_text\u001b[0m\u001b[0;34m(\u001b[0m\u001b[0;34m'ACE'\u001b[0m\u001b[0;34m,\u001b[0m\u001b[0mroot\u001b[0m\u001b[0;34m)\u001b[0m\u001b[0;34m)\u001b[0m\u001b[0;34m\u001b[0m\u001b[0m\n\u001b[0m",
      "\u001b[0;32m<ipython-input-7-5e269777ed18>\u001b[0m in \u001b[0;36mdelays_text\u001b[0;34m(line_name, xmlroot)\u001b[0m\n\u001b[1;32m      1\u001b[0m \u001b[0;32mdef\u001b[0m \u001b[0mdelays_text\u001b[0m\u001b[0;34m(\u001b[0m\u001b[0mline_name\u001b[0m\u001b[0;34m,\u001b[0m\u001b[0mxmlroot\u001b[0m\u001b[0;34m)\u001b[0m\u001b[0;34m:\u001b[0m\u001b[0;34m\u001b[0m\u001b[0m\n\u001b[1;32m      2\u001b[0m \u001b[0;34m\u001b[0m\u001b[0m\n\u001b[0;32m----> 3\u001b[0;31m     \u001b[0mline_status_soup\u001b[0m \u001b[0;34m=\u001b[0m \u001b[0mMakeLine_ServiceStatusSoup\u001b[0m\u001b[0;34m(\u001b[0m\u001b[0mline_name\u001b[0m\u001b[0;34m,\u001b[0m\u001b[0mxmlroot\u001b[0m\u001b[0;34m)\u001b[0m\u001b[0;34m\u001b[0m\u001b[0m\n\u001b[0m\u001b[1;32m      4\u001b[0m     \u001b[0mdelay_string\u001b[0m \u001b[0;34m=\u001b[0m \u001b[0;34m''\u001b[0m\u001b[0;34m\u001b[0m\u001b[0m\n\u001b[1;32m      5\u001b[0m \u001b[0;34m\u001b[0m\u001b[0m\n",
      "\u001b[0;32m<ipython-input-5-0a54db69cbab>\u001b[0m in \u001b[0;36mMakeLine_ServiceStatusSoup\u001b[0;34m(line_name, xmlroot)\u001b[0m\n\u001b[1;32m      9\u001b[0m     \u001b[0;31m# get string and make soup from line in question's status\u001b[0m\u001b[0;34m\u001b[0m\u001b[0;34m\u001b[0m\u001b[0m\n\u001b[1;32m     10\u001b[0m     \u001b[0mstatus_str\u001b[0m \u001b[0;34m=\u001b[0m \u001b[0mxmlroot\u001b[0m\u001b[0;34m[\u001b[0m\u001b[0;36m2\u001b[0m\u001b[0;34m]\u001b[0m\u001b[0;34m[\u001b[0m\u001b[0mline_iq_num\u001b[0m\u001b[0;34m]\u001b[0m\u001b[0;34m[\u001b[0m\u001b[0;36m2\u001b[0m\u001b[0;34m]\u001b[0m\u001b[0;34m.\u001b[0m\u001b[0mtext\u001b[0m\u001b[0;34m\u001b[0m\u001b[0m\n\u001b[0;32m---> 11\u001b[0;31m     \u001b[0mlinestatus_soup\u001b[0m \u001b[0;34m=\u001b[0m \u001b[0mBeautifulSoup\u001b[0m\u001b[0;34m(\u001b[0m\u001b[0mstatus_str\u001b[0m\u001b[0;34m,\u001b[0m \u001b[0;34m'lxml'\u001b[0m\u001b[0;34m)\u001b[0m\u001b[0;34m\u001b[0m\u001b[0m\n\u001b[0m\u001b[1;32m     12\u001b[0m \u001b[0;34m\u001b[0m\u001b[0m\n\u001b[1;32m     13\u001b[0m     \u001b[0;32mreturn\u001b[0m \u001b[0mlinestatus_soup\u001b[0m\u001b[0;34m\u001b[0m\u001b[0m\n",
      "\u001b[0;32m/Users/Sam_I_Am/anaconda/lib/python3.6/site-packages/bs4/__init__.py\u001b[0m in \u001b[0;36m__init__\u001b[0;34m(self, markup, features, builder, parse_only, from_encoding, exclude_encodings, **kwargs)\u001b[0m\n\u001b[1;32m    190\u001b[0m         \u001b[0;32mif\u001b[0m \u001b[0mhasattr\u001b[0m\u001b[0;34m(\u001b[0m\u001b[0mmarkup\u001b[0m\u001b[0;34m,\u001b[0m \u001b[0;34m'read'\u001b[0m\u001b[0;34m)\u001b[0m\u001b[0;34m:\u001b[0m        \u001b[0;31m# It's a file-type object.\u001b[0m\u001b[0;34m\u001b[0m\u001b[0m\n\u001b[1;32m    191\u001b[0m             \u001b[0mmarkup\u001b[0m \u001b[0;34m=\u001b[0m \u001b[0mmarkup\u001b[0m\u001b[0;34m.\u001b[0m\u001b[0mread\u001b[0m\u001b[0;34m(\u001b[0m\u001b[0;34m)\u001b[0m\u001b[0;34m\u001b[0m\u001b[0m\n\u001b[0;32m--> 192\u001b[0;31m         elif len(markup) <= 256 and (\n\u001b[0m\u001b[1;32m    193\u001b[0m                 \u001b[0;34m(\u001b[0m\u001b[0misinstance\u001b[0m\u001b[0;34m(\u001b[0m\u001b[0mmarkup\u001b[0m\u001b[0;34m,\u001b[0m \u001b[0mbytes\u001b[0m\u001b[0;34m)\u001b[0m \u001b[0;32mand\u001b[0m \u001b[0;32mnot\u001b[0m \u001b[0;34mb'<'\u001b[0m \u001b[0;32min\u001b[0m \u001b[0mmarkup\u001b[0m\u001b[0;34m)\u001b[0m\u001b[0;34m\u001b[0m\u001b[0m\n\u001b[1;32m    194\u001b[0m                 \u001b[0;32mor\u001b[0m \u001b[0;34m(\u001b[0m\u001b[0misinstance\u001b[0m\u001b[0;34m(\u001b[0m\u001b[0mmarkup\u001b[0m\u001b[0;34m,\u001b[0m \u001b[0mstr\u001b[0m\u001b[0;34m)\u001b[0m \u001b[0;32mand\u001b[0m \u001b[0;32mnot\u001b[0m \u001b[0;34m'<'\u001b[0m \u001b[0;32min\u001b[0m \u001b[0mmarkup\u001b[0m\u001b[0;34m)\u001b[0m\u001b[0;34m\u001b[0m\u001b[0m\n",
      "\u001b[0;31mTypeError\u001b[0m: object of type 'NoneType' has no len()"
     ]
    }
   ],
   "source": [
    "def delays_text(line_name,xmlroot):\n",
    "\n",
    "    line_status_soup = MakeLine_ServiceStatusSoup(line_name,xmlroot)\n",
    "    delay_string = ''\n",
    "    \n",
    "    delayline_name = line_name\n",
    "    dealyline_num = ''\n",
    "    \n",
    "    for ea in FullLineList:\n",
    "        if ea[1] == delayline_name:\n",
    "            dealyline_num = ea[0]\n",
    "\n",
    "\n",
    "    del_text = ''\n",
    "    \n",
    "    for del1 in line_status_soup.find_all('span', {'class': 'TitleDelay'}):\n",
    "        \n",
    "        # below checks that the delay description is contained in <p> tags\n",
    "        if len(del1.find_all('p')) > 0:\n",
    "            \n",
    "            delay_deets = del1.find_all('p')\n",
    "            \n",
    "            for dels in delay_deets:\n",
    "                del_text += dels.text + ' '\n",
    "            \n",
    "            \n",
    "        else:\n",
    "            del_text = ''.join(line_status_soup.find_all(text=True)[3:5]).strip()\n",
    "            \n",
    "            \n",
    "    return del_text\n",
    "print(delays_text('ACE',root))"
   ]
  },
  {
   "cell_type": "markdown",
   "metadata": {},
   "source": [
    "# Function to return list of lines with delays or planned works"
   ]
  },
  {
   "cell_type": "code",
   "execution_count": 8,
   "metadata": {
    "collapsed": false
   },
   "outputs": [
    {
     "data": {
      "text/plain": [
       "['123', 'NQR']"
      ]
     },
     "execution_count": 8,
     "metadata": {},
     "output_type": "execute_result"
    }
   ],
   "source": [
    "def delayedLines(xmlroot):\n",
    "    SC_lines = Return_SC_Lines(xmlroot)\n",
    "    l=[]\n",
    "    for i in SC_lines:\n",
    "        if i[1]!='GOOD SERVICE':\n",
    "            l.append(i[0])\n",
    "    return l\n",
    "\n",
    "delayed=delayedLines(root)\n",
    "delayed"
   ]
  },
  {
   "cell_type": "markdown",
   "metadata": {},
   "source": [
    "# Initialize the User's data"
   ]
  },
  {
   "cell_type": "code",
   "execution_count": 9,
   "metadata": {
    "collapsed": true
   },
   "outputs": [],
   "source": [
    "def init():\n",
    "    data=pd.DataFrame(index=['User','Time','123','456','7','ACE','BDFM','G','JZ','L','NQR','S','SIR'],dtype=str)\n",
    "    return data"
   ]
  },
  {
   "cell_type": "markdown",
   "metadata": {},
   "source": [
    "# Function to encode a list of lines as a list of bits, based on the alllines table"
   ]
  },
  {
   "cell_type": "code",
   "execution_count": 10,
   "metadata": {
    "collapsed": false
   },
   "outputs": [
    {
     "name": "stdout",
     "output_type": "stream",
     "text": [
      "['123', 'NQR']\n",
      "[1, 0, 0, 0, 0, 0, 0, 0, 1, 0, 0]\n"
     ]
    },
    {
     "data": {
      "text/plain": [
       "['123', 'NQR']"
      ]
     },
     "execution_count": 10,
     "metadata": {},
     "output_type": "execute_result"
    }
   ],
   "source": [
    "def binaryConverter(lines):\n",
    "    '''\n",
    "    Function that takes a list of lines and returns a sparse vector with bits equal to:\n",
    "    -  1 if a line appears in the initial list\n",
    "    -  0 if not\n",
    "    @param lines: list of strings. Contains the list of lines.\n",
    "    output: vector of int of length 11 (there are 11 lines in New York)\n",
    "    '''\n",
    "    binary_lines=alllines[:]\n",
    "    for i in range(len(binary_lines)):\n",
    "        if binary_lines[i] in lines:\n",
    "            binary_lines[i]=1\n",
    "        else:\n",
    "            binary_lines[i]=0\n",
    "    return binary_lines\n",
    "\n",
    "def binaryDecoder(binary_line):\n",
    "    lines=[]\n",
    "    for i in range(len(binary_line)):\n",
    "        if binary_line[i]==1:\n",
    "            lines.append(alllines[i])\n",
    "    return lines\n",
    "\n",
    "print(delayed)\n",
    "binary=binaryConverter(delayed)\n",
    "print(binary)\n",
    "regular=binaryDecoder(binary)\n",
    "regular"
   ]
  },
  {
   "cell_type": "markdown",
   "metadata": {},
   "source": [
    "# Functions to add or remove a user's profile with his email, commuting time and the lines he is taking"
   ]
  },
  {
   "cell_type": "code",
   "execution_count": 11,
   "metadata": {
    "collapsed": true
   },
   "outputs": [],
   "source": [
    "def addProfile(data,email,time,lines):\n",
    "    '''\n",
    "    adds commuting time in the list of all commuting times, adds time and lines for that user\n",
    "    @param email: user's email\n",
    "    @param time: commuting time\n",
    "    @param lines: list of the lines concerned by those commuting times\n",
    "    '''\n",
    "    data_column=[email,time]\n",
    "    binary_lines=binaryConverter(lines)\n",
    "    for i in binary_lines:\n",
    "        data_column.append(i)\n",
    "    try:\n",
    "        col=max(data.columns)+1\n",
    "    except ValueError:\n",
    "        col=0\n",
    "    data[col]=data_column\n",
    "\n",
    "def removeUser(data,email):\n",
    "    p=0\n",
    "    for user_email in data.iloc[0]:\n",
    "        if user_email==email:\n",
    "            del data[p]\n",
    "        p+=1\n",
    "\n",
    "def clear(data):\n",
    "    for i in data.columns:\n",
    "        del data[i]"
   ]
  },
  {
   "cell_type": "markdown",
   "metadata": {},
   "source": [
    "# Define the time window for which we notify the users"
   ]
  },
  {
   "cell_type": "code",
   "execution_count": 12,
   "metadata": {
    "collapsed": true
   },
   "outputs": [],
   "source": [
    "time_window=15"
   ]
  },
  {
   "cell_type": "markdown",
   "metadata": {},
   "source": [
    "# Function that gives, based on the list of delayed lines, the list of people to notify by email"
   ]
  },
  {
   "cell_type": "code",
   "execution_count": 13,
   "metadata": {
    "collapsed": false
   },
   "outputs": [],
   "source": [
    "def listToNotify(data,affected_lines):\n",
    "    \n",
    "    #First get our local time\n",
    "    present_hour=time.localtime()[3]\n",
    "    present_minutes=time.localtime()[4]\n",
    "    #We express our time in minutes\n",
    "    present_time=present_hour*60+present_minutes\n",
    "    \n",
    "    #Intialize the list of people to notify\n",
    "    notif=[]\n",
    "    \n",
    "    #Convert the list of affected lines (i.e with planned works or delays) into binary format\n",
    "    binary_affected_lines=binaryConverter(affected_lines)\n",
    "    \n",
    "    #Do a for loop on all users\n",
    "    for col in data.columns:  \n",
    "        column=data[col]\n",
    "        user_time=column[1] #user_time is in 24hours format hh:mm\n",
    "        user_hour=int(user_time[0:2]) #gets hh\n",
    "        user_minutes=int(user_time[3:])   #gets mm\n",
    "        \n",
    "        #Handle the situation for commuting times around midnight which is a corner case\n",
    "        if user_hour==0:\n",
    "            if user_minutes>=time_window:\n",
    "                user_commuting_time=user_minutes\n",
    "            else:\n",
    "                user_commuting_time=24*60+user_minutes\n",
    "        else:\n",
    "            user_commuting_time=user_hour*60+user_minutes\n",
    "\n",
    "        #Check for the user in data[col] if he is concerned by one of the affected lines. If so, add him to the\n",
    "        #list of people to notify\n",
    "        if user_commuting_time - present_time == time_window:\n",
    "            user_lines=column[2:]\n",
    "            e=sum(np.logical_and(user_lines,binary_affected_lines)) # Check if the user entered an affected line\n",
    "            if e>0:\n",
    "                notif.append((column[0],col))\n",
    "    return list(set(notif))  # allows to avoid duplicates and returns the list of unique elements in notif"
   ]
  },
  {
   "cell_type": "markdown",
   "metadata": {},
   "source": [
    "# Function to trigger the emails"
   ]
  },
  {
   "cell_type": "code",
   "execution_count": 14,
   "metadata": {
    "collapsed": true
   },
   "outputs": [],
   "source": [
    "\n",
    "\n",
    "def emailTrigger(data,affected_lines):\n",
    "    trigger_notifList = listToNotify(data,affected_lines)\n",
    "    \n",
    "    for user in trigger_notifList:\n",
    "        sendmail(data,user,affected_lines)\n",
    "        "
   ]
  },
  {
   "cell_type": "code",
   "execution_count": 15,
   "metadata": {
    "collapsed": false
   },
   "outputs": [
    {
     "ename": "NameError",
     "evalue": "name 'data' is not defined",
     "output_type": "error",
     "traceback": [
      "\u001b[0;31m---------------------------------------------------------------------------\u001b[0m",
      "\u001b[0;31mNameError\u001b[0m                                 Traceback (most recent call last)",
      "\u001b[0;32m<ipython-input-15-5a3a1e74bd65>\u001b[0m in \u001b[0;36m<module>\u001b[0;34m()\u001b[0m\n\u001b[1;32m      3\u001b[0m \u001b[0;34m\u001b[0m\u001b[0m\n\u001b[1;32m      4\u001b[0m \u001b[0;34m\u001b[0m\u001b[0m\n\u001b[0;32m----> 5\u001b[0;31m \u001b[0mgetall_usrNames\u001b[0m\u001b[0;34m(\u001b[0m\u001b[0mdata\u001b[0m\u001b[0;34m)\u001b[0m\u001b[0;34m\u001b[0m\u001b[0m\n\u001b[0m",
      "\u001b[0;31mNameError\u001b[0m: name 'data' is not defined"
     ]
    }
   ],
   "source": [
    "def getall_usrNames(usr_df):\n",
    "    return list(set(usr_df[0,:]))\n",
    "\n",
    "\n",
    "getall_usrNames(data)"
   ]
  },
  {
   "cell_type": "markdown",
   "metadata": {},
   "source": [
    "# Function that takes a list of lines and returns a text listing those lines"
   ]
  },
  {
   "cell_type": "code",
   "execution_count": 16,
   "metadata": {
    "collapsed": false
   },
   "outputs": [
    {
     "name": "stdout",
     "output_type": "stream",
     "text": [
      "123, 456, 7, ACE, BDFM, G, JZ, L, NQR, S and SIR\n",
      "123 and 456\n"
     ]
    }
   ],
   "source": [
    "def list_lines_txt(lines):\n",
    "    if len(lines)>2:\n",
    "        s=''\n",
    "        for i in range(len(lines)-2):\n",
    "            s=s+lines[i]+', '\n",
    "        s=s+lines[-2]+' and '+lines[-1]\n",
    "    elif len(lines)==2:\n",
    "        s=lines[0]+' and '+lines[1]\n",
    "    else:\n",
    "        s=lines[0]\n",
    "    return s\n",
    "\n",
    "print(list_lines_txt(alllines))\n",
    "print(list_lines_txt(alllines[:2]))\n",
    "\n"
   ]
  },
  {
   "cell_type": "markdown",
   "metadata": {},
   "source": [
    "# Function that takes a list of affected lines and returns the reason of the delays or works"
   ]
  },
  {
   "cell_type": "code",
   "execution_count": 17,
   "metadata": {
    "collapsed": true
   },
   "outputs": [],
   "source": [
    "def detail_affected_lines(affected_lines):\n",
    "    text=''\n",
    "    d=dictionary()\n",
    "    for line in affected_lines:\n",
    "        if d[line]=='delayed':\n",
    "            text=text+' Lines '+line+'\\n Status: Delayed \\n'+delays_text(line,root)+'\\n \\n'\n",
    "        if d[line]=='works':\n",
    "            text=text+' Lines '+line+'\\n Status: Planned Works\\n'\n",
    "            for i in PlannedWorkText(line,root)[2]:\n",
    "                text=text+i+'\\n'\n",
    "            text=text+'\\n \\n'\n",
    "    return text+'\\n'"
   ]
  },
  {
   "cell_type": "code",
   "execution_count": 18,
   "metadata": {
    "collapsed": false
   },
   "outputs": [],
   "source": [
    "def sendmail(data,user,affected_lines):\n",
    "    '''\n",
    "    Function to send emails\n",
    "    @param data: our dataframe\n",
    "    @param user: tuple (email,column). email is the user's email. column is the column where this user is in data \n",
    "    '''\n",
    "    mail=user[0]\n",
    "    column_number=user[1]\n",
    "    server = smtplib.SMTP('smtp.gmail.com:587')\n",
    "    server.ehlo()\n",
    "    server.starttls()\n",
    "    server.login(\"notificationmta@gmail.com\", \"PyProject1859\")\n",
    "    \n",
    "    binary_affected_lines=binaryConverter(affected_lines)\n",
    "    col=data[column_number]\n",
    "    c=col[2:]\n",
    "    user_binary_affected_lines=np.logical_and(binary_affected_lines,c)\n",
    "    user_affected_lines=binaryDecoder(user_binary_affected_lines)\n",
    "    \n",
    "    s=list_lines_txt(affected_lines)\n",
    "    \n",
    "    s2=list_lines_txt(user_affected_lines)\n",
    "    \n",
    "    detail=detail_affected_lines(user_affected_lines)\n",
    "    #Send the mail\n",
    "    msg = \"\\r\\n\".join([\n",
    "            \"From: subwayhelper@gmail.com\",\n",
    "            \"To: \"+mail,\n",
    "            \"Subject: Guys please read this email and tell me what you think. PyProject last Test ALERT: Delays on line(s) \"+str(s2),\n",
    "            \"\",\n",
    "            '''Dear user, \\n \\n There are currently delays on lines ''' +s+\n",
    "            '''. You indicated that you will take line(s) '''+str(s2)+' in '+str(time_window)+' minutes'+''' so you are concerned by those delays or works and should consider another route. \\n '''\n",
    "            '''Here are the details for the lines you usually take \\n \\n'''+detail+''' Thanks for using our platform, \\n \\n The subway helper team'''\n",
    "            ])\n",
    "        # The /n separates the message from the headers\n",
    "    server.sendmail(\"subwayhelper@gmail.com\", mail, msg)\n",
    "    print('Email successfully sent to '+str(mail))\n",
    "    server.quit()"
   ]
  },
  {
   "cell_type": "markdown",
   "metadata": {},
   "source": [
    "# Workspace"
   ]
  },
  {
   "cell_type": "code",
   "execution_count": null,
   "metadata": {
    "collapsed": false
   },
   "outputs": [],
   "source": []
  },
  {
   "cell_type": "code",
   "execution_count": 19,
   "metadata": {
    "collapsed": false
   },
   "outputs": [
    {
     "name": "stdout",
     "output_type": "stream",
     "text": [
      "19\n",
      "31\n"
     ]
    }
   ],
   "source": [
    "import time\n",
    "print(time.localtime()[3])\n",
    "print(time.localtime()[4])"
   ]
  },
  {
   "cell_type": "code",
   "execution_count": 20,
   "metadata": {
    "collapsed": false
   },
   "outputs": [],
   "source": [
    "data=init()\n",
    "t=str(time.localtime()[3])+':'+str(time.localtime()[4])\n",
    "time_window=0\n",
    "delayed=delayedLines(root)\n",
    "addProfile(data,'yk1859@nyu.edu',t,['ACE','BDFM','S'])\n",
    "addProfile(data,'srf366@stern.nyu.edu',t,['G','JZ','BDFM','ACE'])\n",
    "addProfile(data,'fh643@nyu.edu',t,['G','L','S','BDFM'])\n",
    "emailTrigger(data,delayed)"
   ]
  },
  {
   "cell_type": "code",
   "execution_count": 21,
   "metadata": {
    "collapsed": false
   },
   "outputs": [
    {
     "name": "stderr",
     "output_type": "stream",
     "text": [
      "[12/Dec/2017:19:32:00] ENGINE Listening for SIGTERM.\n",
      "[12/Dec/2017:19:32:00] ENGINE Listening for SIGHUP.\n",
      "[12/Dec/2017:19:32:00] ENGINE Listening for SIGUSR1.\n",
      "[12/Dec/2017:19:32:00] ENGINE Bus STARTING\n",
      "CherryPy Checker:\n",
      "'/Users/Sam_I_Am/Documents/Stern/Semester 3/Programming for DS/PDS_jupyter/GitHub/srf366/MTA_Project/./public' (root + dir) is not an existing filesystem path.\n",
      "section: [/static]\n",
      "root: '/Users/Sam_I_Am/Documents/Stern/Semester 3/Programming for DS/PDS_jupyter/GitHub/srf366/MTA_Project'\n",
      "dir: './public'\n",
      "\n",
      "[12/Dec/2017:19:32:00] ENGINE Started monitor thread 'Autoreloader'.\n",
      "[12/Dec/2017:19:32:00] ENGINE Started monitor thread '_TimeoutMonitor'.\n",
      "[12/Dec/2017:19:32:00] ENGINE Serving on http://127.0.0.1:8080\n",
      "[12/Dec/2017:19:32:00] ENGINE Bus STARTED\n"
     ]
    },
    {
     "name": "stdout",
     "output_type": "stream",
     "text": [
      "127.0.0.1 - - [12/Dec/2017:19:32:08] \"GET / HTTP/1.1\" 200 1991 \"http://localhost:8888/notebooks/GitHub/srf366/MTA_Project/AllCombined_Test20171212.ipynb\" \"Mozilla/5.0 (Macintosh; Intel Mac OS X 10_11_6) AppleWebKit/604.3.5 (KHTML, like Gecko) Version/11.0.1 Safari/604.3.5\"\n",
      "127.0.0.1 - - [12/Dec/2017:19:32:08] \"GET /static/css/style.css HTTP/1.1\" 404 1295 \"http://127.0.0.1:8080/\" \"Mozilla/5.0 (Macintosh; Intel Mac OS X 10_11_6) AppleWebKit/604.3.5 (KHTML, like Gecko) Version/11.0.1 Safari/604.3.5\"\n",
      "127.0.0.1 - - [12/Dec/2017:19:32:30] \"GET /submit?email=baba%40blacksheep.com&time=22%3A22&lines=456&lines=7&lines=ACE HTTP/1.1\" 200 101 \"http://127.0.0.1:8080/\" \"Mozilla/5.0 (Macintosh; Intel Mac OS X 10_11_6) AppleWebKit/604.3.5 (KHTML, like Gecko) Version/11.0.1 Safari/604.3.5\"\n"
     ]
    },
    {
     "name": "stderr",
     "output_type": "stream",
     "text": [
      "[12/Dec/2017:19:36:30] ENGINE Keyboard Interrupt: shutting down bus\n",
      "[12/Dec/2017:19:36:30] ENGINE Bus STOPPING\n",
      "[12/Dec/2017:19:36:30] ENGINE HTTP Server cherrypy._cpwsgi_server.CPWSGIServer(('127.0.0.1', 8080)) shut down\n",
      "[12/Dec/2017:19:36:30] ENGINE Stopped thread 'Autoreloader'.\n",
      "[12/Dec/2017:19:36:30] ENGINE Stopped thread '_TimeoutMonitor'.\n",
      "[12/Dec/2017:19:36:30] ENGINE Bus STOPPED\n",
      "[12/Dec/2017:19:36:30] ENGINE Bus EXITING\n",
      "[12/Dec/2017:19:36:30] ENGINE Bus EXITED\n",
      "[12/Dec/2017:19:36:30] ENGINE Waiting for child threads to terminate...\n"
     ]
    }
   ],
   "source": [
    "\n",
    "# \"return\" is to show on the web page something\n",
    "#modeled on tutorial 6\n",
    "class MTA_Notification(object):\n",
    "    @cherrypy.expose\n",
    "    def index(self):\n",
    "      return \"\"\"<html>\n",
    "          <head>\n",
    "              <title>Sign-up Page</title>\n",
    "              <link href=\"/static/css/style.css\" rel=\"stylesheet\">      \n",
    "          </head>\n",
    "          <body><fieldset><legend>MTA Notification</legend>\n",
    "          <form method=\"get\" action=\"submit\" target=\"_self\"><h1>Sign up</h1><br/><p>Enter your email address here: <br>\n",
    "             <input type=\"email\" name=\"email\" placeholder=\"Email address\" id=\"email\" required></p><p> When do you take MTA? Enter time in 24hr format: <br>\n",
    "             <input type=\"text\"  name=\"time\" placeholder=\"HH:MM\" pattern=\"([01]?[0-9]|2[0-3]):[0-5][0-9]\" id=\"time\" required></p><p><fieldset><legend>Please select all the possible lines you take: </legend>\n",
    "                 <input type=\"checkbox\" name=\"lines\" value=\"123\"/><lable for=\"123\">1,2,3</lable><br />\n",
    "                 <input type=\"checkbox\" name=\"lines\" value=\"456\"/><label for=\"456\">4,5,6</label><br />\n",
    "                 <input type=\"checkbox\" name=\"lines\" value=\"7\"/><label for=\"7\">7</label><br />\n",
    "                 <input type=\"checkbox\" name=\"lines\" value=\"ACE\"/><label for=\"ACE\">A,C,E</label><br />\n",
    "                 <input type=\"checkbox\" name=\"lines\" value=\"BDFM\"/><label for=\"BDFM\">B,D,F,M</label><br />\n",
    "                 <input type=\"checkbox\" name=\"lines\" value=\"G\"/><label for=\"G\">G</label><br />            \n",
    "                 <input type=\"checkbox\" name=\"lines\" value=\"JZ\"/><label for=\"JZ\">J,Z</label><br />  \n",
    "                 <input type=\"checkbox\" name=\"lines\" value=\"L\"/><label for=\"L\">L</label><br />\n",
    "                 <input type=\"checkbox\" name=\"lines\" value=\"NQR\"/><label for=\"NQR\">N,Q,R</label><br />\n",
    "                 <input type=\"checkbox\" name=\"lines\" value=\"S\"/><label for=\"S\">S</label><br />\n",
    "                 <input type=\"checkbox\" name=\"lines\" value=\"SIR\"/><label for=\"SIR\">S,I,R</label><br /></fieldset><p>\n",
    "             <button type=\"submit\">submit your info</button></p>\n",
    "            </form></fieldset>\n",
    "           </body>\n",
    "           <?php\n",
    "           ?>\n",
    "         </html>\"\"\"\n",
    "\n",
    "    @cherrypy.expose\n",
    "    def submit(self, email, time, lines):          # email is a string, time is a string, lines is a list\n",
    "        lineChoice = ','.join(lines) \n",
    "        addProfile(data,email,time,lines)\n",
    "        return \"Your email is: \" + email + \"\\nYour time of commute is: \" + time + \"\\nYour lines of choice are: \" + lineChoice\n",
    "\n",
    "if __name__ == '__main__':\n",
    "    conf = {\n",
    "        '/': {\n",
    "            'tools.sessions.on': True,\n",
    "            'tools.staticdir.root': os.path.abspath(os.getcwd())\n",
    "        },\n",
    "        '/static': {\n",
    "            'tools.staticdir.on': True,\n",
    "            'tools.staticdir.dir': './public'\n",
    "        }\n",
    "    }\n",
    "    cherrypy.quickstart(MTA_Notification(), '/', conf)\n",
    "\n"
   ]
  },
  {
   "cell_type": "code",
   "execution_count": 22,
   "metadata": {
    "collapsed": false
   },
   "outputs": [
    {
     "data": {
      "text/html": [
       "<div>\n",
       "<table border=\"1\" class=\"dataframe\">\n",
       "  <thead>\n",
       "    <tr style=\"text-align: right;\">\n",
       "      <th></th>\n",
       "      <th>0</th>\n",
       "      <th>1</th>\n",
       "      <th>2</th>\n",
       "      <th>3</th>\n",
       "    </tr>\n",
       "  </thead>\n",
       "  <tbody>\n",
       "    <tr>\n",
       "      <th>User</th>\n",
       "      <td>yk1859@nyu.edu</td>\n",
       "      <td>srf366@stern.nyu.edu</td>\n",
       "      <td>fh643@nyu.edu</td>\n",
       "      <td>baba@blacksheep.com</td>\n",
       "    </tr>\n",
       "    <tr>\n",
       "      <th>Time</th>\n",
       "      <td>19:31</td>\n",
       "      <td>19:31</td>\n",
       "      <td>19:31</td>\n",
       "      <td>22:22</td>\n",
       "    </tr>\n",
       "    <tr>\n",
       "      <th>123</th>\n",
       "      <td>0</td>\n",
       "      <td>0</td>\n",
       "      <td>0</td>\n",
       "      <td>0</td>\n",
       "    </tr>\n",
       "    <tr>\n",
       "      <th>456</th>\n",
       "      <td>0</td>\n",
       "      <td>0</td>\n",
       "      <td>0</td>\n",
       "      <td>1</td>\n",
       "    </tr>\n",
       "    <tr>\n",
       "      <th>7</th>\n",
       "      <td>0</td>\n",
       "      <td>0</td>\n",
       "      <td>0</td>\n",
       "      <td>1</td>\n",
       "    </tr>\n",
       "    <tr>\n",
       "      <th>ACE</th>\n",
       "      <td>1</td>\n",
       "      <td>1</td>\n",
       "      <td>0</td>\n",
       "      <td>1</td>\n",
       "    </tr>\n",
       "    <tr>\n",
       "      <th>BDFM</th>\n",
       "      <td>1</td>\n",
       "      <td>1</td>\n",
       "      <td>1</td>\n",
       "      <td>0</td>\n",
       "    </tr>\n",
       "    <tr>\n",
       "      <th>G</th>\n",
       "      <td>0</td>\n",
       "      <td>1</td>\n",
       "      <td>1</td>\n",
       "      <td>0</td>\n",
       "    </tr>\n",
       "    <tr>\n",
       "      <th>JZ</th>\n",
       "      <td>0</td>\n",
       "      <td>1</td>\n",
       "      <td>0</td>\n",
       "      <td>0</td>\n",
       "    </tr>\n",
       "    <tr>\n",
       "      <th>L</th>\n",
       "      <td>0</td>\n",
       "      <td>0</td>\n",
       "      <td>1</td>\n",
       "      <td>0</td>\n",
       "    </tr>\n",
       "    <tr>\n",
       "      <th>NQR</th>\n",
       "      <td>0</td>\n",
       "      <td>0</td>\n",
       "      <td>0</td>\n",
       "      <td>0</td>\n",
       "    </tr>\n",
       "    <tr>\n",
       "      <th>S</th>\n",
       "      <td>1</td>\n",
       "      <td>0</td>\n",
       "      <td>1</td>\n",
       "      <td>0</td>\n",
       "    </tr>\n",
       "    <tr>\n",
       "      <th>SIR</th>\n",
       "      <td>0</td>\n",
       "      <td>0</td>\n",
       "      <td>0</td>\n",
       "      <td>0</td>\n",
       "    </tr>\n",
       "  </tbody>\n",
       "</table>\n",
       "</div>"
      ],
      "text/plain": [
       "                   0                     1              2                    3\n",
       "User  yk1859@nyu.edu  srf366@stern.nyu.edu  fh643@nyu.edu  baba@blacksheep.com\n",
       "Time           19:31                 19:31          19:31                22:22\n",
       "123                0                     0              0                    0\n",
       "456                0                     0              0                    1\n",
       "7                  0                     0              0                    1\n",
       "ACE                1                     1              0                    1\n",
       "BDFM               1                     1              1                    0\n",
       "G                  0                     1              1                    0\n",
       "JZ                 0                     1              0                    0\n",
       "L                  0                     0              1                    0\n",
       "NQR                0                     0              0                    0\n",
       "S                  1                     0              1                    0\n",
       "SIR                0                     0              0                    0"
      ]
     },
     "execution_count": 22,
     "metadata": {},
     "output_type": "execute_result"
    }
   ],
   "source": [
    "data"
   ]
  },
  {
   "cell_type": "code",
   "execution_count": null,
   "metadata": {
    "collapsed": false
   },
   "outputs": [],
   "source": [
    "delayed"
   ]
  },
  {
   "cell_type": "code",
   "execution_count": null,
   "metadata": {
    "collapsed": false
   },
   "outputs": [],
   "source": [
    "listToNotify(data,delayed)"
   ]
  },
  {
   "cell_type": "code",
   "execution_count": 23,
   "metadata": {
    "collapsed": false
   },
   "outputs": [
    {
     "name": "stdout",
     "output_type": "stream",
     "text": [
      "                   0                     1              2                    3\n",
      "User  yk1859@nyu.edu  srf366@stern.nyu.edu  fh643@nyu.edu  baba@blacksheep.com\n",
      "Time           19:31                 19:31          19:31                22:22\n",
      "123                0                     0              0                    0\n",
      "456                0                     0              0                    1\n",
      "7                  0                     0              0                    1\n",
      "ACE                1                     1              0                    1\n",
      "BDFM               1                     1              1                    0\n",
      "G                  0                     1              1                    0\n",
      "JZ                 0                     1              0                    0\n",
      "L                  0                     0              1                    0\n",
      "NQR                0                     0              0                    0\n",
      "S                  1                     0              1                    0\n",
      "SIR                0                     0              0                    0\n"
     ]
    }
   ],
   "source": [
    "print(data)"
   ]
  },
  {
   "cell_type": "code",
   "execution_count": null,
   "metadata": {
    "collapsed": false
   },
   "outputs": [],
   "source": [
    "clear(data)\n",
    "data"
   ]
  },
  {
   "cell_type": "code",
   "execution_count": null,
   "metadata": {
    "collapsed": false
   },
   "outputs": [],
   "source": [
    "listToNotify(data,delayed)"
   ]
  },
  {
   "cell_type": "code",
   "execution_count": null,
   "metadata": {
    "collapsed": false
   },
   "outputs": [],
   "source": []
  },
  {
   "cell_type": "code",
   "execution_count": null,
   "metadata": {
    "collapsed": false
   },
   "outputs": [],
   "source": []
  },
  {
   "cell_type": "code",
   "execution_count": null,
   "metadata": {
    "collapsed": true
   },
   "outputs": [],
   "source": []
  }
 ],
 "metadata": {
  "kernelspec": {
   "display_name": "Python 3",
   "language": "python",
   "name": "python3"
  },
  "language_info": {
   "codemirror_mode": {
    "name": "ipython",
    "version": 3
   },
   "file_extension": ".py",
   "mimetype": "text/x-python",
   "name": "python",
   "nbconvert_exporter": "python",
   "pygments_lexer": "ipython3",
   "version": "3.6.0"
  }
 },
 "nbformat": 4,
 "nbformat_minor": 0
}
