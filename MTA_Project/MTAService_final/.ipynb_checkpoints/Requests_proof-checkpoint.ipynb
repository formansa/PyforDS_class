{
 "cells": [
  {
   "cell_type": "markdown",
   "metadata": {},
   "source": [
    "### Below is proof of concept showing how to use requests to get data from an actively running server (in this case the CherryPy server created in ). "
   ]
  },
  {
   "cell_type": "code",
   "execution_count": null,
   "metadata": {
    "collapsed": false
   },
   "outputs": [],
   "source": [
    "import requests\n",
    "import json\n",
    "\n",
    "\n",
    "result =  requests.get('http://127.0.0.1:8080/curr_user_dict')\n",
    "result_str = requests.get('http://127.0.0.1:8080/curr_user_str')\n",
    "# result_str doesn't need to be used because the dict method requires no manual parsing. \n",
    "\n",
    "\n",
    "print(result.text, '\\n'*3)\n",
    "\n",
    "dict_test = json.loads(result.text)\n",
    "print(type(dict_test), dict_test)\n"
   ]
  },
  {
   "cell_type": "code",
   "execution_count": null,
   "metadata": {
    "collapsed": true
   },
   "outputs": [],
   "source": []
  },
  {
   "cell_type": "code",
   "execution_count": null,
   "metadata": {
    "collapsed": false
   },
   "outputs": [],
   "source": [
    "\"\"\"   ignore below \n",
    "\n",
    "try:\n",
    "    result =  requests.get('http://127.0.0.1:8080/curr_user_dict')\n",
    "except ConnectionError:\n",
    "    print('server not running')\n",
    "    \n",
    "\n",
    "dict_test = json.loads(result.text)\n",
    "print(type(dict_test), dict_test)\n",
    "\"\"\""
   ]
  }
 ],
 "metadata": {
  "kernelspec": {
   "display_name": "Python 3",
   "language": "python",
   "name": "python3"
  },
  "language_info": {
   "codemirror_mode": {
    "name": "ipython",
    "version": 3
   },
   "file_extension": ".py",
   "mimetype": "text/x-python",
   "name": "python",
   "nbconvert_exporter": "python",
   "pygments_lexer": "ipython3",
   "version": "3.6.0"
  }
 },
 "nbformat": 4,
 "nbformat_minor": 2
}
