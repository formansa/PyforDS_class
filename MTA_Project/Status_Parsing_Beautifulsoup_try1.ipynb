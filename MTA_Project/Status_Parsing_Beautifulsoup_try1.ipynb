{
 "cells": [
  {
   "cell_type": "code",
   "execution_count": 1,
   "metadata": {
    "collapsed": true
   },
   "outputs": [],
   "source": [
    "import requests\n",
    "from bs4 import BeautifulSoup\n",
    "import lxml"
   ]
  },
  {
   "cell_type": "code",
   "execution_count": 2,
   "metadata": {
    "collapsed": true
   },
   "outputs": [],
   "source": [
    "TARGET = 'servicestatus.json'\n",
    "SOURCE = 'http://web.mta.info/status/serviceStatus.txt'\n",
    "\n",
    "response = requests.get(SOURCE)\n",
    "xml_string = response.text\n",
    "\n",
    "soup = BeautifulSoup(xml_string, \"xml\")\n"
   ]
  },
  {
   "cell_type": "code",
   "execution_count": 45,
   "metadata": {
    "collapsed": false
   },
   "outputs": [
    {
     "name": "stdout",
     "output_type": "stream",
     "text": [
      "\n",
      "\n",
      "<name>123</name>\n",
      "\n",
      "\n",
      "<status>DELAYS</status>\n",
      "\n",
      "\n",
      "<text>\n",
      "                    &lt;span class=\"TitleDelay\"&gt;Delays&lt;/span&gt;\n",
      "                    &lt;span class=\"DateStyle\"&gt;\n",
      "                    &amp;nbsp;Posted:&amp;nbsp;10/29/2017&amp;nbsp;10:05AM\n",
      "                    &lt;/span&gt;&lt;br/&gt;&lt;br/&gt;\n",
      "                  &lt;P&gt;[1], [2] and [3] trains are running with delays in both directions because of track maintenance between &lt;STRONG&gt;59 St-Columbus Circle&lt;/STRONG&gt;Â and &lt;STRONG&gt;72 St&lt;/STRONG&gt;. &lt;/P&gt;\n",
      "&lt;P&gt;Allow additional travel time. &lt;/P&gt;\n",
      "                &lt;br/&gt;&lt;br/&gt;\n",
      "              \n",
      "                    &lt;span class=\"TitlePlannedWork\" &gt;Planned Work&lt;/span&gt;\n",
      "                    &lt;br/&gt;\n",
      "                  &lt;a class=\"plannedWorkDetailLink\" onclick=ShowHide(168255);&gt;&lt;b&gt;[3] Downtown trains run local from 96 St to Times Sq-42 St&lt;/a&gt;&lt;br/&gt;&lt;br/&gt;&lt;div id= 168255 class=\"plannedWorkDetail\" &gt;&lt;/b&gt;Weekends, 12:01 AM Sat to 5 AM Mon, Oct 28 - 30  &amp;bull;  Nov 4 - 6&lt;br&gt;&lt;br&gt;&amp;bull; Please allow additional travel time.&lt;br&gt;&lt;b&gt;&lt;br&gt;&lt;/div&gt;&lt;/b&gt;&lt;br/&gt;\n",
      "                &lt;br/&gt;&lt;br/&gt;\n",
      "              \n",
      "                    &lt;span class=\"TitlePlannedWork\" &gt;Planned Work&lt;/span&gt;\n",
      "                    &lt;br/&gt;\n",
      "                  &lt;a class=\"plannedWorkDetailLink\" onclick=ShowHide(168254);&gt;&lt;b&gt;[2] Downtown trains run local from 96 St to Times Sq-42 St&lt;/a&gt;&lt;br/&gt;&lt;br/&gt;&lt;div id= 168254 class=\"plannedWorkDetail\" &gt;&lt;/b&gt;Weekends, 12:01 AM Sat to 5 AM Mon, Oct 28 - 30  &amp;bull;  Nov 4 - 6&lt;br&gt;&lt;br&gt;&amp;bull; Please allow additional travel time.&lt;br&gt;&lt;b&gt;&lt;br&gt;&lt;/div&gt;&lt;/b&gt;&lt;br/&gt;\n",
      "                &lt;br/&gt;&lt;br/&gt;\n",
      "              \n",
      "                    &lt;span class=\"TitlePlannedWork\" &gt;Planned Work&lt;/span&gt;\n",
      "                    &lt;br/&gt;\n",
      "                  &lt;a class=\"plannedWorkDetailLink\" onclick=ShowHide(168833);&gt;&lt;b&gt;[2] No trains between Dyre Av and E 180 St&lt;/a&gt;&lt;br/&gt;&lt;br/&gt;&lt;div id= 168833 class=\"plannedWorkDetail\" &gt;[SB] Free shuttle buses provide alternate service&lt;br&gt;&lt;/b&gt;Weekends, 11:45 PM Fri to 5 AM Mon, Oct 27 - 30  &amp;bull;  Nov 3 - 6  &lt;br&gt;&lt;br&gt;[2] service operates between &lt;b&gt;E 180 St&lt;/b&gt; and&lt;b&gt; South Ferry&lt;/b&gt;.&lt;br&gt;[5] service operates between &lt;b&gt;241 St &lt;/b&gt;and&lt;b&gt; Flatbush Av&lt;/b&gt;.&lt;br&gt;&lt;br&gt;[SB] Buses make all stops between &lt;b&gt;E 180 St&lt;/b&gt; and &lt;b&gt;Dyre Av&lt;/b&gt;.&lt;br&gt;&amp;bull; Transfer between [2] [5] trains and [SB] buses at &lt;b&gt;E 180 St&lt;/b&gt;.&lt;br&gt;&lt;br&gt;&lt;html&gt;&lt;font size=3&gt;&lt;b&gt;&lt;a style=\"cursor:pointer; text-decoration:underline;\" onclick=ShowHide(1688330)&gt;Show Shuttle Bus Stops&lt;/a&gt;&lt;/b&gt;&lt;/font&gt;                           [TP]&lt;div id=\"1688330\"; style=\"display:none;\"&gt;&lt;br&gt;&lt;table class=plannedworkTableStyle  width=70% border=1 cellspacing=1 cellpadding=3 rules=rows frame=hsides&gt;&lt;br&gt;&lt;tr bgcolor=#FAF8CC&gt;&lt;td&gt;&lt;b&gt;Station&lt;/b&gt;&lt;td&gt;&lt;b&gt;Shuttle Bus Stop&lt;/b&gt;&lt;td&gt;&lt;b&gt;Bus&lt;br&gt;&lt;/b&gt;&lt;tr&gt;&lt;td&gt;E 180 St  [ad]  [2S] [5] &lt;td&gt;Morris Park Av at E 180 St&lt;td&gt;&lt;b&gt;Bx21&lt;br&gt;&lt;/b&gt;&lt;tr&gt;&lt;td rowspan=2&gt;Morris Park&lt;td&gt;Morris Park Av at Hone Av&lt;td&gt;&lt;b&gt;Bx21&lt;br&gt;&lt;/b&gt;&lt;tr&gt;&lt;td&gt;Williamsbridge Rd at Lydig Av&lt;td&gt; &amp;mdash;&lt;br&gt;&lt;tr&gt;&lt;td rowspan=2&gt;Pelham Pkwy&lt;td&gt;Williamsbridge Rd at Pelham Pkwy S&lt;td&gt;&lt;b&gt;Bx8&lt;br&gt;&lt;/b&gt;&lt;tr&gt;&lt;td&gt;Williamsbridge Rd at Pelham Pkwy N&lt;td&gt;&lt;b&gt;Bx8&lt;/b&gt;&lt;tr&gt;&lt;td rowspan=2&gt;Gun Hill Rd&lt;td&gt;E Gun Hill Rd at Knapp St (to Dyre Av)&lt;td&gt;&lt;b&gt;Bx28&lt;br&gt;&lt;/b&gt;&lt;tr&gt;&lt;td&gt;E Gun Hill Rd at DeWitt Pl (to E 180 St)&lt;td&gt;&lt;b&gt;Bx28&lt;br&gt;&lt;/b&gt;&lt;tr&gt;&lt;td&gt;Baychester Av&lt;td&gt;Boston Rd at Baychester Av &lt;td&gt;&lt;b&gt;Bx30&lt;br&gt;&lt;/b&gt;&lt;tr&gt;&lt;td&gt;Dyre Av&lt;td&gt;Dyre Av at Light St&lt;td&gt;&lt;b&gt;Bx16&lt;/b&gt;&lt;/table&gt;&lt;/div&gt;&lt;/html&gt;&lt;br&gt;&lt;br&gt;&lt;b&gt;Note:&lt;/b&gt; This advisory reflects changes to weekend [2] train service | &lt;a href=http://web.mta.info/nyct/service/pdf/t2cur.pdf target=_blank&gt;&lt;font color=#0000FF&gt;&lt;b&gt;&lt;u&gt;pdf&lt;/u&gt;&lt;/b&gt;&lt;/font&gt;&lt;/a&gt;&lt;br&gt;&lt;b&gt;&lt;br&gt;&lt;/div&gt;&lt;/b&gt;&lt;br/&gt;\n",
      "                &lt;br/&gt;&lt;br/&gt;\n",
      "              \n",
      "                    &lt;span class=\"TitlePlannedWork\" &gt;Planned Work&lt;/span&gt;\n",
      "                    &lt;br/&gt;\n",
      "                  &lt;a class=\"plannedWorkDetailLink\" onclick=ShowHide(162679);&gt;&lt;b&gt;Weekend [2] [3] station closures and route changes&lt;/a&gt;&lt;br/&gt;&lt;br/&gt;&lt;div id= 162679 class=\"plannedWorkDetail\" &gt;&lt;/b&gt;Until Summer 2018&lt;br&gt;&lt;br&gt;No service at Park Place, Wall St, Clark St and Hoyt St; use nearby [4] [5] stations&lt;br&gt;&lt;br&gt;No [2] [3] service between Manhattan and Brooklyn; take the [4] or [5] instead.&lt;br&gt;&lt;br&gt;Weekend service map for &lt;a href=http://web.mta.info/nyct/service/pdf/FF_Clark_St_web_map.pdf target=_blank&gt;&lt;font color=#0000FF&gt;&lt;b&gt;&lt;u&gt;Lower Manhattan and Downtown Brooklyn&lt;/u&gt;&lt;/b&gt;&lt;/font&gt;&lt;/a&gt;&lt;br&gt;&lt;br&gt;&lt;/font&gt;New timetables with Weekend Route Changes | [2] &lt;a href=http://web.mta.info/nyct/service/pdf/t2cur.pdf target=_blank&gt;&lt;font color=#0000FF&gt;&lt;b&gt;&lt;u&gt;pdf&lt;/u&gt;&lt;/b&gt;&lt;/font&gt;&lt;/a&gt; | [3] &lt;a href=http://web.mta.info/nyct/service/pdf/t3cur.pdf target=_blank&gt;&lt;font color=#0000FF&gt;&lt;b&gt;&lt;u&gt;pdf&lt;/u&gt;&lt;/b&gt;&lt;/font&gt;&lt;/a&gt; | [4] &lt;a href=http://web.mta.info/nyct/service/pdf/t4cur.pdf target=_blank&gt;&lt;font color=#0000FF&gt;&lt;b&gt;&lt;u&gt;pdf&lt;/u&gt;&lt;/b&gt;&lt;/font&gt;&lt;/a&gt; | [5] &lt;a href=http://web.mta.info/nyct/service/pdf/t5cur.pdf target=_blank&gt;&lt;font color=#0000FF&gt;&lt;b&gt;&lt;u&gt;pdf&lt;/u&gt;&lt;/b&gt;&lt;/font&gt;&lt;/a&gt;&lt;br&gt;&lt;b&gt;&lt;br&gt;&lt;/div&gt;&lt;/b&gt;&lt;br/&gt;\n",
      "                &lt;br/&gt;&lt;br/&gt;\n",
      "              \n",
      "                    &lt;span class=\"TitlePlannedWork\" &gt;Planned Work&lt;/span&gt;\n",
      "                    &lt;br/&gt;\n",
      "                  &lt;a class=\"plannedWorkDetailLink\" onclick=ShowHide(168258);&gt;&lt;b&gt;[2] [5] Uptown trains run express from 3 Av-149 St to E 180 St&lt;/a&gt;&lt;br/&gt;&lt;br/&gt;&lt;div id= 168258 class=\"plannedWorkDetail\" &gt;&lt;/b&gt;Weekend, 3:45 AM Sat to 10 PM Sun, Oct 28 - 29&lt;br&gt; &lt;br&gt;For service &lt;i&gt;to&lt;/i&gt; Jackson, Prospect, Intervale Avs, Simpson, Freeman, 174 Sts and E Tremont Av, &lt;br&gt;take the &lt;b&gt;[2]&lt;/b&gt; or &lt;b&gt;[5]&lt;/b&gt; to E 180 St and transfer to a Manhattan-bound&lt;b&gt; [2] &lt;/b&gt;or &lt;b&gt;[5]&lt;/b&gt;.&lt;br&gt;&lt;br&gt;For service &lt;i&gt;from&lt;/i&gt; these stations, take the &lt;b&gt;[2]&lt;/b&gt; or &lt;b&gt;[5]&lt;/b&gt; to 149 St-Grand Concourse and transfer to an&lt;br&gt;uptown [2] or [5].&lt;br&gt;&lt;br&gt;&lt;/font&gt;&lt;table class=plannedworkTableStyle  border=1 cellspacing=1 cellpadding=5 rules=none frame=box&gt;&lt;td&gt;  [ad]  &lt;td&gt;&lt;font size=1&gt;This service change affects one or more ADA accessible stations. Please call 511 for help with planning&lt;br&gt;your trip. If you are deaf or hard of hearing, use your preferred relay service provider or the free 711 relay.  &lt;/font&gt;&lt;/table&gt;&lt;br&gt;&lt;b&gt;&lt;br&gt;&lt;/div&gt;&lt;/b&gt;&lt;br/&gt;\n",
      "                &lt;br/&gt;&lt;br/&gt;\n",
      "              \n",
      "                    &lt;span class=\"TitlePlannedWork\" &gt;Planned Work&lt;/span&gt;\n",
      "                    &lt;br/&gt;\n",
      "                  &lt;a class=\"plannedWorkDetailLink\" onclick=ShowHide(168256);&gt;&lt;b&gt;[1] Van Cortlandt Park-bound trains skip 50 St, 59 St and 66&lt;/font&gt; St&lt;/a&gt;&lt;br/&gt;&lt;br/&gt;&lt;div id= 168256 class=\"plannedWorkDetail\" &gt;&lt;/b&gt;Weekends, 11:45 PM Fri to 5 AM Mon, Oct 27 - 30  &amp;bull;  Nov 3 - 6&lt;br&gt;&lt;br&gt;For service&lt;i&gt; to&lt;/i&gt; these stations, take the &lt;b&gt;[1]&lt;/b&gt; to 72 St and &lt;/font&gt;transfer to a downtown &lt;b&gt;[1]&lt;/b&gt; &lt;/font&gt;&lt;b&gt;[2]&lt;/b&gt;* or [3]*.&lt;br&gt;&lt;br&gt;For service &lt;i&gt;from&lt;/i&gt; these stations, take the &lt;b&gt;[1]&lt;/b&gt; &lt;/font&gt;&lt;b&gt;[2]&lt;/b&gt; or [3] to Times Sq-42 St and transfer to a &lt;br&gt;Van Cortlandt Park-bound &lt;b&gt;[1]&lt;/b&gt;.&lt;br&gt;&lt;br&gt;&lt;i&gt;*This detour has taken into account additional planned service changes.&lt;br&gt;&lt;/i&gt;&lt;b&gt;&lt;br&gt;&lt;/div&gt;&lt;/b&gt;&lt;br/&gt;\n",
      "                &lt;br/&gt;&lt;br/&gt;\n",
      "              </text>\n",
      "\n",
      "\n",
      "<Date>10/29/2017</Date>\n",
      "\n",
      "\n",
      "<Time>10:05AM</Time>\n",
      "\n",
      "\n"
     ]
    }
   ],
   "source": [
    "for i in soup.service.subway.line:\n",
    "    print(i)"
   ]
  },
  {
   "cell_type": "code",
   "execution_count": 23,
   "metadata": {
    "collapsed": false
   },
   "outputs": [
    {
     "name": "stdout",
     "output_type": "stream",
     "text": [
      "[]\n"
     ]
    }
   ],
   "source": [
    "print(soup.find_all('DELAYS'))"
   ]
  },
  {
   "cell_type": "code",
   "execution_count": null,
   "metadata": {
    "collapsed": true
   },
   "outputs": [],
   "source": []
  }
 ],
 "metadata": {
  "kernelspec": {
   "display_name": "Python 3",
   "language": "python",
   "name": "python3"
  },
  "language_info": {
   "codemirror_mode": {
    "name": "ipython",
    "version": 3
   },
   "file_extension": ".py",
   "mimetype": "text/x-python",
   "name": "python",
   "nbconvert_exporter": "python",
   "pygments_lexer": "ipython3",
   "version": "3.6.0"
  }
 },
 "nbformat": 4,
 "nbformat_minor": 2
}
