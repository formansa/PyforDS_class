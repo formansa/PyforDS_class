{
 "cells": [
  {
   "cell_type": "code",
   "execution_count": 1,
   "metadata": {
    "collapsed": false
   },
   "outputs": [
    {
     "name": "stderr",
     "output_type": "stream",
     "text": [
      "[12/Dec/2017:11:24:10] ENGINE Listening for SIGTERM.\n",
      "[12/Dec/2017:11:24:10] ENGINE Listening for SIGHUP.\n",
      "[12/Dec/2017:11:24:10] ENGINE Listening for SIGUSR1.\n",
      "[12/Dec/2017:11:24:10] ENGINE Bus STARTING\n",
      "[12/Dec/2017:11:24:10] ENGINE Started monitor thread 'Autoreloader'.\n",
      "[12/Dec/2017:11:24:10] ENGINE Started monitor thread '_TimeoutMonitor'.\n",
      "[12/Dec/2017:11:24:10] ENGINE Serving on http://127.0.0.1:8080\n",
      "[12/Dec/2017:11:24:10] ENGINE Bus STARTED\n"
     ]
    },
    {
     "name": "stdout",
     "output_type": "stream",
     "text": [
      "127.0.0.1 - - [12/Dec/2017:11:24:58] \"GET / HTTP/1.1\" 200 2878 \"http://localhost:8888/notebooks/GitHub/srf366/MTA_Project/Fang20171210/FangWebsite%2020171210.ipynb\" \"Mozilla/5.0 (Macintosh; Intel Mac OS X 10_11_6) AppleWebKit/604.3.5 (KHTML, like Gecko) Version/11.0.1 Safari/604.3.5\"\n",
      "127.0.0.1 - - [12/Dec/2017:11:24:58] \"GET /static/css/style.css HTTP/1.1\" 304 - \"http://127.0.0.1:8080/\" \"Mozilla/5.0 (Macintosh; Intel Mac OS X 10_11_6) AppleWebKit/604.3.5 (KHTML, like Gecko) Version/11.0.1 Safari/604.3.5\"\n",
      "127.0.0.1 - - [12/Dec/2017:11:34:10] \"GET / HTTP/1.1\" 200 2878 \"\" \"Mozilla/5.0 (Macintosh; Intel Mac OS X 10_11_6) AppleWebKit/604.3.5 (KHTML, like Gecko) Version/11.0.1 Safari/604.3.5\"\n",
      "127.0.0.1 - - [12/Dec/2017:11:34:10] \"GET /static/css/style.css HTTP/1.1\" 200 - \"http://localhost:8080/\" \"Mozilla/5.0 (Macintosh; Intel Mac OS X 10_11_6) AppleWebKit/604.3.5 (KHTML, like Gecko) Version/11.0.1 Safari/604.3.5\"\n",
      "127.0.0.1 - - [12/Dec/2017:11:34:10] \"GET /favicon.ico HTTP/1.1\" 200 1406 \"http://localhost:8080/\" \"Mozilla/5.0 (Macintosh; Intel Mac OS X 10_11_6) AppleWebKit/604.3.5 (KHTML, like Gecko) Version/11.0.1 Safari/604.3.5\"\n",
      "127.0.0.1 - - [12/Dec/2017:11:34:13] \"GET / HTTP/1.1\" 200 2878 \"\" \"Mozilla/5.0 (Macintosh; Intel Mac OS X 10_11_6) AppleWebKit/604.3.5 (KHTML, like Gecko) Version/11.0.1 Safari/604.3.5\"\n"
     ]
    },
    {
     "name": "stderr",
     "output_type": "stream",
     "text": [
      "[12/Dec/2017:11:34:30] ENGINE Keyboard Interrupt: shutting down bus\n",
      "[12/Dec/2017:11:34:30] ENGINE Bus STOPPING\n",
      "[12/Dec/2017:11:34:30] ENGINE HTTP Server cherrypy._cpwsgi_server.CPWSGIServer(('127.0.0.1', 8080)) shut down\n",
      "[12/Dec/2017:11:34:30] ENGINE Stopped thread 'Autoreloader'.\n",
      "[12/Dec/2017:11:34:30] ENGINE Stopped thread '_TimeoutMonitor'.\n",
      "[12/Dec/2017:11:34:30] ENGINE Bus STOPPED\n",
      "[12/Dec/2017:11:34:30] ENGINE Bus EXITING\n",
      "[12/Dec/2017:11:34:30] ENGINE Bus EXITED\n",
      "[12/Dec/2017:11:34:30] ENGINE Waiting for child threads to terminate...\n"
     ]
    }
   ],
   "source": [
    "import cherrypy\n",
    "import os, os.path\n",
    "import pandas as pd\n",
    "\n",
    "def init():\n",
    "  data=pd.DataFrame(index=['User','Time','123','456','7','ACE','BDFM','G','JZ','L','NQR','S','SIR'],dtype=str)\n",
    "  return data\n",
    "'''\n",
    "import sqlite3\n",
    "\n",
    "DB_STRING = \"UserData.db\"\n",
    "'''\n",
    "\n",
    "class MTA_Signup(object):\n",
    "    @cherrypy.expose\n",
    "    @cherrypy.tools.accept(media='text/plain')\n",
    "    def index(self):\n",
    "      return open('index.html')\n",
    "\n",
    "@cherrypy.expose\n",
    "class MTA_Notification(object):\n",
    "\n",
    "    def addProfile(data,email,time,lines):\n",
    "      l=[email,time]    \n",
    "      line=binaryConverter(lines)\n",
    "      for i in line:\n",
    "          l.append(i)\n",
    "      try:\n",
    "          col=max(data.columns)+1\n",
    "      except ValueError:\n",
    "          col=0\n",
    "      data[col]=l\n",
    "\n",
    "'''\n",
    "def setup_database():\n",
    "    # Create table 'entries' in the database on server startup\n",
    "    with sqlite3.connect(DB_STRING) as con:\n",
    "       con.execute(''CREATE TABLE entries\n",
    "        (user text, commuteTime time, '123' text, '456' text, '7' text, 'ACE' text, 'BDFM' text, 'G' text, 'JZ' text, 'L' text, 'NQR' text, 'S' text, 'SIR' text )')\n",
    "\n",
    "def save_database():\n",
    "    # save (commit) the changes and close the connection\n",
    "    with sqlite3.connect(DB_STRING) as con:\n",
    "       con.commit()\n",
    "       con.close()\n",
    "'''\n",
    "\n",
    "# # Function to encode a list of lines as a list of bits, based on the alllines table\n",
    "\n",
    "# In[12]:\n",
    "\n",
    "def binaryConverter(line):\n",
    "  l=alllines[:]\n",
    "  for i in range(len(l)):\n",
    "      if l[i] in line:\n",
    "          l[i]=1\n",
    "      else:\n",
    "          l[i]=0\n",
    "  return l\n",
    "\n",
    "def binaryDecoder(line):\n",
    "  s=[]\n",
    "  for i in range(len(line)):\n",
    "      if line[i]==1:\n",
    "          s.append(alllines[i])\n",
    "  return s\n",
    "\n",
    "\n",
    "\n",
    "if __name__ == '__main__':\n",
    "    conf = {\n",
    "        '/': {\n",
    "            'tools.sessions.on': True,\n",
    "            'tools.staticdir.root': os.path.abspath(os.getcwd())\n",
    "        },\n",
    "        '/generator': {\n",
    "            'request.dispatch': cherrypy.dispatch.MethodDispatcher(),\n",
    "            'tools.response_headers.on': True,\n",
    "            'tools.response_headers.headers': [('Content-Type', 'text/plain')],\n",
    "        },\n",
    "        '/static': {\n",
    "            'tools.staticdir.on': True,\n",
    "            'tools.staticdir.dir': './public'\n",
    "        }\n",
    "    }\n",
    "    webapp = MTA_Signup()\n",
    "    webapp.userInput = MTA_Notification()\n",
    "    cherrypy.quickstart(webapp, '/', conf)"
   ]
  },
  {
   "cell_type": "code",
   "execution_count": null,
   "metadata": {
    "collapsed": true
   },
   "outputs": [],
   "source": []
  }
 ],
 "metadata": {
  "kernelspec": {
   "display_name": "Python 3",
   "language": "python",
   "name": "python3"
  },
  "language_info": {
   "codemirror_mode": {
    "name": "ipython",
    "version": 3
   },
   "file_extension": ".py",
   "mimetype": "text/x-python",
   "name": "python",
   "nbconvert_exporter": "python",
   "pygments_lexer": "ipython3",
   "version": "3.6.0"
  }
 },
 "nbformat": 4,
 "nbformat_minor": 2
}
