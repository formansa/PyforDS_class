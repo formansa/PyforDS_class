{
 "cells": [
  {
   "cell_type": "code",
   "execution_count": null,
   "metadata": {
    "collapsed": false
   },
   "outputs": [
    {
     "name": "stderr",
     "output_type": "stream",
     "text": [
      "[12/Dec/2017:21:17:23] ENGINE Listening for SIGTERM.\n",
      "[12/Dec/2017:21:17:23] ENGINE Listening for SIGHUP.\n",
      "[12/Dec/2017:21:17:23] ENGINE Listening for SIGUSR1.\n",
      "[12/Dec/2017:21:17:23] ENGINE Bus STARTING\n",
      "CherryPy Checker:\n",
      "'/Users/Sam_I_Am/Documents/Stern/Semester 3/Programming for DS/PDS_jupyter/GitHub/srf366/MTA_Project/./public' (root + dir) is not an existing filesystem path.\n",
      "section: [/static]\n",
      "root: '/Users/Sam_I_Am/Documents/Stern/Semester 3/Programming for DS/PDS_jupyter/GitHub/srf366/MTA_Project'\n",
      "dir: './public'\n",
      "\n",
      "[12/Dec/2017:21:17:23] ENGINE Started monitor thread '_TimeoutMonitor'.\n",
      "[12/Dec/2017:21:17:23] ENGINE Started monitor thread 'Autoreloader'.\n",
      "[12/Dec/2017:21:17:23] ENGINE Serving on http://127.0.0.1:8080\n",
      "[12/Dec/2017:21:17:23] ENGINE Bus STARTED\n"
     ]
    }
   ],
   "source": [
    "import cherrypy\n",
    "import os, os.path\n",
    "\n",
    "# \"return\" is to show on the web page something\n",
    "#modeled on tutorial 6\n",
    "class MTA_Notification(object):\n",
    "    @cherrypy.expose\n",
    "    def index(self):\n",
    "      return \"\"\"<html>\n",
    "          <head>\n",
    "              <title>Sign-up Page</title>\n",
    "              <link href=\"/static/css/style.css\" rel=\"stylesheet\">      \n",
    "          </head>\n",
    "          <body><fieldset><legend>MTA Notification</legend>\n",
    "          <form method=\"get\" action=\"submit\" target=\"_self\"><h1>Sign up</h1><br/><p>Enter your email address here: <br>\n",
    "             <input type=\"email\" name=\"email\" placeholder=\"Email address\" id=\"email\" required></p><p> When do you take MTA? Enter time in 24hr format: <br>\n",
    "             <input type=\"text\"  name=\"time\" placeholder=\"HH:MM\" pattern=\"([01]?[0-9]|2[0-3]):[0-5][0-9]\" id=\"time\" required></p><p><fieldset><legend>Please select all the possible lines you take: </legend>\n",
    "                 <input type=\"checkbox\" name=\"lines\" value=\"123\"/><lable for=\"123\">1,2,3</lable><br />\n",
    "                 <input type=\"checkbox\" name=\"lines\" value=\"456\"/><label for=\"456\">4,5,6</label><br />\n",
    "                 <input type=\"checkbox\" name=\"lines\" value=\"7\"/><label for=\"7\">7</label><br />\n",
    "                 <input type=\"checkbox\" name=\"lines\" value=\"ACE\"/><label for=\"ACE\">A,C,E</label><br />\n",
    "                 <input type=\"checkbox\" name=\"lines\" value=\"BDFM\"/><label for=\"BDFM\">B,D,F,M</label><br />\n",
    "                 <input type=\"checkbox\" name=\"lines\" value=\"G\"/><label for=\"G\">G</label><br />            \n",
    "                 <input type=\"checkbox\" name=\"lines\" value=\"JZ\"/><label for=\"JZ\">J,Z</label><br />  \n",
    "                 <input type=\"checkbox\" name=\"lines\" value=\"L\"/><label for=\"L\">L</label><br />\n",
    "                 <input type=\"checkbox\" name=\"lines\" value=\"NQR\"/><label for=\"NQR\">N,Q,R</label><br />\n",
    "                 <input type=\"checkbox\" name=\"lines\" value=\"S\"/><label for=\"S\">S</label><br />\n",
    "                 <input type=\"checkbox\" name=\"lines\" value=\"SIR\"/><label for=\"SIR\">S,I,R</label><br /></fieldset><p>\n",
    "             <button type=\"submit\">submit your info</button></p>\n",
    "            </form></fieldset>\n",
    "           </body>\n",
    "           <?php\n",
    "           ?>\n",
    "         </html>\"\"\"\n",
    "\n",
    "    @cherrypy.expose\n",
    "    def submit(self, email, time, lines):          # email is a string, time is a string, lines is a list\n",
    "        lineChoice = ','.join(lines) \n",
    "        return \"Your email is: \" + email + \"\\nYour time of commute is: \" + time + \"\\nYour lines of choice are: \" + lineChoice\n",
    "\n",
    "if __name__ == '__main__':\n",
    "    conf = {\n",
    "        '/': {\n",
    "            'tools.sessions.on': True,\n",
    "            'tools.staticdir.root': os.path.abspath(os.getcwd())\n",
    "        },\n",
    "        '/static': {\n",
    "            'tools.staticdir.on': True,\n",
    "            'tools.staticdir.dir': './public'\n",
    "        }\n",
    "    }\n",
    "    cherrypy.quickstart(MTA_Notification(), '/', conf)\n",
    "\n"
   ]
  },
  {
   "cell_type": "code",
   "execution_count": null,
   "metadata": {
    "collapsed": true
   },
   "outputs": [],
   "source": []
  }
 ],
 "metadata": {
  "kernelspec": {
   "display_name": "Python 3",
   "language": "python",
   "name": "python3"
  },
  "language_info": {
   "codemirror_mode": {
    "name": "ipython",
    "version": 3
   },
   "file_extension": ".py",
   "mimetype": "text/x-python",
   "name": "python",
   "nbconvert_exporter": "python",
   "pygments_lexer": "ipython3",
   "version": "3.6.0"
  }
 },
 "nbformat": 4,
 "nbformat_minor": 2
}
