{
 "cells": [
  {
   "cell_type": "markdown",
   "metadata": {},
   "source": [
    "### General Set Up"
   ]
  },
  {
   "cell_type": "code",
   "execution_count": null,
   "metadata": {
    "collapsed": true
   },
   "outputs": [],
   "source": [
    "from bs4 import BeautifulSoup\n",
    "import xml.etree.ElementTree as ET\n",
    "import requests\n"
   ]
  },
  {
   "cell_type": "code",
   "execution_count": null,
   "metadata": {
    "collapsed": false
   },
   "outputs": [],
   "source": [
    "## Creating XML Tree Object ##\n",
    "\n",
    "TARGET = 'servicestatus.json'\n",
    "SOURCE = 'http://web.mta.info/status/serviceStatus.txt'\n",
    "\n",
    "response = requests.get(SOURCE)\n",
    "xml_string = response.text\n",
    "root = ET.fromstring(xml_string)\n",
    "# ET.fromstring converts a string of XML content to a XML tree object.\n"
   ]
  },
  {
   "cell_type": "code",
   "execution_count": null,
   "metadata": {
    "collapsed": true
   },
   "outputs": [],
   "source": [
    "# Save XML for later use. \n",
    "\n",
    "save_xml = open('ServStatuses/ServStat .txt', 'w')\n",
    "save_xml.write(xml_string)\n",
    "save_xml.close()"
   ]
  },
  {
   "cell_type": "code",
   "execution_count": null,
   "metadata": {
    "collapsed": false
   },
   "outputs": [],
   "source": [
    "# Open saved XML as current service status \n",
    "xml_saved = open('ServStatuses/ServStat SC+Delays.txt','r')\n",
    "xml_saved_str = str(xml_saved.read())\n",
    "root_saved = ET.fromstring(xml_saved_str)\n"
   ]
  },
  {
   "cell_type": "markdown",
   "metadata": {},
   "source": [
    "### Function to intake xml root and return full list of MTA lines present in the XML. \n",
    "(Should always be the same.) "
   ]
  },
  {
   "cell_type": "code",
   "execution_count": null,
   "metadata": {
    "collapsed": false
   },
   "outputs": [],
   "source": [
    "def getFullLineList(xmlroot):\n",
    "    FullLineList = []\n",
    "    num = 0\n",
    "    \n",
    "    while num < len(root[2]):\n",
    "        FullLineList.append((num,root[2][num][0].text))\n",
    "        num += 1\n",
    "        \n",
    "    return FullLineList\n",
    "\n",
    "FullLineList = getFullLineList(root)\n",
    "FullLineList"
   ]
  },
  {
   "cell_type": "markdown",
   "metadata": {},
   "source": [
    "### Function to intake xml root and return date & time of service status. \n",
    " "
   ]
  },
  {
   "cell_type": "code",
   "execution_count": null,
   "metadata": {
    "collapsed": false
   },
   "outputs": [],
   "source": [
    "\n",
    "def get_ServStatus_timestamp(xml_string):\n",
    "    #input xml_string must be the xml from MTA Service Status site in string format\n",
    "    \n",
    "    ServStatus_soup = BeautifulSoup(xml_string, 'lxml')\n",
    "    timestamp = ServStatus_soup.find_all('timestamp')\n",
    "    timestamp_content_list = timestamp[0].contents\n",
    "    \n",
    "    return timestamp_content_list[0]\n",
    "\n",
    "\n",
    "# test with either xml_string or xml_saved_str\n",
    "get_ServStatus_timestamp(xml_string)"
   ]
  },
  {
   "cell_type": "markdown",
   "metadata": {},
   "source": [
    "### Function to intake service status xml object and return lines with service changes as a list of tuples"
   ]
  },
  {
   "cell_type": "code",
   "execution_count": null,
   "metadata": {
    "collapsed": false
   },
   "outputs": [],
   "source": [
    "  \n",
    "def Return_SC_Lines(xmlroot):\n",
    "    # xmlroot must be an xml object of the MTA Service Status page using xml Element Tree package\n",
    "    num_lines = list(range(0,len(xmlroot[2])))\n",
    "    SC_lines = []\n",
    "    \n",
    "    for ea in num_lines:\n",
    "        if xmlroot[2][ea][1].text != 'GOOD SERVICE':\n",
    "            #UPDATE 2017-12-05: below line should be updated in all code to have xmlroot twice\n",
    "            SC_lines.append((xmlroot[2][ea][0].text,xmlroot[2][ea][1].text))\n",
    "        else:\n",
    "            pass \n",
    "        \n",
    "    #SC_Lines is a list of tuples with the line name and service status \n",
    "    return SC_lines\n",
    "    \n",
    "SC_lines = Return_SC_Lines(root)\n",
    "SC_lines"
   ]
  },
  {
   "cell_type": "markdown",
   "metadata": {},
   "source": [
    "### Function to take line name and service status XML and return beautiful soup of that line's service status "
   ]
  },
  {
   "cell_type": "code",
   "execution_count": null,
   "metadata": {
    "collapsed": false
   },
   "outputs": [],
   "source": [
    "def MakeLine_ServiceStatusSoup(line_name,xmlroot): \n",
    "    line_iq = line_name\n",
    "    line_iq_num = ''\n",
    "    \n",
    "    for ea in FullLineList:\n",
    "        if ea[1] == line_iq:\n",
    "            line_iq_num = ea[0]\n",
    "            \n",
    "    # get string and make soup from line in question's status\n",
    "    #UPDATE 2017-12-05: below line should be updated in all code to have xmlroot not root\n",
    "    status_str = xmlroot[2][line_iq_num][2].text\n",
    "    linestatus_soup = BeautifulSoup(status_str, 'lxml')\n",
    "    \n",
    "    return linestatus_soup\n",
    "\n",
    "\n",
    "# bdfmsoup = MakeLine_ServiceStatusSoup('BDFM',root)\n",
    "    \n",
    "    \n",
    "    "
   ]
  },
  {
   "cell_type": "markdown",
   "metadata": {},
   "source": [
    "### Function intake service status xml and a line with planned work and return description of the planned work"
   ]
  },
  {
   "cell_type": "code",
   "execution_count": null,
   "metadata": {
    "collapsed": false
   },
   "outputs": [],
   "source": [
    "def plannedWork_Simple(line_servicestatus_soup):\n",
    "    \n",
    "    tag_options = ['span']\n",
    "    classname_options = ['TitlePlannedWork']\n",
    "    subtag_options = ['p']\n",
    "    pwSimple_text = ''\n",
    "\n",
    "    for spans in line_servicestatus_soup.find_all(tag_options, {'class':classname_options}):\n",
    "        subs = spans.find_all_next(subtag_options)\n",
    "        for each in subs:\n",
    "            pwSimple_text += each.text\n",
    "            \n",
    "    return [pwSimple_text]\n",
    "\n",
    "\n",
    "# this works for printing summary line, and not when planned work is a span\n",
    "\n",
    "def plannedWork_Detail(line_servicestatus_soup):\n",
    "    \n",
    "    tag_options = ['a']\n",
    "    classname_options = ['plannedWorkDetailLink']\n",
    "    subtag_options = ['div','p']\n",
    "    pwDetail_text_list = []\n",
    "    \n",
    "    for a_summ in line_servicestatus_soup.find_all(tag_options, {'class':classname_options}):\n",
    "        pw_summtext = a_summ.text\n",
    "\n",
    "        #print(pw_summtext,'\\n', next_div, '\\n')\n",
    "        pwDetail_text_list.append(pw_summtext)\n",
    "    \n",
    "    return pwDetail_text_list\n",
    "        \n",
    "\n",
    "\n",
    "def PlannedWorkText(line_name,xmlroot):\n",
    "    \n",
    "    line_status_soup = MakeLine_ServiceStatusSoup(line_name,xmlroot)\n",
    "    service_string = ''\n",
    "    pw_text_list = []\n",
    "    \n",
    "    line_iq = line_name\n",
    "    line_iq_num = ''\n",
    "    \n",
    "    for ea in FullLineList:\n",
    "        if ea[1] == line_iq:\n",
    "            line_iq_num = ea[0]\n",
    "        \n",
    "        \n",
    "    if len(line_status_soup.find_all('a', {'class':'plannedWorkDetailLink'})) < 1:\n",
    "        pw_text_list = plannedWork_Simple(line_status_soup)\n",
    "            \n",
    "    else:\n",
    "        pw_text_list = plannedWork_Detail(line_status_soup)\n",
    "\n",
    "        \n",
    "        \n",
    "    return [line_name, xmlroot[2][line_iq_num][1].text, pw_text_list]\n",
    "    \n",
    "    \n",
    "print(PlannedWorkText('123',root)[2][0])\n",
    " "
   ]
  },
  {
   "cell_type": "markdown",
   "metadata": {
    "collapsed": true
   },
   "source": [
    "### Function to intake service status xml and a line name and return text of delays on that line, if applicable "
   ]
  },
  {
   "cell_type": "code",
   "execution_count": null,
   "metadata": {
    "collapsed": false
   },
   "outputs": [],
   "source": [
    "def delays_text(line_name,xmlroot):\n",
    "\n",
    "    line_status_soup = MakeLine_ServiceStatusSoup(line_name,xmlroot)\n",
    "    delay_string = ''\n",
    "    \n",
    "    delayline_name = line_name\n",
    "    dealyline_num = ''\n",
    "    \n",
    "    for ea in FullLineList:\n",
    "        if ea[1] == delayline_name:\n",
    "            dealyline_num = ea[0]\n",
    "\n",
    "\n",
    "    del_text = ''\n",
    "    \n",
    "    for del1 in line_status_soup.find_all('span', {'class': 'TitleDelay'}):\n",
    "        \n",
    "        # below checks that the delay description is contained in <p> tags\n",
    "        if len(del1.find_all('p')) > 0:\n",
    "            \n",
    "            delay_deets = del1.find_all('p')\n",
    "            \n",
    "            for dels in delay_deets:\n",
    "                del_text += dels.text + ' '\n",
    "            \n",
    "            \n",
    "        else:\n",
    "            del_text = ''.join(line_status_soup.find_all(text=True)[3:5]).strip()\n",
    "            \n",
    "            \n",
    "    return del_text\n",
    "            \n",
    "            \n",
    "\n",
    "print(delays_text('BDFM',root))\n"
   ]
  },
  {
   "cell_type": "markdown",
   "metadata": {},
   "source": [
    "### Function to intake service status xml and a line name and return text of \"service change\" on that line, if applicable "
   ]
  },
  {
   "cell_type": "code",
   "execution_count": null,
   "metadata": {
    "collapsed": false
   },
   "outputs": [],
   "source": [
    "def servChng_text(line_name,xmlroot):\n",
    "\n",
    "    line_status_soup = MakeLine_ServiceStatusSoup(line_name,xmlroot)\n",
    "    servChng_string = ''\n",
    "    \n",
    "    servChng_name = line_name\n",
    "    servChng_num = ''\n",
    "    \n",
    "    for ea in FullLineList:\n",
    "        if ea[1] == servChng_name:\n",
    "            servChng_num = ea[0]\n",
    "\n",
    "\n",
    "    servChng_text = ''\n",
    "    \n",
    "    for servChng1 in line_status_soup.find_all('span', {'class': 'TitleServiceChange'}):\n",
    "        \n",
    "        # below checks that the delay description is contained in <p> tags\n",
    "        if len(servChng1.find_all('p')) > 0:\n",
    "            \n",
    "            servChng_deets = servChng1.find_all('p')\n",
    "            \n",
    "            for sc in delay_deets:\n",
    "                servChng_text += sc.text + ' '\n",
    "            \n",
    "            \n",
    "        else:\n",
    "            servChng_text = ''.join(line_status_soup.find_all(text=True)).strip()\n",
    "            \n",
    "            \n",
    "    return servChng_text\n",
    "            \n",
    "            \n",
    "\n",
    "print(servChng_text('ACE',root))\n"
   ]
  },
  {
   "cell_type": "code",
   "execution_count": null,
   "metadata": {
    "collapsed": false
   },
   "outputs": [],
   "source": [
    "print(root[2][3][2].text)"
   ]
  },
  {
   "cell_type": "code",
   "execution_count": null,
   "metadata": {
    "collapsed": false
   },
   "outputs": [],
   "source": [
    "print(xml_string)"
   ]
  },
  {
   "cell_type": "code",
   "execution_count": null,
   "metadata": {
    "collapsed": true
   },
   "outputs": [],
   "source": []
  }
 ],
 "metadata": {
  "celltoolbar": "Raw Cell Format",
  "kernelspec": {
   "display_name": "Python 3",
   "language": "python",
   "name": "python3"
  },
  "language_info": {
   "codemirror_mode": {
    "name": "ipython",
    "version": 3
   },
   "file_extension": ".py",
   "mimetype": "text/x-python",
   "name": "python",
   "nbconvert_exporter": "python",
   "pygments_lexer": "ipython3",
   "version": "3.6.0"
  }
 },
 "nbformat": 4,
 "nbformat_minor": 2
}
