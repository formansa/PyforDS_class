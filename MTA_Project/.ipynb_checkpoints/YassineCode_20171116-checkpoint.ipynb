{
 "cells": [
  {
   "cell_type": "code",
   "execution_count": 1,
   "metadata": {
    "collapsed": false
   },
   "outputs": [],
   "source": [
    "import pandas as pd\n",
    "import numpy as np\n",
    "import time\n",
    "import smtplib\n",
    "\n",
    "\n",
    "alllines=['123','456','7','ACE','BDFM','G','JZ','L','NQR','S','SIR']\n",
    "#I am thinking that we should include a multiple choice for the users from this table\n",
    "\n",
    "\n",
    "def init():\n",
    "    data=pd.DataFrame(index=['User','Time','Lines'],dtype=str)\n",
    "    return data\n",
    "    #As dataframes have a uniform data type, the data will be strings\n",
    "    \n",
    "        \n",
    "def removeUser(data,email):\n",
    "    p=0\n",
    "    for i in data.iloc[0]:\n",
    "        if i==email:\n",
    "            del data[p]\n",
    "        p+=1\n",
    "        \n",
    "    \n",
    "def addProfile(data,email,time,lines):\n",
    "    '''\n",
    "    adds commuting time in the list of all commuting times, adds time and lines for that user\n",
    "    @param email: user's email\n",
    "    @param time: commuting time\n",
    "    @param lines: list of the lines concerned by those commuting times\n",
    "    '''\n",
    "    l=[email,time,lines]\n",
    "    try:\n",
    "        col=max(data.columns)+1\n",
    "    except ValueError:\n",
    "        col=0\n",
    "    data[col]=l\n",
    "    \n",
    "    \n",
    "def listToNotifyDelayed(data,delayedlines):\n",
    "    hour=time.localtime()[3]\n",
    "    minutes=time.localtime()[4]\n",
    "    time_t=hour*60+minutes\n",
    "    notif=[]\n",
    "    p=0\n",
    "    for t in data.iloc[1]:   #t is in 24hours format hh:mm\n",
    "        h=int(t[0:2])  #gets hh\n",
    "        m=int(t[4:])   #gets mm\n",
    "        tt=h*60+m\n",
    "        if tt-time_t==15:\n",
    "            for lines in data.iloc[2][p]:\n",
    "                for line in lines:\n",
    "                    if line in delayedlines:\n",
    "                        notif.append(data.iloc[0][p])\n",
    "        p+=1 \n",
    "    return list(set(notif))\n",
    "\n",
    "\n",
    "def listToNotifyPlanned(data,plannedworklines,endtimes):\n",
    "    #plannedworklines and endtimes should be of the same length so that the endtimes correspond to the lines where the works are planned\n",
    "    notif=[]\n",
    "    for i in range(len(plannedworklines)):\n",
    "        hour=int(endtimes[i][0:2])\n",
    "        minutes=int(endtimes[4:])\n",
    "        time_t=hour*60+minutes\n",
    "        p=0\n",
    "        for t in data.iloc[1]:   #t is in 24hours format hh:mm\n",
    "            h=int(t[0:2])  #gets hh\n",
    "            m=int(t[4:])   #gets mm\n",
    "            tt=h*60+m\n",
    "            if tt<time_t:\n",
    "                for lines in data.iloc[2][p]:\n",
    "                    for line in lines:\n",
    "                        if line in plannedwork:\n",
    "                            notif.append(data.iloc[0][p])\n",
    "            p+=1 \n",
    "    return list(set(notif))\n",
    "\n",
    "    \n",
    "def emailTriggerDelayed(data,lines):\n",
    "    notif_delay=listToNotifyDelayed(data,lines)\n",
    "    for user in notif:\n",
    "        sendmail(user,lines)\n",
    "        \n",
    "\n",
    "def emailTriggerPlanned(data,lines,endtimes):\n",
    "    notif_planned=listToNotifyPlanned(data,lines,endtimes)\n",
    "    for user in notif:\n",
    "        sendmail(user,lines)\n",
    "        \n",
    "    \n",
    "def sendmail(mail,lines):\n",
    "    server = smtplib.SMTP('smtp.gmail.com:587')\n",
    "    server.ehlo()\n",
    "    server.starttls()\n",
    "    server.login(\"notificationmta@gmail.com\", \"PyProject1859\")\n",
    "    s=''\n",
    "    for i in range(len(lines)-1):\n",
    "        s=s+lines[i]+', '\n",
    "    s=s+'and '+lines[-1]\n",
    "    #Send the mail\n",
    "    msg = \"\\r\\n\".join([\n",
    "            \"From: subwayhelper@gmail.com\",\n",
    "            \"To: \"+mail,\n",
    "            \"Subject: PyProject Test ALERT: Delays on your usual line\",\n",
    "            \"\",\n",
    "            \"Dear user, \\n> There are currently delays on lines \"+s+\" so you should consider another route. Thanks for using our platform, the subway helper team\"\n",
    "            ])\n",
    "        # The /n separates the message from the headers\n",
    "    server.sendmail(\"subwayhelper@gmail.com\", mail, msg)\n",
    "    server.quit()\n",
    "\n",
    "\n",
    "\n",
    "\n",
    "            \n",
    "        \n",
    "        \n",
    "            "
   ]
  },
  {
   "cell_type": "code",
   "execution_count": null,
   "metadata": {
    "collapsed": false
   },
   "outputs": [],
   "source": []
  },
  {
   "cell_type": "code",
   "execution_count": 74,
   "metadata": {
    "collapsed": false
   },
   "outputs": [
    {
     "data": {
      "text/html": [
       "<div>\n",
       "<style>\n",
       "    .dataframe thead tr:only-child th {\n",
       "        text-align: right;\n",
       "    }\n",
       "\n",
       "    .dataframe thead th {\n",
       "        text-align: left;\n",
       "    }\n",
       "\n",
       "    .dataframe tbody tr th {\n",
       "        vertical-align: top;\n",
       "    }\n",
       "</style>\n",
       "<table border=\"1\" class=\"dataframe\">\n",
       "  <thead>\n",
       "    <tr style=\"text-align: right;\">\n",
       "      <th></th>\n",
       "    </tr>\n",
       "  </thead>\n",
       "  <tbody>\n",
       "    <tr>\n",
       "      <th>User</th>\n",
       "    </tr>\n",
       "    <tr>\n",
       "      <th>Time</th>\n",
       "    </tr>\n",
       "    <tr>\n",
       "      <th>Lines</th>\n",
       "    </tr>\n",
       "  </tbody>\n",
       "</table>\n",
       "</div>"
      ],
      "text/plain": [
       "Empty DataFrame\n",
       "Columns: []\n",
       "Index: [User, Time, Lines]"
      ]
     },
     "execution_count": 74,
     "metadata": {},
     "output_type": "execute_result"
    }
   ],
   "source": [
    "data=init()\n",
    "data"
   ]
  },
  {
   "cell_type": "code",
   "execution_count": 75,
   "metadata": {
    "collapsed": false
   },
   "outputs": [
    {
     "name": "stdout",
     "output_type": "stream",
     "text": [
      "20\n",
      "45\n"
     ]
    }
   ],
   "source": [
    "import time\n",
    "print(time.localtime()[3])\n",
    "print(time.localtime()[4])"
   ]
  },
  {
   "cell_type": "code",
   "execution_count": null,
   "metadata": {
    "collapsed": false
   },
   "outputs": [],
   "source": []
  },
  {
   "cell_type": "code",
   "execution_count": 76,
   "metadata": {
    "collapsed": false
   },
   "outputs": [],
   "source": [
    "alllines=['123','456','7','ACE','BDFM','G','JZ','L','NQR','S','SIR']"
   ]
  },
  {
   "cell_type": "code",
   "execution_count": 77,
   "metadata": {
    "collapsed": false
   },
   "outputs": [],
   "source": [
    "data=init()\n",
    "addProfile(data,'yk1859@nyu.edu','21:00',['ACE','BDFM','S'])\n",
    "addProfile(data,'srf366@stern.nyu.edu','21:00',['G','JZ'])\n",
    "addProfile(data,'fh643@nyu.edu','21:00',['G','L','S'])\n",
    "removeUser(data,'yk')\n",
    "delayedlines=['G','S']\n",
    "emailTrigger(data,delayedlines)\n"
   ]
  },
  {
   "cell_type": "code",
   "execution_count": 70,
   "metadata": {
    "collapsed": false
   },
   "outputs": [
    {
     "data": {
      "text/html": [
       "<div>\n",
       "<style>\n",
       "    .dataframe thead tr:only-child th {\n",
       "        text-align: right;\n",
       "    }\n",
       "\n",
       "    .dataframe thead th {\n",
       "        text-align: left;\n",
       "    }\n",
       "\n",
       "    .dataframe tbody tr th {\n",
       "        vertical-align: top;\n",
       "    }\n",
       "</style>\n",
       "<table border=\"1\" class=\"dataframe\">\n",
       "  <thead>\n",
       "    <tr style=\"text-align: right;\">\n",
       "      <th></th>\n",
       "    </tr>\n",
       "  </thead>\n",
       "  <tbody>\n",
       "    <tr>\n",
       "      <th>Time</th>\n",
       "    </tr>\n",
       "    <tr>\n",
       "      <th>Lines</th>\n",
       "    </tr>\n",
       "  </tbody>\n",
       "</table>\n",
       "</div>"
      ],
      "text/plain": [
       "Empty DataFrame\n",
       "Columns: []\n",
       "Index: [Time, Lines]"
      ]
     },
     "execution_count": 70,
     "metadata": {},
     "output_type": "execute_result"
    }
   ],
   "source": [
    "addC"
   ]
  },
  {
   "cell_type": "code",
   "execution_count": null,
   "metadata": {
    "collapsed": true
   },
   "outputs": [],
   "source": []
  }
 ],
 "metadata": {
  "kernelspec": {
   "display_name": "Python 3",
   "language": "python",
   "name": "python3"
  },
  "language_info": {
   "codemirror_mode": {
    "name": "ipython",
    "version": 3
   },
   "file_extension": ".py",
   "mimetype": "text/x-python",
   "name": "python",
   "nbconvert_exporter": "python",
   "pygments_lexer": "ipython3",
   "version": "3.6.0"
  }
 },
 "nbformat": 4,
 "nbformat_minor": 0
}
