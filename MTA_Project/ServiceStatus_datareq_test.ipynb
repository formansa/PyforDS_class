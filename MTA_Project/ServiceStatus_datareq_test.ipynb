{
 "cells": [
  {
   "cell_type": "code",
   "execution_count": 3,
   "metadata": {
    "collapsed": false
   },
   "outputs": [],
   "source": [
    "# imports\n",
    "\n",
    "import json\n",
    " \n",
    "import requests\n",
    "import xmltodict"
   ]
  },
  {
   "cell_type": "code",
   "execution_count": 5,
   "metadata": {
    "collapsed": true
   },
   "outputs": [],
   "source": [
    "TARGET = 'servicestatus.json'\n",
    "SOURCE = 'http://web.mta.info/status/serviceStatus.txt'\n",
    "response = requests.get(SOURCE)\n",
    " \n",
    "with open(TARGET, 'w') as output:\n",
    "    xml_string = response.text\n",
    "    xml_dict = xmltodict.parse(xml_string)\n",
    "    json_string = json.dumps(xml_dict)\n",
    "    output.write(json_string)\n",
    "    \n",
    "    \n",
    "data = json.loads(json_string)"
   ]
  },
  {
   "cell_type": "code",
   "execution_count": 21,
   "metadata": {
    "collapsed": false
   },
   "outputs": [
    {
     "name": "stdout",
     "output_type": "stream",
     "text": [
      "dict_keys(['name', 'status', 'text', 'Date', 'Time'])\n",
      "dict_keys(['name', 'status', 'text', 'Date', 'Time'])\n",
      "dict_keys(['name', 'status', 'text', 'Date', 'Time'])\n",
      "dict_keys(['name', 'status', 'text', 'Date', 'Time'])\n",
      "dict_keys(['name', 'status', 'text', 'Date', 'Time'])\n",
      "dict_keys(['name', 'status', 'text', 'Date', 'Time'])\n",
      "dict_keys(['name', 'status', 'text', 'Date', 'Time'])\n",
      "dict_keys(['name', 'status', 'text', 'Date', 'Time'])\n",
      "dict_keys(['name', 'status', 'text', 'Date', 'Time'])\n",
      "dict_keys(['name', 'status', 'text', 'Date', 'Time'])\n",
      "dict_keys(['name', 'status', 'text', 'Date', 'Time'])\n",
      "123 SERVICE CHANGE\n",
      "456 PLANNED WORK\n",
      "7 PLANNED WORK\n",
      "ACE PLANNED WORK\n",
      "BDFM DELAYS\n",
      "G GOOD SERVICE\n",
      "JZ PLANNED WORK\n",
      "L GOOD SERVICE\n",
      "NQR DELAYS\n",
      "S GOOD SERVICE\n",
      "SIR PLANNED WORK\n"
     ]
    }
   ],
   "source": [
    "for i in data['service']['subway']['line']: print(i.keys())\n",
    "    \n",
    "for i in data['service']['subway']['line']: print(i['name'], i['status'])"
   ]
  },
  {
   "cell_type": "code",
   "execution_count": null,
   "metadata": {
    "collapsed": true
   },
   "outputs": [],
   "source": []
  }
 ],
 "metadata": {
  "kernelspec": {
   "display_name": "Python 3",
   "language": "python",
   "name": "python3"
  },
  "language_info": {
   "codemirror_mode": {
    "name": "ipython",
    "version": 3
   },
   "file_extension": ".py",
   "mimetype": "text/x-python",
   "name": "python",
   "nbconvert_exporter": "python",
   "pygments_lexer": "ipython3",
   "version": "3.6.0"
  }
 },
 "nbformat": 4,
 "nbformat_minor": 2
}
