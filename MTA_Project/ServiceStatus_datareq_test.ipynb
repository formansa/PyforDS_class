{
 "cells": [
  {
   "cell_type": "code",
   "execution_count": 20,
   "metadata": {
    "collapsed": false
   },
   "outputs": [],
   "source": [
    "# imports\n",
    "\n",
    "import json\n",
    "from html.parser import HTMLParser\n",
    "import xml.etree.ElementTree as ET\n",
    " \n",
    "import requests\n",
    "import xmltodict"
   ]
  },
  {
   "cell_type": "code",
   "execution_count": 21,
   "metadata": {
    "collapsed": true
   },
   "outputs": [],
   "source": [
    "TARGET = 'servicestatus.json'\n",
    "SOURCE = 'http://web.mta.info/status/serviceStatus.txt'\n",
    "response = requests.get(SOURCE)\n",
    " \n",
    "xml_string = response.text\n",
    "xml_dict = xmltodict.parse(xml_string)\n"
   ]
  },
  {
   "cell_type": "code",
   "execution_count": 22,
   "metadata": {
    "collapsed": false
   },
   "outputs": [
    {
     "name": "stdout",
     "output_type": "stream",
     "text": [
      "OrderedDict([('name', '123'), ('status', 'GOOD SERVICE'), ('text', None), ('Date', None), ('Time', None)])\n",
      "OrderedDict([('name', '456'), ('status', 'GOOD SERVICE'), ('text', None), ('Date', None), ('Time', None)])\n",
      "OrderedDict([('name', '7'), ('status', 'GOOD SERVICE'), ('text', None), ('Date', None), ('Time', None)])\n",
      "OrderedDict([('name', 'ACE'), ('status', 'GOOD SERVICE'), ('text', None), ('Date', None), ('Time', None)])\n",
      "OrderedDict([('name', 'BDFM'), ('status', 'SERVICE CHANGE'), ('text', '<span class=\"TitleServiceChange\" >Service Change</span>\\n                    <span class=\"DateStyle\">\\n                    &nbsp;Posted:&nbsp;10/23/2017&nbsp; 4:22PM\\n                    </span><br/><br/>\\n                  <P>Southbound [D] trains are running express from <STRONG>9 Av</STRONG> to <STRONG>62 St</STRONG> because of a person struck by a train at <STRONG>62 St</STRONG>. </P>\\n<P>Emergency response teams are on the scene at this time. </P>\\n<P>Doors will open on the northbound platform at <STRONG>62 St</STRONG>. </P>\\n<P>Allow additional travel time.</P>\\n                <br/><br/>'), ('Date', '10/23/2017'), ('Time', '4:22PM')])\n",
      "OrderedDict([('name', 'G'), ('status', 'GOOD SERVICE'), ('text', None), ('Date', None), ('Time', None)])\n",
      "OrderedDict([('name', 'JZ'), ('status', 'GOOD SERVICE'), ('text', None), ('Date', None), ('Time', None)])\n",
      "OrderedDict([('name', 'L'), ('status', 'GOOD SERVICE'), ('text', None), ('Date', None), ('Time', None)])\n",
      "OrderedDict([('name', 'NQR'), ('status', 'GOOD SERVICE'), ('text', None), ('Date', None), ('Time', None)])\n",
      "OrderedDict([('name', 'S'), ('status', 'GOOD SERVICE'), ('text', None), ('Date', None), ('Time', None)])\n",
      "OrderedDict([('name', 'SIR'), ('status', 'GOOD SERVICE'), ('text', None), ('Date', None), ('Time', None)])\n",
      "123 GOOD SERVICE\n",
      "456 GOOD SERVICE\n",
      "7 GOOD SERVICE\n",
      "ACE GOOD SERVICE\n",
      "BDFM SERVICE CHANGE\n",
      "G GOOD SERVICE\n",
      "JZ GOOD SERVICE\n",
      "L GOOD SERVICE\n",
      "NQR GOOD SERVICE\n",
      "S GOOD SERVICE\n",
      "SIR GOOD SERVICE\n"
     ]
    }
   ],
   "source": [
    "for i in xml_dict['service']['subway']['line']: print(i)\n",
    "    \n",
    "for i in xml_dict['service']['subway']['line']: print(i['name'], i['status'])"
   ]
  },
  {
   "cell_type": "code",
   "execution_count": 23,
   "metadata": {
    "collapsed": false
   },
   "outputs": [
    {
     "ename": "TypeError",
     "evalue": "must be str, not NoneType",
     "output_type": "error",
     "traceback": [
      "\u001b[0;31m---------------------------------------------------------------------------\u001b[0m",
      "\u001b[0;31mTypeError\u001b[0m                                 Traceback (most recent call last)",
      "\u001b[0;32m<ipython-input-23-5d619e9f27cf>\u001b[0m in \u001b[0;36m<module>\u001b[0;34m()\u001b[0m\n\u001b[1;32m     20\u001b[0m \u001b[0mparser\u001b[0m \u001b[0;34m=\u001b[0m \u001b[0mMyHTMLParser\u001b[0m\u001b[0;34m(\u001b[0m\u001b[0;34m)\u001b[0m\u001b[0;34m\u001b[0m\u001b[0m\n\u001b[1;32m     21\u001b[0m \u001b[0;34m\u001b[0m\u001b[0m\n\u001b[0;32m---> 22\u001b[0;31m \u001b[0mparser\u001b[0m\u001b[0;34m.\u001b[0m\u001b[0mfeed\u001b[0m\u001b[0;34m(\u001b[0m\u001b[0mxml_dict\u001b[0m\u001b[0;34m[\u001b[0m\u001b[0;34m'service'\u001b[0m\u001b[0;34m]\u001b[0m\u001b[0;34m[\u001b[0m\u001b[0;34m'subway'\u001b[0m\u001b[0;34m]\u001b[0m\u001b[0;34m[\u001b[0m\u001b[0;34m'line'\u001b[0m\u001b[0;34m]\u001b[0m\u001b[0;34m[\u001b[0m\u001b[0;36m0\u001b[0m\u001b[0;34m]\u001b[0m\u001b[0;34m[\u001b[0m\u001b[0;34m'text'\u001b[0m\u001b[0;34m]\u001b[0m\u001b[0;34m)\u001b[0m\u001b[0;34m\u001b[0m\u001b[0m\n\u001b[0m",
      "\u001b[0;32m/Users/Sam_I_Am/anaconda/lib/python3.6/html/parser.py\u001b[0m in \u001b[0;36mfeed\u001b[0;34m(self, data)\u001b[0m\n\u001b[1;32m    108\u001b[0m         \u001b[0;32mas\u001b[0m \u001b[0myou\u001b[0m \u001b[0mwant\u001b[0m \u001b[0;34m(\u001b[0m\u001b[0mmay\u001b[0m \u001b[0minclude\u001b[0m \u001b[0;34m'\\n'\u001b[0m\u001b[0;34m)\u001b[0m\u001b[0;34m.\u001b[0m\u001b[0;34m\u001b[0m\u001b[0m\n\u001b[1;32m    109\u001b[0m         \"\"\"\n\u001b[0;32m--> 110\u001b[0;31m         \u001b[0mself\u001b[0m\u001b[0;34m.\u001b[0m\u001b[0mrawdata\u001b[0m \u001b[0;34m=\u001b[0m \u001b[0mself\u001b[0m\u001b[0;34m.\u001b[0m\u001b[0mrawdata\u001b[0m \u001b[0;34m+\u001b[0m \u001b[0mdata\u001b[0m\u001b[0;34m\u001b[0m\u001b[0m\n\u001b[0m\u001b[1;32m    111\u001b[0m         \u001b[0mself\u001b[0m\u001b[0;34m.\u001b[0m\u001b[0mgoahead\u001b[0m\u001b[0;34m(\u001b[0m\u001b[0;36m0\u001b[0m\u001b[0;34m)\u001b[0m\u001b[0;34m\u001b[0m\u001b[0m\n\u001b[1;32m    112\u001b[0m \u001b[0;34m\u001b[0m\u001b[0m\n",
      "\u001b[0;31mTypeError\u001b[0m: must be str, not NoneType"
     ]
    }
   ],
   "source": [
    "##ignore this, HTML parser approach not the most efficient \n",
    "\n",
    "class MyHTMLParser(HTMLParser):\n",
    "\n",
    "    \n",
    "    def handle_data(self, data):\n",
    "        print(\"Data: \", data)\n",
    "        \n",
    "    def handle_starttag(self, tag, attrs):\n",
    "        if tag in pass_start_tags:\n",
    "            pass\n",
    "        else: \n",
    "            \n",
    "            print(\"Start tag: \", tag)\n",
    "            for attr in attrs:\n",
    "                print(\"   attr: \", attr)\n",
    "        \n",
    "\n",
    "pass_start_tags = ['br', 'strong']\n",
    "parser = MyHTMLParser()\n",
    "\n",
    "parser.feed(xml_dict['service']['subway']['line'][0]['text'])"
   ]
  },
  {
   "cell_type": "code",
   "execution_count": 24,
   "metadata": {
    "collapsed": false
   },
   "outputs": [
    {
     "name": "stdout",
     "output_type": "stream",
     "text": [
      "<class 'xml.etree.ElementTree.Element'>\n",
      "name  -->  123\n",
      "status  -->  GOOD SERVICE\n",
      "text  -->  None\n",
      "Date  -->  None\n",
      "Time  -->  None\n"
     ]
    }
   ],
   "source": [
    "\n",
    "root = ET.fromstring(xml_string)\n",
    "print(type(root))\n",
    "for i in root[2][0]: print(i.tag,' --> ',i.text)\n"
   ]
  },
  {
   "cell_type": "code",
   "execution_count": 25,
   "metadata": {
    "collapsed": false
   },
   "outputs": [
    {
     "name": "stdout",
     "output_type": "stream",
     "text": [
      "123  -->  GOOD SERVICE\n",
      "456  -->  GOOD SERVICE\n",
      "7  -->  GOOD SERVICE\n",
      "ACE  -->  GOOD SERVICE\n",
      "BDFM  -->  SERVICE CHANGE\n",
      "G  -->  GOOD SERVICE\n",
      "JZ  -->  GOOD SERVICE\n",
      "L  -->  GOOD SERVICE\n",
      "NQR  -->  GOOD SERVICE\n",
      "S  -->  GOOD SERVICE\n"
     ]
    }
   ],
   "source": [
    "# try to list lines and current status\n",
    "\n",
    "len_num = len(root[2])\n",
    "num_lines = range(0,(len_num - 1))\n",
    "\n",
    "\n",
    "lines_len = list(range(0,len(root[2]) -1 ))\n",
    "for ea in lines_len:\n",
    "    print(root[2][int(ea)][0].text, ' --> ', root[2][ea][1].text)\n",
    "    \n"
   ]
  },
  {
   "cell_type": "code",
   "execution_count": 26,
   "metadata": {
    "collapsed": false
   },
   "outputs": [
    {
     "name": "stdout",
     "output_type": "stream",
     "text": [
      "None\n"
     ]
    }
   ],
   "source": [
    "# try to deal with service descirption text\n",
    "print(root[2][0][2].text)\n",
    "\n",
    "for i in root[2][0][2]:\n",
    "    print(i.attrib)\n",
    "\n"
   ]
  },
  {
   "cell_type": "code",
   "execution_count": null,
   "metadata": {
    "collapsed": false
   },
   "outputs": [],
   "source": [
    "\n",
    "print(root.tag)"
   ]
  },
  {
   "cell_type": "code",
   "execution_count": null,
   "metadata": {
    "collapsed": true
   },
   "outputs": [],
   "source": []
  }
 ],
 "metadata": {
  "kernelspec": {
   "display_name": "Python 3",
   "language": "python",
   "name": "python3"
  },
  "language_info": {
   "codemirror_mode": {
    "name": "ipython",
    "version": 3
   },
   "file_extension": ".py",
   "mimetype": "text/x-python",
   "name": "python",
   "nbconvert_exporter": "python",
   "pygments_lexer": "ipython3",
   "version": "3.6.0"
  }
 },
 "nbformat": 4,
 "nbformat_minor": 2
}
