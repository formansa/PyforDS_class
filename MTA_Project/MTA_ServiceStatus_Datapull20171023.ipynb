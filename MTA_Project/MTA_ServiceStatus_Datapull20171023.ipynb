{
 "cells": [
  {
   "cell_type": "markdown",
   "metadata": {},
   "source": [
    "The following code is my best approach so far to pulling the service status data from the site the mta posts it on: http://web.mta.info/status/serviceStatus.txt\n",
    "\n",
    "From what I understand the data is in XML format and is updated once a minute. \n",
    "\n"
   ]
  },
  {
   "cell_type": "code",
   "execution_count": 83,
   "metadata": {
    "collapsed": true
   },
   "outputs": [],
   "source": [
    "# imports\n",
    "\n",
    "from bs4 import BeautifulSoup\n",
    "\n",
    "import json\n",
    "from html.parser import HTMLParser\n",
    "import xml.etree.ElementTree as ET\n",
    "\n",
    "import pprint as pp\n",
    " \n",
    "import requests"
   ]
  },
  {
   "cell_type": "code",
   "execution_count": 98,
   "metadata": {
    "collapsed": false
   },
   "outputs": [
    {
     "name": "stdout",
     "output_type": "stream",
     "text": [
      "<class 'xml.etree.ElementTree.Element'>\n",
      "name  -->  NQR\n",
      "status  -->  DELAYS\n",
      "text  -->  \n",
      "                    <span class=\"TitleDelay\">Delays</span>\n",
      "                    <span class=\"DateStyle\">\n",
      "                    &nbsp;Posted:&nbsp;10/29/2017&nbsp; 6:55PM\n",
      "                    </span><br/><br/>\n",
      "                  [R] train service has resumed following earlier signal problems at <STRONG>Grand Av-Newtown.</STRONG>\n",
      "                <br/><br/>\n",
      "              \n",
      "                    <span class=\"TitleDelay\">Delays</span>\n",
      "                    <span class=\"DateStyle\">\n",
      "                    &nbsp;Posted:&nbsp;10/29/2017&nbsp; 6:06PM\n",
      "                    </span><br/><br/>\n",
      "                  <P>[D][N] and [R] trains are running withÂ slow speedsÂ in both directions because of track maintenance between <STRONG>59 St (Bklyn)</STRONG> and <STRONG>Atlantic Av-Barclays Ctr</STRONG>.</P>\n",
      "<P>Allow additional travel time. </P>\n",
      "                <br/><br/>\n",
      "              \n",
      "                    <span class=\"TitlePlannedWork\" >Planned Work</span>\n",
      "                    <br/>\n",
      "                  <a class=\"plannedWorkDetailLink\" onclick=ShowHide(171392);><b>[R] No trains between 36 St, Brooklyn and 95 St<font color=#000000><br clear=left>     </font>No late night service</a><br/><br/><div id= 171392 class=\"plannedWorkDetail\" ></font>[N] trains and [SB] free shuttle buses provide alternate service<br></b>Weekend, 11:45 PM Fri to 5 AM Mon, Oct 27 - 30<br><br>[R] service operates between <b>71 Av</b> and <b>36 St</b>, Brooklyn and via the [D] <i>to/from</i> 9 Av,<i> days and evenings</i>.<br><br>For late night service between <b>Whitehall St</b> and <b>59 St</b>, Brooklyn, take the [N] instead.<br><br>[SB] Buses make all stops between <b>59 St</b> and <b>95 St.<br><br></b><table class=plannedworkTableStyle  width=70%><tr><td><font size=3><b>Travel Alternatives</b></font><td align=center>[TP]</table><br></font>[N]* trains stop at 45 St, 53 St and 59 St.<br><br>&bull; </font>Transfer between <b>[N]</b> trains and [SB] buses at 59 St.<br><br><font size=3><b><a style=\"cursor:pointer; text-decoration:underline;\" onclick=ShowHide(1662570);>Show Shuttle Bus Stops</a></b></font><div id=\"1662570\"; style=\"display:none;\"><table class=plannedworkTableStyle  border=1 cellspacing=1 cellpadding=3 rules=rows frame=hsides><tr><td bgcolor=#FAF8CC><b>Station</b><td bgcolor=#FAF8CC><b>Shuttle Bus Stop</b><tr><td>59 St [N]    <td>4 Av at 59 St<tr><td>Bay Ridge Av<td>4 Av at 68 St<tr><td>77 St<td>4 Av at 77 St<tr><td rowspan=2>86 St<td>4 Av at 87 St (to 95 St)<tr><td>4 Av at 86 St (to 59 St)<tr><td>95 St<td>5 Av at 95 St</table></div><br><br><i>*Please review [N] advisories for additional information that may affect your trip.<br><br></i><b>Note:</b> Prospect Av is closed for renovation.<br><b><br></div></b><br/>\n",
      "                <br/><br/>\n",
      "              \n",
      "                    <span class=\"TitlePlannedWork\" >Planned Work</span>\n",
      "                    <br/>\n",
      "                  <a class=\"plannedWorkDetailLink\" onclick=ShowHide(171391);><b>[R] Manhattan-bound trains skip 25 St, 4 Av-9 St and Union St</a><br/><br/><div id= 171391 class=\"plannedWorkDetail\" ></b></font><a href=http://advisory.mtanyct.info/pdf_files/ServiceGuide.pdf target=_blank><font color=#0000FF><b><u>Weekend</u></b></font></a>, Saturday <i>and</i> Sunday, Oct 28 - 29<br><br>For service<i> to</i> these stations, take the [R] to Atlantic Av-Barclays Ctr <br>and transfer to a 9 Av-bound* [R].<br><br>For service <i>from </i>these stations, take the [R] to 36 St <br>and transfer to a Manhattan-bound [R].<br><br><i>*This detour has taken into account additional planned service changes.<br></i><b><br></div></b><br/>\n",
      "                <br/><br/>\n",
      "              \n",
      "                    <span class=\"TitlePlannedWork\" >Planned Work</span>\n",
      "                    <br/>\n",
      "                  <a class=\"plannedWorkDetailLink\" onclick=ShowHide(169044);><b>[Q] No trains between Brighton Beach and Stillwell Av</a><br/><br/><div id= 169044 class=\"plannedWorkDetail\" >[SB] Free shuttle buses provide alternate service<br></b>Weekends, 4:45 AM Sat to 10 PM Sun, until Nov 19<br><br><b>[Q]</b> service operates between <b>96 St</b> and <b>Brighton Beach</b>.<br><br>[SB] Buses operate between <b>Brighton Beach</b> and <b>Stillwell Av</b>, stopping at <b>Ocean Pkwy</b> and <b>West 8 St</b>.<br><br>&bull; </font>Transfer between trains and [SB] buses at Brighton Beach or Stillwell Av.<br><br>For direct service between Stillwell Av and Manhattan/Downtown Brooklyn,<br>take the [D]* [F] or [N] instead.<br><br></font><font size=3><b><a style=\"cursor:pointer; text-decoration:underline;\" onclick=ShowHide(1690440)>Show Shuttle Bus Stops</a></b></font>                           [TP]<div id=\"1690440\"; style=\"display:none;\"><br><table class=plannedworkTableStyle  border=1 cellspacing=1 cellpadding=3 rules=rows frame=hsides><tr bgcolor=#FAF8CC><td><b>Station      </b></td><td><b>Shuttle Bus Stop</b><tr><td>Brighton Beach  [QS]<td></font>Brighton Beach Av at Brighton 6 St<tr><td></font>Ocean Pkwy<td></font>W Brighton Av at Ocean Pkwy<tr><td>West 8 St [F]<td>Surf Av at W 8 St<tr><td>Stillwell Av  [ad]  [DS] [FS] [NS]  <td>Surf Av at Stillwell Av</table></div><br><br><i>*No [D] trains in Brooklyn, Nov 18 - 19.<br><br></i></font><table class=plannedworkTableStyle  border=1 cellspacing=1 cellpadding=5 rules=none frame=box><td>  [ad]  <td><font size=1>This service change affects one or more ADA accessible stations. Please call 511 for help with planning<br>your trip. If you are deaf or hard of hearing, use your preferred relay service provider or the free 711 relay.  </font></table><br><b><br></div></b><br/>\n",
      "                <br/><br/>\n",
      "              \n",
      "                    <span class=\"TitlePlannedWork\" >Planned Work</span>\n",
      "                    <br/>\n",
      "                  <a class=\"plannedWorkDetailLink\" onclick=ShowHide(171397);><b>[N] Coney Island-bound trains make local stops at 45 St and 53 St</a><br/><br/><div id= 171397 class=\"plannedWorkDetail\" ></b>Weekend, 11:45 PM Fri to 5 AM Mon, Oct 27 - 30<br><br>  Please allow additional travel time.<br><b><br></div></b><br/>\n",
      "                <br/><br/>\n",
      "              \n",
      "                    <span class=\"TitlePlannedWork\" >Planned Work</span>\n",
      "                    <br/>\n",
      "                  <a class=\"plannedWorkDetailLink\" onclick=ShowHide(169035);><b>[N] Astoria-bound trains skip 39 Av and Broadway </a><br/><br/><div id= 169035 class=\"plannedWorkDetail\" ></b>Weekend, 11:45 PM Fri to 5 AM Mon, Oct 27 - 30<br><br>For service<i> to</i> these stations, take the [N] to Astoria Blvd and transfer to a<br>Coney Island-bound [N].<br><br>For service<i> from </i>these stations, take the [N] to Queensboro Plaza and transfer<br>to an Astoria-bound [N].<br><br><b>Note:</b> 36 Av and 30 Av are closed for renovation.<br><b><br></div></b><br/>\n",
      "                <br/><br/>\n",
      "              \n",
      "Date  -->  10/29/2017\n",
      "Time  -->   6:55PM\n"
     ]
    }
   ],
   "source": [
    "TARGET = 'servicestatus.json'\n",
    "SOURCE = 'http://web.mta.info/status/serviceStatus.txt'\n",
    "\n",
    "response = requests.get(SOURCE)\n",
    "xml_string = response.text\n",
    "\n",
    "# ET.fromstring converts a string of XML content to a XML tree object. Google the package for full documentation\n",
    "root = ET.fromstring(xml_string)\n",
    "print(type(root))\n",
    "\n",
    "# root[2][0] navigates down into the tree, i has both tag and text charactersitcs \n",
    "#     (some others as well including .name and .attrib i believe)\n",
    "# [2] or the first slice indicates subway (vs. commuter rail or bus)\n",
    "# [0] or the second slice indicates the cluster of subway lines \n",
    "#     if you want to see the text for a service avisory (i.e. when service != 'Good Service'\n",
    "#     then switch the 0 to an interger that corresponds with a line w/ a service change\n",
    "\n",
    "for i in root[2][8]: print(i.tag,' --> ',i.text)\n",
    "    \n",
    "# when there is anything other than good service on the 123 lines \n",
    "#     the text.text below will return the full XML text of the description of the service disruption"
   ]
  },
  {
   "cell_type": "code",
   "execution_count": 85,
   "metadata": {
    "collapsed": false
   },
   "outputs": [
    {
     "name": "stdout",
     "output_type": "stream",
     "text": [
      "123  -->  DELAYS\n",
      "456  -->  SERVICE CHANGE\n",
      "7  -->  PLANNED WORK\n",
      "ACE  -->  DELAYS\n",
      "BDFM  -->  DELAYS\n",
      "G  -->  GOOD SERVICE\n",
      "JZ  -->  GOOD SERVICE\n",
      "L  -->  GOOD SERVICE\n",
      "NQR  -->  DELAYS\n",
      "S  -->  GOOD SERVICE\n",
      "SIR  -->  GOOD SERVICE\n"
     ]
    }
   ],
   "source": [
    "# the following lists the names of the lines with the current service status\n",
    "# root[2][ea][0].text represents the line \n",
    "# root[2][ea][1].text represents the service status\n",
    "\n",
    "len_num = len(root[2])\n",
    "num_lines = range(0,(len_num - 1))\n",
    "\n",
    "\n",
    "lines_len = list(range(0,len(root[2]) ))\n",
    "# below iterates over all train lines\n",
    "for ea in lines_len:\n",
    "    print(root[2][ea][0].text, ' --> ', root[2][ea][1].text)\n",
    "    "
   ]
  },
  {
   "cell_type": "code",
   "execution_count": 86,
   "metadata": {
    "collapsed": false
   },
   "outputs": [
    {
     "name": "stdout",
     "output_type": "stream",
     "text": [
      "<p>[A] and [C] trains are running with slow speeds in both directions because ofÂ trackÂ maintenance between <strong>Euclid Av</strong> and <strong>Hoyt-Schermerhorn Streets</strong>. </p>\n",
      "<p>Allow additional travel time. </p>\n"
     ]
    }
   ],
   "source": [
    "##Make soup from line service status \n",
    "# Below give text (still with html in it) for all delays in the given subway line \n",
    "#for i in root[2].iter('status'): print(i.text)\n",
    "    \n",
    "#for b in root[2].iter('text'): print(b.text)\n",
    "\n",
    "status123_str = root[2][3][2].text\n",
    "soup_123 = BeautifulSoup(status123_str, 'lxml')\n",
    "\n",
    "#print(status123_str)\n",
    "#print(soup_123.p)\n",
    "\n",
    "for p in soup_123.find_all('p'):\n",
    "    print(p)\n",
    "\n"
   ]
  },
  {
   "cell_type": "markdown",
   "metadata": {},
   "source": [
    "## Learnings\n",
    "\n",
    "it seems like delays are posted in the following structure:\n",
    "The word \"Delays\" and the posting time and date are posted as two spans shown next to each other. \n",
    "The description of the delay is posted as loose paragraphs (with tag <P>). \n",
    "\n",
    "All planned work is posted as its own span with the necessary information within it \n",
    "The planned work is in some sort of HTML \"ClickHide\" structure that contains both the summary and detailed explanation of the planned work. \n",
    "\n",
    "It also seems like when there is a combination of planned work and delays the service status takes the above format (with spans for planned work and <P> for delays), but when there's only planned work the planned work goes straight into <P>'s as well.\n",
    "\n",
    "____\n",
    "\n",
    "It might make sense to search for planned work by looking for the span with class == PlannedWork and search for delays by looking for any <p> tag (with some characteristics? to know you may have to look at format for pure delay w/ no planned work)"
   ]
  },
  {
   "cell_type": "code",
   "execution_count": 87,
   "metadata": {
    "collapsed": false
   },
   "outputs": [
    {
     "name": "stdout",
     "output_type": "stream",
     "text": [
      "<span class=\"TitleDelay\">Delays</span> Delays\n",
      "<span class=\"DateStyle\">\n",
      "                     Posted: 10/29/2017  6:08PM\n",
      "                    </span> \n",
      "                     Posted: 10/29/2017  6:08PM\n",
      "                    \n",
      "<span class=\"TitlePlannedWork\">Planned Work</span> Planned Work\n",
      "<span class=\"TitlePlannedWork\">Planned Work</span> Planned Work\n",
      "<span class=\"TitlePlannedWork\">Planned Work</span> Planned Work\n",
      "<span class=\"TitlePlannedWork\">Planned Work</span> Planned Work\n"
     ]
    }
   ],
   "source": [
    "# it seems like planned work is kept in \"spans\" \n",
    "# the span class \n",
    "\n",
    "for sp in soup_123.find_all('span'):\n",
    "    print(sp, sp.text)"
   ]
  },
  {
   "cell_type": "code",
   "execution_count": 88,
   "metadata": {
    "collapsed": false
   },
   "outputs": [
    {
     "name": "stdout",
     "output_type": "stream",
     "text": [
      "<html><body><span class=\"TitleDelay\">Delays</span>\n",
      "<span class=\"DateStyle\">\n",
      "                     Posted: 10/29/2017  6:08PM\n",
      "                    </span><br/><br/>\n",
      "<p>[A] and [C] trains are running with slow speeds in both directions because ofÂ trackÂ maintenance between <strong>Euclid Av</strong> and <strong>Hoyt-Schermerhorn Streets</strong>. </p>\n",
      "<p>Allow additional travel time. </p>\n",
      "<br/><br/>\n",
      "<span class=\"TitlePlannedWork\">Planned Work</span>\n",
      "<br/>\n",
      "<a class=\"plannedWorkDetailLink\" onclick=\"ShowHide(168918);\"><b>[E] Jamaica Center-bound trains run local from Queens Plaza to 71 Av</b></a><br/><br/><div class=\"plannedWorkDetail\" id=\"168918\">Weekend, 12:01 AM Sat to 5 AM Mon, Oct 28 - 30<br/><br/>Trains stop at 36, Steinway, 46 Sts, Northern Blvd, 65 St, Roosevelt, Elmhurst, Grand Avs,<br/>Woodhaven Blvd, 63 Dr and 67 Av.<br/><br/>• Please allow additional travel time.<br/><b><br/></b></div><br/>\n",
      "<br/><br/>\n",
      "<span class=\"TitlePlannedWork\">Planned Work</span>\n",
      "<br/>\n",
      "<a class=\"plannedWorkDetailLink\" onclick=\"ShowHide(168361);\"><b>[E] Jamaica Center-bound trains skip Spring St and 23 St</b></a><br/><br/><div class=\"plannedWorkDetail\" id=\"168361\">Weekend, 11:45 PM Fri to 5 AM Mon, Oct 27 - 30<br/><br/>For service <i>to </i>these stations, take the [E] to W 4 St or 34 St-Penn Station <br/>and transfer to a downtown [A] <i>local</i>, [C] or [E].<br/><br/>For service <i>from </i>these stations, take the [A] [C] or [E] to 14 St <br/>or Canal St and transfer to a Jamaica Center-bound [E].<br/><b><br/></b></div><br/>\n",
      "<br/><br/>\n",
      "<span class=\"TitlePlannedWork\">Planned Work</span>\n",
      "<br/>\n",
      "<a class=\"plannedWorkDetailLink\" onclick=\"ShowHide(168359);\"><b>[C] Uptown trains skip Spring St, 23 St and 50 St</b></a><br/><br/><div class=\"plannedWorkDetail\" id=\"168359\"><a href=\"http://advisory.mtanyct.info/pdf_files/ServiceGuide.pdf\" target=\"_blank\"><font color=\"#0000FF\"><b><u>Weekend</u></b></font></a>, Saturday <i>and </i>Sunday, Oct 28 - 29<br/><br/>For service <i>to</i> Spring and 23 Sts, take the [C] to W 4 or 34 St-Penn Station<br/>and transfer to a downtown [C] or [E].<br/><br/>For service <i>to</i> 50 St, transfer to the [E] at 42 St/Port Authority.<br/><br/>For service <i>from</i> these stations, take the [C] or [E] to 42/Port Authority, 14 or Canal Sts<br/>and transfer to an uptown [C].<br/><b><br/></b></div><br/>\n",
      "<br/><br/>\n",
      "<span class=\"TitlePlannedWork\">Planned Work</span>\n",
      "<br/>\n",
      "<a class=\"plannedWorkDetailLink\" onclick=\"ShowHide(171309);\"><b>[A] Trains run local in both directions between Hoyt Schermerhorn and Euclid Av</b></a><br/><br/><div class=\"plannedWorkDetail\" id=\"171309\">Weekend, 12:01 AM Sat to 5 AM Mon, Oct 28 - 30<br/><br/>• Please allow additional travel time.<br/><b></b> <br/></div><br/>\n",
      "<br/><br/>\n",
      "</body></html>\n"
     ]
    }
   ],
   "source": [
    "print(soup_123)"
   ]
  },
  {
   "cell_type": "code",
   "execution_count": 89,
   "metadata": {
    "collapsed": false
   },
   "outputs": [
    {
     "name": "stdout",
     "output_type": "stream",
     "text": [
      "[E] Jamaica Center-bound trains run local from Queens Plaza to 71 Av\n",
      "[E] Jamaica Center-bound trains skip Spring St and 23 St\n",
      "[C] Uptown trains skip Spring St, 23 St and 50 St\n",
      "Weekend\n",
      "[A] Trains run local in both directions between Hoyt Schermerhorn and Euclid Av\n"
     ]
    }
   ],
   "source": [
    "# general descriptions for Planned Work seem to be in \"a\" tags \n",
    "for sp in soup_123.find_all('a'):\n",
    "    print(sp.text)\n",
    "        "
   ]
  },
  {
   "cell_type": "code",
   "execution_count": 90,
   "metadata": {
    "collapsed": false
   },
   "outputs": [
    {
     "name": "stdout",
     "output_type": "stream",
     "text": [
      "[E] Jamaica Center-bound trains run local from Queens Plaza to 71 Av\n",
      "Weekend, 12:01 AM Sat to 5 AM Mon, Oct 28 - 30Trains stop at 36, Steinway, 46 Sts, Northern Blvd, 65 St, Roosevelt, Elmhurst, Grand Avs,Woodhaven Blvd, 63 Dr and 67 Av.• Please allow additional travel time.\n",
      "[E] Jamaica Center-bound trains skip Spring St and 23 St\n",
      "Weekend, 11:45 PM Fri to 5 AM Mon, Oct 27 - 30For service to these stations, take the [E] to W 4 St or 34 St-Penn Station and transfer to a downtown [A] local, [C] or [E].For service from these stations, take the [A] [C] or [E] to 14 St or Canal St and transfer to a Jamaica Center-bound [E].\n",
      "[C] Uptown trains skip Spring St, 23 St and 50 St\n",
      "Weekend, Saturday and Sunday, Oct 28 - 29For service to Spring and 23 Sts, take the [C] to W 4 or 34 St-Penn Stationand transfer to a downtown [C] or [E].For service to 50 St, transfer to the [E] at 42 St/Port Authority.For service from these stations, take the [C] or [E] to 42/Port Authority, 14 or Canal Stsand transfer to an uptown [C].\n",
      "[A] Trains run local in both directions between Hoyt Schermerhorn and Euclid Av\n",
      "Weekend, 12:01 AM Sat to 5 AM Mon, Oct 28 - 30• Please allow additional travel time. \n"
     ]
    }
   ],
   "source": [
    "# the following pulls out the text for planned work summary links and more detailed explanation\n",
    "poss_classnames = ['plannedWorkDetailLink','plannedWorkDetail']\n",
    "poss_tags = ['a','div']\n",
    "\n",
    "plannedwork_full = soup_123.find_all(poss_tags,{'class' : poss_classnames})\n",
    "# plannedwork_full type == <class 'bs4.element.ResultSet'>\n",
    "\n",
    "for ea  in plannedwork_full: print(ea.text)"
   ]
  },
  {
   "cell_type": "code",
   "execution_count": 91,
   "metadata": {
    "collapsed": false
   },
   "outputs": [
    {
     "name": "stdout",
     "output_type": "stream",
     "text": [
      "[E] Jamaica Center-bound trains run local from Queens Plaza to 71 Av \n",
      " Weekend, 12:01 AM Sat to 5 AM Mon, Oct 28 - 30Trains stop at 36, Steinway, 46 Sts, Northern Blvd, 65 St, Roosevelt, Elmhurst, Grand Avs,Woodhaven Blvd, 63 Dr and 67 Av.• Please allow additional travel time. \n",
      "\n",
      "[E] Jamaica Center-bound trains skip Spring St and 23 St \n",
      " Weekend, 11:45 PM Fri to 5 AM Mon, Oct 27 - 30For service to these stations, take the [E] to W 4 St or 34 St-Penn Station and transfer to a downtown [A] local, [C] or [E].For service from these stations, take the [A] [C] or [E] to 14 St or Canal St and transfer to a Jamaica Center-bound [E]. \n",
      "\n",
      "[C] Uptown trains skip Spring St, 23 St and 50 St \n",
      " Weekend, Saturday and Sunday, Oct 28 - 29For service to Spring and 23 Sts, take the [C] to W 4 or 34 St-Penn Stationand transfer to a downtown [C] or [E].For service to 50 St, transfer to the [E] at 42 St/Port Authority.For service from these stations, take the [C] or [E] to 42/Port Authority, 14 or Canal Stsand transfer to an uptown [C]. \n",
      "\n",
      "[A] Trains run local in both directions between Hoyt Schermerhorn and Euclid Av \n",
      " Weekend, 12:01 AM Sat to 5 AM Mon, Oct 28 - 30• Please allow additional travel time.  \n",
      "\n"
     ]
    }
   ],
   "source": [
    "# looking for a nicer way to do this - ie return proper formatting \n",
    "\n",
    "for a_summ in soup_123.find_all('a', {'class':'plannedWorkDetailLink'}):\n",
    "    pw_summtext = a_summ.text\n",
    "    next_div = a_summ.find_next('div').text\n",
    "    \n",
    "    print(pw_summtext,'\\n', next_div, '\\n')\n"
   ]
  },
  {
   "cell_type": "markdown",
   "metadata": {},
   "source": [
    "## Planned Work Functions below"
   ]
  },
  {
   "cell_type": "code",
   "execution_count": 92,
   "metadata": {
    "collapsed": false
   },
   "outputs": [],
   "source": [
    "# turn nicer way into a funciton \n",
    "# soup must always be the beautifulsoup of that line's service status text \n",
    "\n",
    "def plannedWork_Simple(line_servicestatus_soup):\n",
    "    \n",
    "    tag_options = ['span']\n",
    "    classname_options = ['TitlePlannedWork']\n",
    "    subtag_options = ['p']\n",
    "\n",
    "    for spans in line_servicestatus_soup.find_all(tag_options, {'class':classname_options}):\n",
    "        subs = spans.find_all_next(subtag_options)\n",
    "        for each in subs:\n",
    "            print(each.text)\n",
    "\n",
    "    "
   ]
  },
  {
   "cell_type": "code",
   "execution_count": 93,
   "metadata": {
    "collapsed": true
   },
   "outputs": [],
   "source": [
    "# this works for printing summary line, and not when planned work is a span\n",
    "def plannedWork_Detail(line_servicestatus_soup):\n",
    "    \n",
    "    tag_options = ['a']\n",
    "    classname_options = ['plannedWorkDetailLink']\n",
    "    subtag_options = ['div','p']\n",
    "    \n",
    "    for a_summ in line_servicestatus_soup.find_all(tag_options, {'class':classname_options}):\n",
    "        pw_summtext = a_summ.text\n",
    "\n",
    "    \n",
    "        #print(pw_summtext,'\\n', next_div, '\\n')\n",
    "        print(pw_summtext)"
   ]
  },
  {
   "cell_type": "code",
   "execution_count": 94,
   "metadata": {
    "collapsed": false
   },
   "outputs": [
    {
     "name": "stdout",
     "output_type": "stream",
     "text": [
      "123 :  DELAYS\n",
      "[3] Downtown trains run local from 96 St to Times Sq-42 St\n",
      "[2] Downtown trains run local from 96 St to Times Sq-42 St\n",
      "[2] No trains between Dyre Av and E 180 St\n",
      "Weekend [2] [3] station closures and route changes\n",
      "[2] [5] Uptown trains run express from 3 Av-149 St to E 180 St\n",
      "[1] Van Cortlandt Park-bound trains skip 50 St, 59 St and 66 St\n",
      "\n",
      "\n",
      "456 :  SERVICE CHANGE\n",
      "[6] No trains between Parkchester and Pelham Bay Park\n",
      "[6] Downtown trains run express from 125 St to Brooklyn Bridge\n",
      "[4] No trains between Utica Av and New Lots Av\n",
      "[2] No trains between Dyre Av and E 180 St\n",
      "[2] [5] Uptown trains run express from 3 Av-149 St to E 180 St\n",
      "\n",
      "\n",
      "7 :  PLANNED WORK\n",
      "Flushing bound [7] trains are bypassing 33, 40, 46, 52, 69,Â 74, 82, 90, 103 and 111 St.\n",
      "Weekend, 3:45AM Sat to 10PM Sun, Oct 28 - 29\n",
      "For service to these stations, take the [7] to 61 St-Woodside, Junction Blvd or Mets-Willets Point and transfer to a Hudson Yards-bound [7].\n",
      "For service from the stations, take the [7] to Junction Blvd, 61 St-Woodside or Queensboro Plaza and transfer to a Flushing-bound [7].\n",
      "Allow additional travel time.\n",
      "\n",
      "\n",
      "ACE :  DELAYS\n",
      "[E] Jamaica Center-bound trains run local from Queens Plaza to 71 Av\n",
      "[E] Jamaica Center-bound trains skip Spring St and 23 St\n",
      "[C] Uptown trains skip Spring St, 23 St and 50 St\n",
      "[A] Trains run local in both directions between Hoyt Schermerhorn and Euclid Av\n",
      "\n",
      "\n",
      "BDFM :  DELAYS\n",
      "[F] Jamaica-bound trains run local from 21 St-Queensbridge to 71 Av\n",
      "[F] Jamaica-bound trains skip 14 St and 23 St\n",
      "\n",
      "\n",
      "NQR :  DELAYS\n",
      "[R] No trains between 36 St, Brooklyn and 95 St No late night service\n",
      "[R] Manhattan-bound trains skip 25 St, 4 Av-9 St and Union St\n",
      "[Q] No trains between Brighton Beach and Stillwell Av\n",
      "[N] Coney Island-bound trains make local stops at 45 St and 53 St\n",
      "[N] Astoria-bound trains skip 39 Av and Broadway \n",
      "\n",
      "\n"
     ]
    }
   ],
   "source": [
    "# below prints all the planned work for all train lines where service status != 'GOOD SERVICE'\n",
    "# this will be much more useful triggered for an individual line\n",
    "\n",
    "for ea in lines_len:\n",
    "    if root[2][ea][1].text != 'GOOD SERVICE':\n",
    "        \n",
    "        line_name = root[2][ea][0].text\n",
    "        line_current_status = root[2][ea][1].text\n",
    "        line_status_txt = root[2][ea][2].text\n",
    "        line_status_soup = BeautifulSoup(line_status_txt, 'lxml')\n",
    "        \n",
    "        print(line_name, ': ',line_current_status)\n",
    "        \n",
    "        \n",
    "        if len(line_status_soup.find_all('a', {'class':'plannedWorkDetailLink'})) < 1:\n",
    "            plannedWork_Simple(line_status_soup)\n",
    "            \n",
    "        else:\n",
    "            plannedWork_Detail(line_status_soup)\n",
    "            \n",
    "        print('\\n')\n",
    "        \n",
    "    else:\n",
    "        pass\n",
    "    "
   ]
  },
  {
   "cell_type": "markdown",
   "metadata": {},
   "source": [
    "## Print Delays function below\n",
    "\n",
    "...still need to draw in date/time delay was posted\n",
    "... also fix for SIR / when there is no <p> tag for delay info "
   ]
  },
  {
   "cell_type": "code",
   "execution_count": 95,
   "metadata": {
    "collapsed": false
   },
   "outputs": [
    {
     "name": "stdout",
     "output_type": "stream",
     "text": [
      "[D][N] and [R] trains are running withÂ slow speedsÂ in both directions because of track maintenance between 59 St (Bklyn) and Atlantic Av-Barclays Ctr.\n",
      "Allow additional travel time. \n",
      "[D][N] and [R] trains are running withÂ slow speedsÂ in both directions because of track maintenance between 59 St (Bklyn) and Atlantic Av-Barclays Ctr.\n",
      "Allow additional travel time. \n"
     ]
    }
   ],
   "source": [
    "## Scratch! \n",
    "# print delay info for a given line\n",
    "# this seems to work for any trains that have delays, challenge will be making sure\n",
    "    #to only apply it to trains with delays, becasue it returns contern for all trains with service changes\n",
    "statusBDFM_str = root[2][8][2].text\n",
    "soup_BDFM = BeautifulSoup(statusBDFM_str, 'lxml')\n",
    "\n",
    "for del1 in soup_BDFM.find_all('span', {'class': 'TitleDelay'}):\n",
    "    delay_deets = del1.find_all_next('p')\n",
    "    for dels in delay_deets:\n",
    "        print(dels.text)"
   ]
  },
  {
   "cell_type": "code",
   "execution_count": 105,
   "metadata": {
    "collapsed": true
   },
   "outputs": [],
   "source": [
    "# \n",
    "\n",
    "def delays_print(line_servicestatus_soup):\n",
    "    \n",
    "    for del1 in line_servicestatus_soup.find_all('span', {'class': 'TitleDelay'}):\n",
    "        \n",
    "        # below checks that the delay description is contained in <p> tags\n",
    "        # if problems arise change find_next_siblings to find_all\n",
    "        if len(del1.find_next_siblings('p')) > 0:\n",
    "            \n",
    "            \n",
    "            delay_deets = del1.find_next_siblings('p')\n",
    "            for dels in delay_deets:\n",
    "                print(dels.text)\n",
    "            \n",
    "            print('\\n')\n",
    "            \n",
    "            \n",
    "        else:\n",
    "            #this needs to be fixed to deal with delays with no tags! (SIR example)\n",
    "            print('need 2nd fcn')\n",
    "            \n",
    "            "
   ]
  },
  {
   "cell_type": "code",
   "execution_count": 106,
   "metadata": {
    "collapsed": false
   },
   "outputs": [
    {
     "name": "stdout",
     "output_type": "stream",
     "text": [
      "123 :  DELAYS\n",
      "[1][2] and [3] trains are running withÂ slow speedsÂ in both directions because of track maintenance between 59 St-Columbus CircleÂ and 72 St. \n",
      "Allow additional travel time. \n",
      "\n",
      "\n",
      "ACE :  DELAYS\n",
      "[A] and [C] trains are running with slow speeds in both directions because ofÂ trackÂ maintenance between Euclid Av and Hoyt-Schermerhorn Streets. \n",
      "Allow additional travel time. \n",
      "\n",
      "\n",
      "BDFM :  DELAYS\n",
      "[D][N] and [R] trains are running withÂ slow speedsÂ in both directions because of track maintenance between 59 St (Bklyn) and Atlantic Av-Barclays Ctr.\n",
      "Allow additional travel time. \n",
      "\n",
      "\n",
      "NQR :  DELAYS\n",
      "[D][N] and [R] trains are running withÂ slow speedsÂ in both directions because of track maintenance between 59 St (Bklyn) and Atlantic Av-Barclays Ctr.\n",
      "Allow additional travel time. \n",
      "\n",
      "\n",
      "[D][N] and [R] trains are running withÂ slow speedsÂ in both directions because of track maintenance between 59 St (Bklyn) and Atlantic Av-Barclays Ctr.\n",
      "Allow additional travel time. \n",
      "\n",
      "\n"
     ]
    }
   ],
   "source": [
    "# implementation\n",
    "\n",
    "\n",
    "for ea in lines_len:\n",
    "    if root[2][ea][1].text == 'DELAYS':\n",
    "\n",
    "        # get line name and service status\n",
    "        line_name = root[2][ea][0].text\n",
    "        line_current_status = root[2][ea][1].text\n",
    "        \n",
    "        # get service status text and convert to BeautifulSoup obj\n",
    "        line_status_txt = root[2][ea][2].text\n",
    "        line_status_soup = BeautifulSoup(line_status_txt, 'lxml')\n",
    "\n",
    "        print(line_name, ': ',line_current_status)\n",
    "        delays_print(line_status_soup)\n",
    "    \n",
    "    else:\n",
    "        pass \n"
   ]
  },
  {
   "cell_type": "code",
   "execution_count": null,
   "metadata": {
    "collapsed": true
   },
   "outputs": [],
   "source": []
  }
 ],
 "metadata": {
  "kernelspec": {
   "display_name": "Python 3",
   "language": "python",
   "name": "python3"
  },
  "language_info": {
   "codemirror_mode": {
    "name": "ipython",
    "version": 3
   },
   "file_extension": ".py",
   "mimetype": "text/x-python",
   "name": "python",
   "nbconvert_exporter": "python",
   "pygments_lexer": "ipython3",
   "version": "3.6.0"
  }
 },
 "nbformat": 4,
 "nbformat_minor": 2
}
