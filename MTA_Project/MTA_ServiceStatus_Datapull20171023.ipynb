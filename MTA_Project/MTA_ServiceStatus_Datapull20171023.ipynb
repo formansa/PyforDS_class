{
 "cells": [
  {
   "cell_type": "markdown",
   "metadata": {},
   "source": [
    "The following code is my best approach so far to pulling the service status data from the site the mta posts it on: http://web.mta.info/status/serviceStatus.txt\n",
    "\n",
    "From what I understand the data is in XML format and is updated once a minute. \n",
    "\n"
   ]
  },
  {
   "cell_type": "code",
   "execution_count": 13,
   "metadata": {
    "collapsed": true
   },
   "outputs": [],
   "source": [
    "# imports\n",
    "\n",
    "from bs4 import BeautifulSoup\n",
    "\n",
    "import json\n",
    "from html.parser import HTMLParser\n",
    "import xml.etree.ElementTree as ET\n",
    "\n",
    "import pprint as pp\n",
    " \n",
    "import requests"
   ]
  },
  {
   "cell_type": "code",
   "execution_count": 14,
   "metadata": {
    "collapsed": false
   },
   "outputs": [
    {
     "name": "stdout",
     "output_type": "stream",
     "text": [
      "<class 'xml.etree.ElementTree.Element'>\n",
      "name  -->  NQR\n",
      "status  -->  DELAYS\n",
      "text  -->  \n",
      "                    <span class=\"TitleDelay\">Delays</span>\n",
      "                    <span class=\"DateStyle\">\n",
      "                    &nbsp;Posted:&nbsp;11/26/2017&nbsp; 4:22PM\n",
      "                    </span><br/><br/>\n",
      "                  [R] train service has resumed following an earlier incident involving debris on the tracks at <STRONG>86 St.</STRONG>\n",
      "                <br/><br/>\n",
      "              \n",
      "                    <span class=\"TitlePlannedWork\" >Planned Work</span>\n",
      "                    <br/>\n",
      "                  <a class=\"plannedWorkDetailLink\" onclick=ShowHide(174008);><b><i>TRACK MAINTENANCE</i><br clear=left>[R] Forest Hills-bound trains skip 36 St, Steinway St, 46 St, Northern Blvd and 65 St</a><br/><br/><div id= 174008 class=\"plannedWorkDetail\" ></b><a href=http://advisory.mtanyct.info/pdf_files/ServiceGuide.pdf target=_blank><font color=#0000FF>Weekend</font></a>, Saturday <i>and</i> Sunday</font>, Nov 25 - 26 <br><br>For service <i>to </i>these stations, take the [R] to Roosevelt Av and transfer to a Bay Ridge-bound [R].<br><br>For service <i>from </i>these stations, take the [R] to Queens Plaza and transfer to a Forest Hills-bound [R].<br><b><br></div></b><br/>\n",
      "                <br/><br/>\n",
      "              \n",
      "                    <span class=\"TitlePlannedWork\" >Planned Work</span>\n",
      "                    <br/>\n",
      "                  <a class=\"plannedWorkDetailLink\" onclick=ShowHide(171616);><b><i>TRACK REPLACEMENT</i><br clear=left>[R] Bay Ridge-bound trains skip </font>67 Av, 63 Dr, Woodhaven Blvd, Grand Av and Elmhurst Av</a><br/><br/><div id= 171616 class=\"plannedWorkDetail\" ></b><a href=http://advisory.mtanyct.info/pdf_files/ServiceGuide.pdf target=_blank><font color=#0000FF>Weekend</font></a>, Saturday <i>and</i> Sunday, </font>Nov 25 - 26<br><br>For service <i>to</i> these stations, take the [R] to Roosevelt Av and transfer to a Forest Hills-bound [R].<br><br>For service <i>from</i> these stations, take the [R] to 71 Av and transfer to a Bay Ridge-bound [R].<br><b><br></div></b><br/>\n",
      "                <br/><br/>\n",
      "              \n",
      "                    <span class=\"TitlePlannedWork\" >Planned Work</span>\n",
      "                    <br/>\n",
      "                  <a class=\"plannedWorkDetailLink\" onclick=ShowHide(173683);><b><i>SIGNAL MAINTENANCE</i><br clear=left>[N] No trains between 36 St and Stillwell Av</a><br/><br/><div id= 173683 class=\"plannedWorkDetail\" >[D] [R] trains and [SB] free shuttle buses provide alternate service<br></b>Weekend, 4:45 AM to 7 PM, Sunday, Nov 26<br><br>[N] trains operate between Ditmars Blvd and 36 St, Brooklyn and via the [D] to/from 9 Av, <i>the last stop</i>.<br><br><b>[SB]</b> Buses operate between <b>Stillwell Av</b> and <b>59 St</b> stopping at<b> 8 Av, Fort Hamilton Pkwy, <br>New Utrecht, 18, 20 Avs, Bay Pkwy, Kings Hwy, Avenue U </b>and<b> 86 St.<br><br>[R]</b> trains provide alternate service at <b>59 St</b>, <b>53 St</b>, <b>45 St</b> and <b>36 St</b>.<br><br>Take the [D] for 62 St/New Utrecht Av.<br><br><table class=plannedworkTableStyle  width=70%<tr><td><font size=3><b>Travel Alternatives</b></font><td align=right>[TP]</table><br>&bull; Transfer between <b>[N]</b> and <b>[D] [R]</b> trains at <b>36 St</b>.<br></font>&bull; Transfer between <b>[R]</b> trains and <b>[SB]</b> buses at <b>59 St</b>.<br></font>&bull; Transfer between <b>[D]</b> trains and <b>[SB]</b> buses at <b>New Utrecht Av/62 St</b>.<br><br><html><br><font size=3><b><a style=\"cursor:pointer; text-decoration:underline;\" onclick=ShowHide(1736830);>Show Shuttle Bus Stops</a></b></font><div id=\"1736830\"; style=\"display:none;\"><table class=plannedworkTableStyle  border=1 width=70% cellspacing=1 cellpadding=3 rules=rows frame=hsides><br><tr bgcolor=FAF8CC><td><b>Station</b><td><b>Shuttle Bus Stop</b><td><b>Bus<br></b><tr><td>59 St [R]<td>4 Av at 59 St<td>&mdash;<tr><td>8 Av<td>60 St at 8 Av<td><b>B9<br></b><tr><td>Fort Hamilton Pkwy<td>60 St at Fort Hamilton Pkwy<td><b>B9<br></b><tr><td>62 St/New Utrecht Av [D]<td>New Utrecht Av at 62 St<td>&mdash;<br><tr><td>18 Av<td>65 St at 18 Av<td>&mdash;<tr><td>20 Av<td>65 St at 20 Av<td>&mdash;<br><tr><td rowspan=2>Bay Pkwy  [ad] <td>Bay Pkwy at W 7 St (to 36 St)<td><b>B82<br></b><tr><td>Bay Pkwy at 65 St (to Stillwell Av)<td><b>B6<br></b><tr><td>Kings Hwy<td>Kings Hwy at W 7 St<td><b>B82<br></b><tr><td>Avenue U<td>W 6 St at Avenue U<td>&mdash;<br><tr><td rowspan=2>86 St<td>W 6 St at 86 St (to 36 St)<td>&mdash;<br><tr><td>W 6 St at Avenue W (to Stillwell Av)<td>&mdash;<br><tr><td>Stillwell Av [ad] [F] [N] <td>Surf Av at Stillwell Av<td><b>B36</b></table></div></html>  <br>     <br><b>Reminder:</b> Coney Island-bound platforms at Fort Hamilton Pkwy, New Utrecht Av, 18 Av, 20 Av, Kings Hwy,<br>Avenue U, and 86 St are closed for renovation.<br><b><br></div></b><br/>\n",
      "                <br/><br/>\n",
      "              \n",
      "Date  -->  11/26/2017\n",
      "Time  -->   4:22PM\n"
     ]
    }
   ],
   "source": [
    "## Creating XML Tree Object ##\n",
    "\n",
    "TARGET = 'servicestatus.json'\n",
    "SOURCE = 'http://web.mta.info/status/serviceStatus.txt'\n",
    "\n",
    "response = requests.get(SOURCE)\n",
    "xml_string = response.text\n",
    "\n",
    "# ET.fromstring converts a string of XML content to a XML tree object. Google the package for full documentation\n",
    "root = ET.fromstring(xml_string)\n",
    "print(type(root))\n",
    "\n",
    "\n",
    "# root[2][0] navigates down into the tree, i has both tag and text charactersitcs \n",
    "#     (some others as well including .name and .attrib i believe)\n",
    "# [2] or the first slice indicates subway (vs. commuter rail or bus)\n",
    "# [0] or the second slice indicates the cluster of subway lines \n",
    "#     if you want to see the text for a service avisory (i.e. when service != 'Good Service'\n",
    "#     then switch the 0 to an interger that corresponds with a line w/ a service change\n",
    "\n",
    "for i in root[2][8]: print(i.tag,' --> ',i.text)\n",
    "    \n",
    "# when there is anything other than good service on the 123 lines \n",
    "#     the text.text below will return the full XML text of the description of the service disruption"
   ]
  },
  {
   "cell_type": "code",
   "execution_count": 15,
   "metadata": {
    "collapsed": false
   },
   "outputs": [
    {
     "name": "stdout",
     "output_type": "stream",
     "text": [
      "123  -->  PLANNED WORK\n",
      "456  -->  PLANNED WORK\n",
      "7  -->  PLANNED WORK\n",
      "ACE  -->  PLANNED WORK\n",
      "BDFM  -->  PLANNED WORK\n",
      "G  -->  PLANNED WORK\n",
      "JZ  -->  GOOD SERVICE\n",
      "L  -->  GOOD SERVICE\n",
      "NQR  -->  DELAYS\n",
      "S  -->  PLANNED WORK\n",
      "SIR  -->  GOOD SERVICE\n"
     ]
    }
   ],
   "source": [
    "# the following lists the names of the lines with the current service status\n",
    "# root[2][ea][0].text represents the line \n",
    "# root[2][ea][1].text represents the service status\n",
    "\n",
    "len_num = len(root[2])\n",
    "num_lines = range(0,(len_num - 1))\n",
    "\n",
    "\n",
    "lines_len = list(range(0,len(root[2]) ))\n",
    "# below iterates over all train lines\n",
    "for ea in lines_len:\n",
    "    print(root[2][ea][0].text, ' --> ', root[2][ea][1].text)\n",
    "    "
   ]
  },
  {
   "cell_type": "code",
   "execution_count": 16,
   "metadata": {
    "collapsed": false
   },
   "outputs": [],
   "source": [
    "##Make soup from line service status \n",
    "# Below give text (still with html in it) for all delays in the given subway line \n",
    "#for i in root[2].iter('status'): print(i.text)\n",
    "    \n",
    "#for b in root[2].iter('text'): print(b.text)\n",
    "\n",
    "status123_str = root[2][3][2].text\n",
    "soup_123 = BeautifulSoup(status123_str, 'lxml')\n",
    "\n",
    "#print(status123_str)\n",
    "#print(soup_123.p)\n",
    "\n",
    "for p in soup_123.find_all('p'):\n",
    "    print(p)\n",
    "\n"
   ]
  },
  {
   "cell_type": "markdown",
   "metadata": {},
   "source": [
    "## Learnings\n",
    "\n",
    "it seems like delays are posted in the following structure:\n",
    "The word \"Delays\" and the posting time and date are posted as two spans shown next to each other. \n",
    "The description of the delay is posted as loose paragraphs (with tag <P>). \n",
    "\n",
    "All planned work is posted as its own span with the necessary information within it \n",
    "The planned work is in some sort of HTML \"ClickHide\" structure that contains both the summary and detailed explanation of the planned work. \n",
    "\n",
    "It also seems like when there is a combination of planned work and delays the service status takes the above format (with spans for planned work and <P> for delays), but when there's only planned work the planned work goes straight into <P>'s as well.\n",
    "\n",
    "____\n",
    "\n",
    "It might make sense to search for planned work by looking for the span with class == PlannedWork and search for delays by looking for any <p> tag (with some characteristics? to know you may have to look at format for pure delay w/ no planned work)"
   ]
  },
  {
   "cell_type": "code",
   "execution_count": 12,
   "metadata": {
    "collapsed": false
   },
   "outputs": [
    {
     "ename": "NameError",
     "evalue": "name 'soup_123' is not defined",
     "output_type": "error",
     "traceback": [
      "\u001b[0;31m---------------------------------------------------------------------------\u001b[0m",
      "\u001b[0;31mNameError\u001b[0m                                 Traceback (most recent call last)",
      "\u001b[0;32m<ipython-input-12-7da8ba807182>\u001b[0m in \u001b[0;36m<module>\u001b[0;34m()\u001b[0m\n\u001b[1;32m      2\u001b[0m \u001b[0;31m# the span class\u001b[0m\u001b[0;34m\u001b[0m\u001b[0;34m\u001b[0m\u001b[0m\n\u001b[1;32m      3\u001b[0m \u001b[0;34m\u001b[0m\u001b[0m\n\u001b[0;32m----> 4\u001b[0;31m \u001b[0;32mfor\u001b[0m \u001b[0msp\u001b[0m \u001b[0;32min\u001b[0m \u001b[0msoup_123\u001b[0m\u001b[0;34m.\u001b[0m\u001b[0mfind_all\u001b[0m\u001b[0;34m(\u001b[0m\u001b[0;34m'span'\u001b[0m\u001b[0;34m)\u001b[0m\u001b[0;34m:\u001b[0m\u001b[0;34m\u001b[0m\u001b[0m\n\u001b[0m\u001b[1;32m      5\u001b[0m     \u001b[0mprint\u001b[0m\u001b[0;34m(\u001b[0m\u001b[0msp\u001b[0m\u001b[0;34m,\u001b[0m \u001b[0msp\u001b[0m\u001b[0;34m.\u001b[0m\u001b[0mtext\u001b[0m\u001b[0;34m)\u001b[0m\u001b[0;34m\u001b[0m\u001b[0m\n",
      "\u001b[0;31mNameError\u001b[0m: name 'soup_123' is not defined"
     ]
    }
   ],
   "source": [
    "# it seems like planned work is kept in \"spans\" \n",
    "# the span class \n",
    "\n",
    "for sp in soup_123.find_all('span'):\n",
    "    print(sp, sp.text)"
   ]
  },
  {
   "cell_type": "code",
   "execution_count": 13,
   "metadata": {
    "collapsed": false
   },
   "outputs": [
    {
     "ename": "NameError",
     "evalue": "name 'soup_123' is not defined",
     "output_type": "error",
     "traceback": [
      "\u001b[0;31m---------------------------------------------------------------------------\u001b[0m",
      "\u001b[0;31mNameError\u001b[0m                                 Traceback (most recent call last)",
      "\u001b[0;32m<ipython-input-13-7f6aed21f31d>\u001b[0m in \u001b[0;36m<module>\u001b[0;34m()\u001b[0m\n\u001b[0;32m----> 1\u001b[0;31m \u001b[0mprint\u001b[0m\u001b[0;34m(\u001b[0m\u001b[0msoup_123\u001b[0m\u001b[0;34m)\u001b[0m\u001b[0;34m\u001b[0m\u001b[0m\n\u001b[0m",
      "\u001b[0;31mNameError\u001b[0m: name 'soup_123' is not defined"
     ]
    }
   ],
   "source": [
    "print(soup_123)"
   ]
  },
  {
   "cell_type": "code",
   "execution_count": 14,
   "metadata": {
    "collapsed": false
   },
   "outputs": [
    {
     "ename": "NameError",
     "evalue": "name 'soup_123' is not defined",
     "output_type": "error",
     "traceback": [
      "\u001b[0;31m---------------------------------------------------------------------------\u001b[0m",
      "\u001b[0;31mNameError\u001b[0m                                 Traceback (most recent call last)",
      "\u001b[0;32m<ipython-input-14-aaa3c79368bb>\u001b[0m in \u001b[0;36m<module>\u001b[0;34m()\u001b[0m\n\u001b[1;32m      1\u001b[0m \u001b[0;31m# general descriptions for Planned Work seem to be in \"a\" tags\u001b[0m\u001b[0;34m\u001b[0m\u001b[0;34m\u001b[0m\u001b[0m\n\u001b[0;32m----> 2\u001b[0;31m \u001b[0;32mfor\u001b[0m \u001b[0msp\u001b[0m \u001b[0;32min\u001b[0m \u001b[0msoup_123\u001b[0m\u001b[0;34m.\u001b[0m\u001b[0mfind_all\u001b[0m\u001b[0;34m(\u001b[0m\u001b[0;34m'a'\u001b[0m\u001b[0;34m)\u001b[0m\u001b[0;34m:\u001b[0m\u001b[0;34m\u001b[0m\u001b[0m\n\u001b[0m\u001b[1;32m      3\u001b[0m     \u001b[0mprint\u001b[0m\u001b[0;34m(\u001b[0m\u001b[0msp\u001b[0m\u001b[0;34m.\u001b[0m\u001b[0mtext\u001b[0m\u001b[0;34m)\u001b[0m\u001b[0;34m\u001b[0m\u001b[0m\n\u001b[1;32m      4\u001b[0m \u001b[0;34m\u001b[0m\u001b[0m\n",
      "\u001b[0;31mNameError\u001b[0m: name 'soup_123' is not defined"
     ]
    }
   ],
   "source": [
    "# general descriptions for Planned Work seem to be in \"a\" tags \n",
    "for sp in soup_123.find_all('a'):\n",
    "    print(sp.text)\n",
    "        "
   ]
  },
  {
   "cell_type": "code",
   "execution_count": 15,
   "metadata": {
    "collapsed": false
   },
   "outputs": [
    {
     "ename": "NameError",
     "evalue": "name 'soup_123' is not defined",
     "output_type": "error",
     "traceback": [
      "\u001b[0;31m---------------------------------------------------------------------------\u001b[0m",
      "\u001b[0;31mNameError\u001b[0m                                 Traceback (most recent call last)",
      "\u001b[0;32m<ipython-input-15-b32549c12c4c>\u001b[0m in \u001b[0;36m<module>\u001b[0;34m()\u001b[0m\n\u001b[1;32m      3\u001b[0m \u001b[0mposs_tags\u001b[0m \u001b[0;34m=\u001b[0m \u001b[0;34m[\u001b[0m\u001b[0;34m'a'\u001b[0m\u001b[0;34m,\u001b[0m\u001b[0;34m'div'\u001b[0m\u001b[0;34m]\u001b[0m\u001b[0;34m\u001b[0m\u001b[0m\n\u001b[1;32m      4\u001b[0m \u001b[0;34m\u001b[0m\u001b[0m\n\u001b[0;32m----> 5\u001b[0;31m \u001b[0mplannedwork_full\u001b[0m \u001b[0;34m=\u001b[0m \u001b[0msoup_123\u001b[0m\u001b[0;34m.\u001b[0m\u001b[0mfind_all\u001b[0m\u001b[0;34m(\u001b[0m\u001b[0mposs_tags\u001b[0m\u001b[0;34m,\u001b[0m\u001b[0;34m{\u001b[0m\u001b[0;34m'class'\u001b[0m \u001b[0;34m:\u001b[0m \u001b[0mposs_classnames\u001b[0m\u001b[0;34m}\u001b[0m\u001b[0;34m)\u001b[0m\u001b[0;34m\u001b[0m\u001b[0m\n\u001b[0m\u001b[1;32m      6\u001b[0m \u001b[0;31m# plannedwork_full type == <class 'bs4.element.ResultSet'>\u001b[0m\u001b[0;34m\u001b[0m\u001b[0;34m\u001b[0m\u001b[0m\n\u001b[1;32m      7\u001b[0m \u001b[0;34m\u001b[0m\u001b[0m\n",
      "\u001b[0;31mNameError\u001b[0m: name 'soup_123' is not defined"
     ]
    }
   ],
   "source": [
    "# the following pulls out the text for planned work summary links and more detailed explanation\n",
    "poss_classnames = ['plannedWorkDetailLink','plannedWorkDetail']\n",
    "poss_tags = ['a','div']\n",
    "\n",
    "plannedwork_full = soup_123.find_all(poss_tags,{'class' : poss_classnames})\n",
    "# plannedwork_full type == <class 'bs4.element.ResultSet'>\n",
    "\n",
    "for ea  in plannedwork_full: print(ea.text)"
   ]
  },
  {
   "cell_type": "code",
   "execution_count": 16,
   "metadata": {
    "collapsed": false
   },
   "outputs": [
    {
     "ename": "NameError",
     "evalue": "name 'soup_123' is not defined",
     "output_type": "error",
     "traceback": [
      "\u001b[0;31m---------------------------------------------------------------------------\u001b[0m",
      "\u001b[0;31mNameError\u001b[0m                                 Traceback (most recent call last)",
      "\u001b[0;32m<ipython-input-16-bde74ae2faf1>\u001b[0m in \u001b[0;36m<module>\u001b[0;34m()\u001b[0m\n\u001b[1;32m      1\u001b[0m \u001b[0;31m# looking for a nicer way to do this - ie return proper formatting\u001b[0m\u001b[0;34m\u001b[0m\u001b[0;34m\u001b[0m\u001b[0m\n\u001b[1;32m      2\u001b[0m \u001b[0;34m\u001b[0m\u001b[0m\n\u001b[0;32m----> 3\u001b[0;31m \u001b[0;32mfor\u001b[0m \u001b[0ma_summ\u001b[0m \u001b[0;32min\u001b[0m \u001b[0msoup_123\u001b[0m\u001b[0;34m.\u001b[0m\u001b[0mfind_all\u001b[0m\u001b[0;34m(\u001b[0m\u001b[0;34m'a'\u001b[0m\u001b[0;34m,\u001b[0m \u001b[0;34m{\u001b[0m\u001b[0;34m'class'\u001b[0m\u001b[0;34m:\u001b[0m\u001b[0;34m'plannedWorkDetailLink'\u001b[0m\u001b[0;34m}\u001b[0m\u001b[0;34m)\u001b[0m\u001b[0;34m:\u001b[0m\u001b[0;34m\u001b[0m\u001b[0m\n\u001b[0m\u001b[1;32m      4\u001b[0m     \u001b[0mpw_summtext\u001b[0m \u001b[0;34m=\u001b[0m \u001b[0ma_summ\u001b[0m\u001b[0;34m.\u001b[0m\u001b[0mtext\u001b[0m\u001b[0;34m\u001b[0m\u001b[0m\n\u001b[1;32m      5\u001b[0m     \u001b[0mnext_div\u001b[0m \u001b[0;34m=\u001b[0m \u001b[0ma_summ\u001b[0m\u001b[0;34m.\u001b[0m\u001b[0mfind_next\u001b[0m\u001b[0;34m(\u001b[0m\u001b[0;34m'div'\u001b[0m\u001b[0;34m)\u001b[0m\u001b[0;34m.\u001b[0m\u001b[0mtext\u001b[0m\u001b[0;34m\u001b[0m\u001b[0m\n",
      "\u001b[0;31mNameError\u001b[0m: name 'soup_123' is not defined"
     ]
    }
   ],
   "source": [
    "# looking for a nicer way to do this - ie return proper formatting \n",
    "\n",
    "for a_summ in soup_123.find_all('a', {'class':'plannedWorkDetailLink'}):\n",
    "    pw_summtext = a_summ.text\n",
    "    next_div = a_summ.find_next('div').text\n",
    "    \n",
    "    print(pw_summtext,'\\n', next_div, '\\n')\n"
   ]
  },
  {
   "cell_type": "markdown",
   "metadata": {},
   "source": [
    "## Planned Work Functions below"
   ]
  },
  {
   "cell_type": "code",
   "execution_count": 17,
   "metadata": {
    "collapsed": false
   },
   "outputs": [],
   "source": [
    "# turn nicer way into a funciton \n",
    "# soup must always be the beautifulsoup of that line's service status text \n",
    "\n",
    "def plannedWork_Simple(line_servicestatus_soup):\n",
    "    \n",
    "    tag_options = ['span']\n",
    "    classname_options = ['TitlePlannedWork']\n",
    "    subtag_options = ['p']\n",
    "\n",
    "    for spans in line_servicestatus_soup.find_all(tag_options, {'class':classname_options}):\n",
    "        subs = spans.find_all_next(subtag_options)\n",
    "        for each in subs:\n",
    "            print(each.text)\n",
    "\n",
    "    "
   ]
  },
  {
   "cell_type": "code",
   "execution_count": 18,
   "metadata": {
    "collapsed": true
   },
   "outputs": [],
   "source": [
    "# this works for printing summary line, and not when planned work is a span\n",
    "def plannedWork_Detail(line_servicestatus_soup):\n",
    "    \n",
    "    tag_options = ['a']\n",
    "    classname_options = ['plannedWorkDetailLink']\n",
    "    subtag_options = ['div','p']\n",
    "    \n",
    "    for a_summ in line_servicestatus_soup.find_all(tag_options, {'class':classname_options}):\n",
    "        pw_summtext = a_summ.text\n",
    "\n",
    "    \n",
    "        #print(pw_summtext,'\\n', next_div, '\\n')\n",
    "        print(pw_summtext)\n",
    "        \n",
    "        \n"
   ]
  },
  {
   "cell_type": "markdown",
   "metadata": {},
   "source": [
    "The block below is imporant! It demonstrates many of the processes developed / sketched out above and also implements some functions defined above. "
   ]
  },
  {
   "cell_type": "code",
   "execution_count": 19,
   "metadata": {
    "collapsed": false
   },
   "outputs": [
    {
     "name": "stdout",
     "output_type": "stream",
     "text": [
      "123 :  PLANNED WORK\n",
      "TRACK MAINTENANCE[3] Downtown trains run local from 96 St to Times Sq-42 St\n",
      "TRACK MAINTENANCE[2] Downtown trains run local from 96 St to Times Sq-42 St\n",
      "TUNNEL RECONSTRUCTION  Weekend [2] [3] station closures and route changes\n",
      "TRACK MAINTENANCE[1] South Ferry-bound trains skip 125, 116, 110 and 103 Sts\n",
      "TRACK REPLACEMENT[1] Van Cortlandt Park-bound trains skip 50 St, 59 St and 66 St\n",
      "\n",
      "\n",
      "456 :  PLANNED WORK\n",
      "TRACK MAINTENANCE[6] Pelham Bay Park-bound trains skip 51, 68, 77, 96, 103, 110 and 116 Sts\n",
      "TRACK MAINTENANCE[5] Downtown trains run local from 125 St to Brooklyn Bridge\n",
      "ELECTRICAL IMPROVEMENTS[5] Manhattan-bound trains skip Eastern Pkwy, Grand Army Plaza and Bergen St\n",
      "TRACK MAINTENANCE[4] Downtown trains run local from 125 St to Brooklyn Bridge\n",
      "TRACK REPLACEMENT[4] Service operates every 16 minutes between 125 St and Woodlawn\n",
      "ELECTRICAL IMPROVEMENTS[4] Woodlawn-bound trains run express from Utica Av to Atlantic Av-Barclays Ctr\n",
      "TRACK REPLACEMENT[4] Uptown trains skip 161 St, 167 St, 170 St, Mt Eden Av and 176 St\n",
      "\n",
      "\n",
      "7 :  PLANNED WORK\n",
      "TRACK REPLACEMENT[7] Flushing-bound trains skip 82, 90, 103 and 111 Sts\n",
      "\n",
      "\n",
      "ACE :  PLANNED WORK\n",
      "TRACK REPLACEMENT[E] No trains between W 4 St and World Trade Center[A] [C] trains provide alternate service\n",
      "ELECTRICAL IMPROVEMENTS[C] Euclid Av-bound trains skip 163, 155, 135, 116, 110, 103, 96, 86, 81 and 72 Sts\n",
      "TRACK REPLACEMENT[C] 168 St-bound trains skip Spring St, 23 St and 50 St\n",
      "TRACK REPLACEMENT[A] No trains between Broad Channel and Mott Av\n",
      "\n",
      "\n",
      "BDFM :  PLANNED WORK\n",
      "ELECTRICAL IMPROVEMENTS[F] Coney Island-bound trains skip 23 St and 14 St\n",
      "SIGNAL MAINTENANCE[D] No trains between Bay Pkwy and Stillwell Av\n",
      "TRACK MAINTENANCE[D] Norwood-bound trains skip 170 St, 174-175 Sts and 182-183 Sts\n",
      "\n",
      "\n",
      "G :  PLANNED WORK\n",
      "STRUCTURAL IMPROVEMENTS[G] No trains between Hoyt-Schermerhorn and Church Av Service operates in two sections\n",
      "\n",
      "\n",
      "NQR :  DELAYS\n",
      "TRACK MAINTENANCE[R] Forest Hills-bound trains skip 36 St, Steinway St, 46 St, Northern Blvd and 65 St\n",
      "TRACK REPLACEMENT[R] Bay Ridge-bound trains skip 67 Av, 63 Dr, Woodhaven Blvd, Grand Av and Elmhurst Av\n",
      "SIGNAL MAINTENANCE[N] No trains between 36 St and Stillwell Av\n",
      "\n",
      "\n",
      "S :  PLANNED WORK\n",
      "TRACK REPLACEMENT[A] Trains replace the [S] Rockaway Park Shuttle\n",
      "\n",
      "\n"
     ]
    }
   ],
   "source": [
    "# below prints all the planned work for all train lines where service status != 'GOOD SERVICE'\n",
    "# this will be much more useful triggered for an individual line\n",
    "# line 11 below takes the line status text from the XML tree object and passes it to beautiful soup, which is used for parsing that html\n",
    "\n",
    "for ea in lines_len:\n",
    "    if root[2][ea][1].text != 'GOOD SERVICE':\n",
    "        \n",
    "        line_name = root[2][ea][0].text\n",
    "        line_current_status = root[2][ea][1].text\n",
    "        line_status_txt = root[2][ea][2].text\n",
    "        line_status_soup = BeautifulSoup(line_status_txt, 'lxml')\n",
    "        \n",
    "        print(line_name, ': ',line_current_status)\n",
    "        \n",
    "        \n",
    "        if len(line_status_soup.find_all('a', {'class':'plannedWorkDetailLink'})) < 1:\n",
    "            plannedWork_Simple(line_status_soup)\n",
    "            \n",
    "        else:\n",
    "            plannedWork_Detail(line_status_soup)\n",
    "            \n",
    "        print('\\n')\n",
    "        \n",
    "    else:\n",
    "        pass\n",
    "    "
   ]
  },
  {
   "cell_type": "markdown",
   "metadata": {},
   "source": [
    "## Print Delays function below\n",
    "\n",
    "...still need to draw in date/time delay was posted\n",
    "... also fix for SIR / when there is no <p> tag for delay info "
   ]
  },
  {
   "cell_type": "code",
   "execution_count": 20,
   "metadata": {
    "collapsed": false
   },
   "outputs": [],
   "source": [
    "## Scratch! \n",
    "# print delay info for a given line\n",
    "# this seems to work for any trains that have delays, challenge will be making sure\n",
    "    #to only apply it to trains with delays, becasue it returns contern for all trains with service changes\n",
    "statusBDFM_str = root[2][8][2].text\n",
    "soup_BDFM = BeautifulSoup(statusBDFM_str, 'lxml')\n",
    "\n",
    "for del1 in soup_BDFM.find_all('span', {'class': 'TitleDelay'}):\n",
    "    delay_deets = del1.find_all_next('p')\n",
    "    for dels in delay_deets:\n",
    "        print(dels.text)"
   ]
  },
  {
   "cell_type": "code",
   "execution_count": 25,
   "metadata": {
    "collapsed": true
   },
   "outputs": [],
   "source": [
    "# \n",
    "\n",
    "def delays_print(line_servicestatus_soup):\n",
    "    \n",
    "    for del1 in line_servicestatus_soup.find_all('span', {'class': 'TitleDelay'}):\n",
    "        \n",
    "        # below checks that the delay description is contained in <p> tags\n",
    "        # if problems arise change find_next_siblings to find_all\n",
    "        if len(del1.find_all('p')) > 0:\n",
    "            \n",
    "            \n",
    "            delay_deets = del1.find_all('p')\n",
    "            for dels in delay_deets:\n",
    "                print(dels.text)\n",
    "            \n",
    "            print('\\n')\n",
    "            \n",
    "            \n",
    "        else:\n",
    "            #this needs to be fixed to deal with delays with no tags! (SIR example)\n",
    "            print(''.join(line_servicestatus_soup.find_all(text=True)[3:5]).strip())\n",
    "            #''.join(soup.find_all(text=True, recursive=False)).strip()\n",
    "            \n",
    "            "
   ]
  },
  {
   "cell_type": "code",
   "execution_count": 26,
   "metadata": {
    "collapsed": false
   },
   "outputs": [
    {
     "name": "stdout",
     "output_type": "stream",
     "text": [
      "NQR :  DELAYS\n",
      "[R] train service has resumed following an earlier incident involving debris on the tracks at 86 St.\n"
     ]
    }
   ],
   "source": [
    "# implementation\n",
    "\n",
    "\n",
    "for ea in lines_len:\n",
    "    if root[2][ea][1].text == 'DELAYS':\n",
    "\n",
    "        # get line name and service status\n",
    "        line_name = root[2][ea][0].text\n",
    "        line_current_status = root[2][ea][1].text\n",
    "        \n",
    "        # get service status text and convert to BeautifulSoup obj\n",
    "        line_status_txt = root[2][ea][2].text\n",
    "        line_status_soup = BeautifulSoup(line_status_txt, 'lxml')\n",
    "\n",
    "        print(line_name, ': ',line_current_status)\n",
    "        delays_print(line_status_soup)\n",
    "    \n",
    "    else:\n",
    "        pass \n"
   ]
  },
  {
   "cell_type": "code",
   "execution_count": 24,
   "metadata": {
    "collapsed": false
   },
   "outputs": [
    {
     "data": {
      "text/plain": [
       "<html><body><span class=\"TitleDelay\">Delays</span>\n",
       "<span class=\"DateStyle\">\n",
       "                     Posted: 11/26/2017  4:22PM\n",
       "                    </span><br/><br/>\n",
       "                  [R] train service has resumed following an earlier incident involving debris on the tracks at <strong>86 St.</strong>\n",
       "<br/><br/>\n",
       "<span class=\"TitlePlannedWork\">Planned Work</span>\n",
       "<br/>\n",
       "<a class=\"plannedWorkDetailLink\" onclick=\"ShowHide(174008);\"><b><i>TRACK MAINTENANCE</i><br clear=\"left\"/>[R] Forest Hills-bound trains skip 36 St, Steinway St, 46 St, Northern Blvd and 65 St</b></a><br/><br/><div class=\"plannedWorkDetail\" id=\"174008\"><a href=\"http://advisory.mtanyct.info/pdf_files/ServiceGuide.pdf\" target=\"_blank\"><font color=\"#0000FF\">Weekend</font></a>, Saturday <i>and</i> Sunday, Nov 25 - 26 <br/><br/>For service <i>to </i>these stations, take the [R] to Roosevelt Av and transfer to a Bay Ridge-bound [R].<br/><br/>For service <i>from </i>these stations, take the [R] to Queens Plaza and transfer to a Forest Hills-bound [R].<br/><b><br/></b></div><br/>\n",
       "<br/><br/>\n",
       "<span class=\"TitlePlannedWork\">Planned Work</span>\n",
       "<br/>\n",
       "<a class=\"plannedWorkDetailLink\" onclick=\"ShowHide(171616);\"><b><i>TRACK REPLACEMENT</i><br clear=\"left\"/>[R] Bay Ridge-bound trains skip 67 Av, 63 Dr, Woodhaven Blvd, Grand Av and Elmhurst Av</b></a><br/><br/><div class=\"plannedWorkDetail\" id=\"171616\"><a href=\"http://advisory.mtanyct.info/pdf_files/ServiceGuide.pdf\" target=\"_blank\"><font color=\"#0000FF\">Weekend</font></a>, Saturday <i>and</i> Sunday, Nov 25 - 26<br/><br/>For service <i>to</i> these stations, take the [R] to Roosevelt Av and transfer to a Forest Hills-bound [R].<br/><br/>For service <i>from</i> these stations, take the [R] to 71 Av and transfer to a Bay Ridge-bound [R].<br/><b><br/></b></div><br/>\n",
       "<br/><br/>\n",
       "<span class=\"TitlePlannedWork\">Planned Work</span>\n",
       "<br/>\n",
       "<a class=\"plannedWorkDetailLink\" onclick=\"ShowHide(173683);\"><b><i>SIGNAL MAINTENANCE</i><br clear=\"left\"/>[N] No trains between 36 St and Stillwell Av</b></a><br/><br/><div class=\"plannedWorkDetail\" id=\"173683\">[D] [R] trains and [SB] free shuttle buses provide alternate service<br/>Weekend, 4:45 AM to 7 PM, Sunday, Nov 26<br/><br/>[N] trains operate between Ditmars Blvd and 36 St, Brooklyn and via the [D] to/from 9 Av, <i>the last stop</i>.<br/><br/><b>[SB]</b> Buses operate between <b>Stillwell Av</b> and <b>59 St</b> stopping at<b> 8 Av, Fort Hamilton Pkwy, <br/>New Utrecht, 18, 20 Avs, Bay Pkwy, Kings Hwy, Avenue U </b>and<b> 86 St.<br/><br/>[R]</b> trains provide alternate service at <b>59 St</b>, <b>53 St</b>, <b>45 St</b> and <b>36 St</b>.<br/><br/>Take the [D] for 62 St/New Utrecht Av.<br/><br/><table class=\"plannedworkTableStyle\" width=\"70%&lt;tr\"><td><font size=\"3\"><b>Travel Alternatives</b></font></td><td align=\"right\">[TP]</td></table><br/>• Transfer between <b>[N]</b> and <b>[D] [R]</b> trains at <b>36 St</b>.<br/>• Transfer between <b>[R]</b> trains and <b>[SB]</b> buses at <b>59 St</b>.<br/>• Transfer between <b>[D]</b> trains and <b>[SB]</b> buses at <b>New Utrecht Av/62 St</b>.<br/><br/><br/><font size=\"3\"><b><a onclick=\"ShowHide(1736830);\" style=\"cursor:pointer; text-decoration:underline;\">Show Shuttle Bus Stops</a></b></font><div id=\"1736830\" style=\"display:none;\"><table border=\"1\" cellpadding=\"3\" cellspacing=\"1\" class=\"plannedworkTableStyle\" frame=\"hsides\" rules=\"rows\" width=\"70%\"><br/><tr bgcolor=\"FAF8CC\"><td><b>Station</b></td><td><b>Shuttle Bus Stop</b></td><td><b>Bus<br/></b></td></tr><tr><td>59 St [R]</td><td>4 Av at 59 St</td><td>—</td></tr><tr><td>8 Av</td><td>60 St at 8 Av</td><td><b>B9<br/></b></td></tr><tr><td>Fort Hamilton Pkwy</td><td>60 St at Fort Hamilton Pkwy</td><td><b>B9<br/></b></td></tr><tr><td>62 St/New Utrecht Av [D]</td><td>New Utrecht Av at 62 St</td><td>—<br/></td></tr><tr><td>18 Av</td><td>65 St at 18 Av</td><td>—</td></tr><tr><td>20 Av</td><td>65 St at 20 Av</td><td>—<br/></td></tr><tr><td rowspan=\"2\">Bay Pkwy  [ad] </td><td>Bay Pkwy at W 7 St (to 36 St)</td><td><b>B82<br/></b></td></tr><tr><td>Bay Pkwy at 65 St (to Stillwell Av)</td><td><b>B6<br/></b></td></tr><tr><td>Kings Hwy</td><td>Kings Hwy at W 7 St</td><td><b>B82<br/></b></td></tr><tr><td>Avenue U</td><td>W 6 St at Avenue U</td><td>—<br/></td></tr><tr><td rowspan=\"2\">86 St</td><td>W 6 St at 86 St (to 36 St)</td><td>—<br/></td></tr><tr><td>W 6 St at Avenue W (to Stillwell Av)</td><td>—<br/></td></tr><tr><td>Stillwell Av [ad] [F] [N] </td><td>Surf Av at Stillwell Av</td><td><b>B36</b></td></tr></table></div> <br/> <br/><b>Reminder:</b> Coney Island-bound platforms at Fort Hamilton Pkwy, New Utrecht Av, 18 Av, 20 Av, Kings Hwy,<br/>Avenue U, and 86 St are closed for renovation.<br/><b><br/></b></div><br/>\n",
       "<br/><br/>\n",
       "</body></html>"
      ]
     },
     "execution_count": 24,
     "metadata": {},
     "output_type": "execute_result"
    }
   ],
   "source": [
    "line_status_soup4 = BeautifulSoup(root[2][8][2].text, 'lxml')\n",
    "line_status_soup4"
   ]
  },
  {
   "cell_type": "code",
   "execution_count": null,
   "metadata": {
    "collapsed": true
   },
   "outputs": [],
   "source": []
  }
 ],
 "metadata": {
  "kernelspec": {
   "display_name": "Python 3",
   "language": "python",
   "name": "python3"
  },
  "language_info": {
   "codemirror_mode": {
    "name": "ipython",
    "version": 3
   },
   "file_extension": ".py",
   "mimetype": "text/x-python",
   "name": "python",
   "nbconvert_exporter": "python",
   "pygments_lexer": "ipython3",
   "version": "3.6.0"
  }
 },
 "nbformat": 4,
 "nbformat_minor": 2
}
